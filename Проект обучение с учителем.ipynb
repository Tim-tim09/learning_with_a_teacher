{
 "cells": [
  {
   "cell_type": "markdown",
   "metadata": {
    "id": "H6cQIZr3ElW1"
   },
   "source": [
    "**План выполнения проекта: Персонализация предложений для постоянных клиентов интернет-магазина «В один клик»**\n",
    "\n",
    "---\n",
    "Шаг 1. Загрузка данных\n",
    "- **1.1** Загрузить все необходимые таблицы:  \n",
    "  - `/datasets/market_file.csv`  \n",
    "  - `/datasets/market_money.csv`  \n",
    "  - `/datasets/market_time.csv`  \n",
    "  - `/datasets/money.csv`  \n",
    "- **1.2** Проверить структуру и соответствие данных описанию.\n",
    "\n",
    "Шаг 2. Предобработка данных\n",
    "- Привести типы данных к корректным форматам.\n",
    "- Обработать пропуски и аномалии.\n",
    "- Оставить названия столбцов на кириллице.\n",
    "- Проверить уникальность идентификаторов клиентов.\n",
    "\n",
    "Шаг 3. Исследовательский анализ данных (EDA)\n",
    "- Провести обзор данных в каждой таблице.\n",
    "- Проанализировать распределения, выявить выбросы.\n",
    "- Отобрать клиентов с активностью не менее трёх месяцев.\n",
    "- Сформулировать основные выводы по данным.\n",
    "\n",
    "Шаг 4. Объединение таблиц\n",
    "- **4.1** Объединить таблицы `market_file.csv`, `market_money.csv`, `market_time.csv` по `id`.\n",
    "- **4.2** Трансформировать столбцы с периодами: создать отдельные столбцы для каждого периода (например, выручка и время на сайте по месяцам).\n",
    "- Исключить данные о прибыли (`money.csv`) на этапе моделирования.\n",
    "\n",
    "Шаг 5. Корреляционный анализ\n",
    "- Провести корреляционный анализ количественных признаков итоговой таблицы.\n",
    "- Проверить на наличие мультиколлинеарности, при необходимости — устранить её.\n",
    "- Сделать выводы о зависимости между признаками.\n",
    "\n",
    "Шаг 6. Моделирование с использованием пайплайнов\n",
    "- **6.1** Создать пайплайны с использованием `ColumnTransformer`:\n",
    "  - Отдельная обработка количественных и категориальных признаков.\n",
    "  - Применить не менее двух методов кодирования и двух скейлеров.\n",
    "- **6.2** Обучить 4 модели:  \n",
    "  - `KNeighborsClassifier()`\n",
    "  - `DecisionTreeClassifier()`\n",
    "  - `LogisticRegression()`\n",
    "  - `SVC()`\n",
    "- Провести подбор как минимум одного гиперпараметра для каждой модели.\n",
    "- Обосновать и выбрать основную метрику (например, `F1-score`).\n",
    "- **6.3** Выбрать лучшую модель на основе метрики.\n",
    "\n",
    "Шаг 7. Анализ важности признаков\n",
    "- Оценить важность признаков для лучшей модели (например, с помощью SHAP).\n",
    "- Визуализировать важность признаков.\n",
    "- Сделать выводы о значимости факторов.\n",
    "\n",
    "Шаг 8. Сегментация покупателей и предложения\n",
    "- **8.1** Выполнить сегментацию покупателей по данным модели и прибыли (из `money.csv`).\n",
    "- **8.2** Выбрать сегмент для анализа (например, с высокой вероятностью снижения активности или высокой прибылью).\n",
    "  - Провести графический и аналитический анализ.\n",
    "  - Разработать персонализированные предложения для выбранного сегмента.\n",
    "- **8.3** Сделать выводы по сегменту и предложенным мерам.\n",
    "\n",
    "Шаг 9. Общий вывод\n",
    "- Сформулировать:\n",
    "  - поставленную задачу;\n",
    "  - особенности данных и предобработки;\n",
    "  - подход к моделированию и выбор лучшей модели;\n",
    "  - результаты анализа сегментов и бизнес-предложения;\n",
    "  - рекомендации для дальнейшей работы.\n",
    "\n",
    "---\n",
    "\n",
    "> **Примечание:** Все шаги сопровождаются промежуточными выводами и визуализациями, где это необходимо.\n"
   ]
  },
  {
   "cell_type": "markdown",
   "metadata": {},
   "source": [
    "**Импорт библиотек**"
   ]
  },
  {
   "cell_type": "code",
   "execution_count": 1,
   "metadata": {},
   "outputs": [
    {
     "name": "stdout",
     "output_type": "stream",
     "text": [
      "Requirement already satisfied: phik in /opt/conda/lib/python3.9/site-packages (0.12.4)\n",
      "Requirement already satisfied: matplotlib>=2.2.3 in /opt/conda/lib/python3.9/site-packages (from phik) (3.5.1)\n",
      "Requirement already satisfied: joblib>=0.14.1 in /opt/conda/lib/python3.9/site-packages (from phik) (1.5.1)\n",
      "Requirement already satisfied: pandas>=0.25.1 in /opt/conda/lib/python3.9/site-packages (from phik) (1.2.4)\n",
      "Requirement already satisfied: scipy>=1.5.2 in /opt/conda/lib/python3.9/site-packages (from phik) (1.9.1)\n",
      "Requirement already satisfied: numpy>=1.18.0 in /opt/conda/lib/python3.9/site-packages (from phik) (1.21.1)\n",
      "Requirement already satisfied: packaging>=20.0 in /opt/conda/lib/python3.9/site-packages (from matplotlib>=2.2.3->phik) (21.3)\n",
      "Requirement already satisfied: kiwisolver>=1.0.1 in /opt/conda/lib/python3.9/site-packages (from matplotlib>=2.2.3->phik) (1.4.4)\n",
      "Requirement already satisfied: pillow>=6.2.0 in /opt/conda/lib/python3.9/site-packages (from matplotlib>=2.2.3->phik) (8.4.0)\n",
      "Requirement already satisfied: pyparsing>=2.2.1 in /opt/conda/lib/python3.9/site-packages (from matplotlib>=2.2.3->phik) (2.4.7)\n",
      "Requirement already satisfied: fonttools>=4.22.0 in /opt/conda/lib/python3.9/site-packages (from matplotlib>=2.2.3->phik) (4.58.4)\n",
      "Requirement already satisfied: python-dateutil>=2.7 in /opt/conda/lib/python3.9/site-packages (from matplotlib>=2.2.3->phik) (2.8.1)\n",
      "Requirement already satisfied: cycler>=0.10 in /opt/conda/lib/python3.9/site-packages (from matplotlib>=2.2.3->phik) (0.11.0)\n",
      "Requirement already satisfied: pytz>=2017.3 in /opt/conda/lib/python3.9/site-packages (from pandas>=0.25.1->phik) (2021.1)\n",
      "Requirement already satisfied: six>=1.5 in /opt/conda/lib/python3.9/site-packages (from python-dateutil>=2.7->matplotlib>=2.2.3->phik) (1.16.0)\n"
     ]
    }
   ],
   "source": [
    "!pip install phik"
   ]
  },
  {
   "cell_type": "code",
   "execution_count": 2,
   "metadata": {},
   "outputs": [
    {
     "name": "stdout",
     "output_type": "stream",
     "text": [
      "Requirement already satisfied: shap in /opt/conda/lib/python3.9/site-packages (0.48.0)\n",
      "Requirement already satisfied: scipy in /opt/conda/lib/python3.9/site-packages (from shap) (1.9.1)\n",
      "Requirement already satisfied: pandas in /opt/conda/lib/python3.9/site-packages (from shap) (1.2.4)\n",
      "Requirement already satisfied: cloudpickle in /opt/conda/lib/python3.9/site-packages (from shap) (3.1.1)\n",
      "Requirement already satisfied: numpy in /opt/conda/lib/python3.9/site-packages (from shap) (1.21.1)\n",
      "Requirement already satisfied: typing-extensions in /opt/conda/lib/python3.9/site-packages (from shap) (4.3.0)\n",
      "Requirement already satisfied: tqdm>=4.27.0 in /opt/conda/lib/python3.9/site-packages (from shap) (4.61.2)\n",
      "Requirement already satisfied: packaging>20.9 in /opt/conda/lib/python3.9/site-packages (from shap) (21.3)\n",
      "Requirement already satisfied: slicer==0.0.8 in /opt/conda/lib/python3.9/site-packages (from shap) (0.0.8)\n",
      "Requirement already satisfied: scikit-learn in /opt/conda/lib/python3.9/site-packages (from shap) (1.6.1)\n",
      "Requirement already satisfied: numba>=0.54 in /opt/conda/lib/python3.9/site-packages (from shap) (0.56.0)\n",
      "Requirement already satisfied: setuptools in /opt/conda/lib/python3.9/site-packages (from numba>=0.54->shap) (49.6.0.post20210108)\n",
      "Requirement already satisfied: llvmlite<0.40,>=0.39.0dev0 in /opt/conda/lib/python3.9/site-packages (from numba>=0.54->shap) (0.39.0)\n",
      "Requirement already satisfied: pyparsing!=3.0.5,>=2.0.2 in /opt/conda/lib/python3.9/site-packages (from packaging>20.9->shap) (2.4.7)\n",
      "Requirement already satisfied: python-dateutil>=2.7.3 in /opt/conda/lib/python3.9/site-packages (from pandas->shap) (2.8.1)\n",
      "Requirement already satisfied: pytz>=2017.3 in /opt/conda/lib/python3.9/site-packages (from pandas->shap) (2021.1)\n",
      "Requirement already satisfied: six>=1.5 in /opt/conda/lib/python3.9/site-packages (from python-dateutil>=2.7.3->pandas->shap) (1.16.0)\n",
      "Requirement already satisfied: joblib>=1.2.0 in /opt/conda/lib/python3.9/site-packages (from scikit-learn->shap) (1.5.1)\n",
      "Requirement already satisfied: threadpoolctl>=3.1.0 in /opt/conda/lib/python3.9/site-packages (from scikit-learn->shap) (3.1.0)\n"
     ]
    }
   ],
   "source": [
    "!pip install shap"
   ]
  },
  {
   "cell_type": "code",
   "execution_count": 3,
   "metadata": {},
   "outputs": [
    {
     "name": "stdout",
     "output_type": "stream",
     "text": [
      "Requirement already satisfied: scikit-learn in /opt/conda/lib/python3.9/site-packages (1.6.1)\n",
      "Requirement already satisfied: joblib>=1.2.0 in /opt/conda/lib/python3.9/site-packages (from scikit-learn) (1.5.1)\n",
      "Requirement already satisfied: numpy>=1.19.5 in /opt/conda/lib/python3.9/site-packages (from scikit-learn) (1.21.1)\n",
      "Requirement already satisfied: scipy>=1.6.0 in /opt/conda/lib/python3.9/site-packages (from scikit-learn) (1.9.1)\n",
      "Requirement already satisfied: threadpoolctl>=3.1.0 in /opt/conda/lib/python3.9/site-packages (from scikit-learn) (3.1.0)\n"
     ]
    }
   ],
   "source": [
    "!pip install scikit-learn --upgrade"
   ]
  },
  {
   "cell_type": "code",
   "execution_count": 4,
   "metadata": {},
   "outputs": [
    {
     "name": "stdout",
     "output_type": "stream",
     "text": [
      "Requirement already satisfied: matplotlib==3.5.1 in /opt/conda/lib/python3.9/site-packages (3.5.1)\n",
      "Requirement already satisfied: numpy>=1.17 in /opt/conda/lib/python3.9/site-packages (from matplotlib==3.5.1) (1.21.1)\n",
      "Requirement already satisfied: pyparsing>=2.2.1 in /opt/conda/lib/python3.9/site-packages (from matplotlib==3.5.1) (2.4.7)\n",
      "Requirement already satisfied: packaging>=20.0 in /opt/conda/lib/python3.9/site-packages (from matplotlib==3.5.1) (21.3)\n",
      "Requirement already satisfied: kiwisolver>=1.0.1 in /opt/conda/lib/python3.9/site-packages (from matplotlib==3.5.1) (1.4.4)\n",
      "Requirement already satisfied: fonttools>=4.22.0 in /opt/conda/lib/python3.9/site-packages (from matplotlib==3.5.1) (4.58.4)\n",
      "Requirement already satisfied: pillow>=6.2.0 in /opt/conda/lib/python3.9/site-packages (from matplotlib==3.5.1) (8.4.0)\n",
      "Requirement already satisfied: cycler>=0.10 in /opt/conda/lib/python3.9/site-packages (from matplotlib==3.5.1) (0.11.0)\n",
      "Requirement already satisfied: python-dateutil>=2.7 in /opt/conda/lib/python3.9/site-packages (from matplotlib==3.5.1) (2.8.1)\n",
      "Requirement already satisfied: six>=1.5 in /opt/conda/lib/python3.9/site-packages (from python-dateutil>=2.7->matplotlib==3.5.1) (1.16.0)\n"
     ]
    }
   ],
   "source": [
    "!pip install matplotlib==3.5.1"
   ]
  },
  {
   "cell_type": "code",
   "execution_count": 5,
   "metadata": {},
   "outputs": [],
   "source": [
    "import pandas as pd\n",
    "import matplotlib.pyplot as plt\n",
    "import phik\n",
    "import numpy as np\n",
    "import seaborn as sns\n",
    "from sklearn.compose import ColumnTransformer\n",
    "from sklearn.preprocessing import OneHotEncoder, OrdinalEncoder, StandardScaler, MinMaxScaler\n",
    "from sklearn.impute import SimpleImputer\n",
    "from sklearn.pipeline import Pipeline\n",
    "from sklearn.neighbors import KNeighborsClassifier\n",
    "from sklearn.tree import DecisionTreeClassifier\n",
    "from sklearn.linear_model import LogisticRegression\n",
    "from sklearn.svm import SVC\n",
    "from sklearn.metrics import f1_score\n",
    "from sklearn.model_selection import train_test_split, GridSearchCV\n",
    "import shap"
   ]
  },
  {
   "cell_type": "markdown",
   "metadata": {},
   "source": [
    "Выключаю предупреждения, т.к. мешают"
   ]
  },
  {
   "cell_type": "code",
   "execution_count": 6,
   "metadata": {},
   "outputs": [],
   "source": [
    "import warnings\n",
    "warnings.filterwarnings(\"ignore\", category=FutureWarning)"
   ]
  },
  {
   "cell_type": "markdown",
   "metadata": {},
   "source": [
    "## Загрузка данных"
   ]
  },
  {
   "cell_type": "markdown",
   "metadata": {},
   "source": [
    "###  Загрузка файлов"
   ]
  },
  {
   "cell_type": "code",
   "execution_count": 7,
   "metadata": {},
   "outputs": [],
   "source": [
    "mf = pd.read_csv('/datasets/market_file.csv')\n",
    "mm = pd.read_csv('/datasets/market_money.csv')\n",
    "mt = pd.read_csv('/datasets/market_time.csv')\n",
    "mn = pd.read_csv('/datasets/money.csv', sep=';', decimal=',') "
   ]
  },
  {
   "cell_type": "markdown",
   "metadata": {},
   "source": [
    "### Проверка соответствия описанию"
   ]
  },
  {
   "cell_type": "code",
   "execution_count": 8,
   "metadata": {},
   "outputs": [
    {
     "data": {
      "text/html": [
       "<div>\n",
       "<style scoped>\n",
       "    .dataframe tbody tr th:only-of-type {\n",
       "        vertical-align: middle;\n",
       "    }\n",
       "\n",
       "    .dataframe tbody tr th {\n",
       "        vertical-align: top;\n",
       "    }\n",
       "\n",
       "    .dataframe thead th {\n",
       "        text-align: right;\n",
       "    }\n",
       "</style>\n",
       "<table border=\"1\" class=\"dataframe\">\n",
       "  <thead>\n",
       "    <tr style=\"text-align: right;\">\n",
       "      <th></th>\n",
       "      <th>id</th>\n",
       "      <th>Покупательская активность</th>\n",
       "      <th>Тип сервиса</th>\n",
       "      <th>Разрешить сообщать</th>\n",
       "      <th>Маркет_актив_6_мес</th>\n",
       "      <th>Маркет_актив_тек_мес</th>\n",
       "      <th>Длительность</th>\n",
       "      <th>Акционные_покупки</th>\n",
       "      <th>Популярная_категория</th>\n",
       "      <th>Средний_просмотр_категорий_за_визит</th>\n",
       "      <th>Неоплаченные_продукты_штук_квартал</th>\n",
       "      <th>Ошибка_сервиса</th>\n",
       "      <th>Страниц_за_визит</th>\n",
       "    </tr>\n",
       "  </thead>\n",
       "  <tbody>\n",
       "    <tr>\n",
       "      <th>0</th>\n",
       "      <td>215348</td>\n",
       "      <td>Снизилась</td>\n",
       "      <td>премиум</td>\n",
       "      <td>да</td>\n",
       "      <td>3.4</td>\n",
       "      <td>5</td>\n",
       "      <td>121</td>\n",
       "      <td>0.0</td>\n",
       "      <td>Товары для детей</td>\n",
       "      <td>6</td>\n",
       "      <td>2</td>\n",
       "      <td>1</td>\n",
       "      <td>5</td>\n",
       "    </tr>\n",
       "    <tr>\n",
       "      <th>1</th>\n",
       "      <td>215349</td>\n",
       "      <td>Снизилась</td>\n",
       "      <td>премиум</td>\n",
       "      <td>да</td>\n",
       "      <td>4.4</td>\n",
       "      <td>4</td>\n",
       "      <td>819</td>\n",
       "      <td>0.75</td>\n",
       "      <td>Товары для детей</td>\n",
       "      <td>4</td>\n",
       "      <td>4</td>\n",
       "      <td>2</td>\n",
       "      <td>5</td>\n",
       "    </tr>\n",
       "    <tr>\n",
       "      <th>2</th>\n",
       "      <td>215350</td>\n",
       "      <td>Снизилась</td>\n",
       "      <td>стандартт</td>\n",
       "      <td>нет</td>\n",
       "      <td>4.9</td>\n",
       "      <td>3</td>\n",
       "      <td>539</td>\n",
       "      <td>0.14</td>\n",
       "      <td>Домашний текстиль</td>\n",
       "      <td>5</td>\n",
       "      <td>2</td>\n",
       "      <td>1</td>\n",
       "      <td>5</td>\n",
       "    </tr>\n",
       "    <tr>\n",
       "      <th>3</th>\n",
       "      <td>215351</td>\n",
       "      <td>Снизилась</td>\n",
       "      <td>стандартт</td>\n",
       "      <td>да</td>\n",
       "      <td>3.2</td>\n",
       "      <td>5</td>\n",
       "      <td>896</td>\n",
       "      <td>0.99</td>\n",
       "      <td>Товары для детей</td>\n",
       "      <td>5</td>\n",
       "      <td>0</td>\n",
       "      <td>6</td>\n",
       "      <td>4</td>\n",
       "    </tr>\n",
       "    <tr>\n",
       "      <th>4</th>\n",
       "      <td>215352</td>\n",
       "      <td>Снизилась</td>\n",
       "      <td>стандартт</td>\n",
       "      <td>нет</td>\n",
       "      <td>5.1</td>\n",
       "      <td>3</td>\n",
       "      <td>1064</td>\n",
       "      <td>0.94</td>\n",
       "      <td>Товары для детей</td>\n",
       "      <td>3</td>\n",
       "      <td>2</td>\n",
       "      <td>3</td>\n",
       "      <td>2</td>\n",
       "    </tr>\n",
       "  </tbody>\n",
       "</table>\n",
       "</div>"
      ],
      "text/plain": [
       "       id Покупательская активность Тип сервиса Разрешить сообщать  \\\n",
       "0  215348                 Снизилась     премиум                 да   \n",
       "1  215349                 Снизилась     премиум                 да   \n",
       "2  215350                 Снизилась   стандартт                нет   \n",
       "3  215351                 Снизилась   стандартт                 да   \n",
       "4  215352                 Снизилась   стандартт                нет   \n",
       "\n",
       "  Маркет_актив_6_мес  Маркет_актив_тек_мес  Длительность Акционные_покупки  \\\n",
       "0                3.4                     5           121               0.0   \n",
       "1                4.4                     4           819              0.75   \n",
       "2                4.9                     3           539              0.14   \n",
       "3                3.2                     5           896              0.99   \n",
       "4                5.1                     3          1064              0.94   \n",
       "\n",
       "  Популярная_категория  Средний_просмотр_категорий_за_визит  \\\n",
       "0     Товары для детей                                    6   \n",
       "1     Товары для детей                                    4   \n",
       "2    Домашний текстиль                                    5   \n",
       "3     Товары для детей                                    5   \n",
       "4     Товары для детей                                    3   \n",
       "\n",
       "   Неоплаченные_продукты_штук_квартал  Ошибка_сервиса  Страниц_за_визит  \n",
       "0                                   2               1                 5  \n",
       "1                                   4               2                 5  \n",
       "2                                   2               1                 5  \n",
       "3                                   0               6                 4  \n",
       "4                                   2               3                 2  "
      ]
     },
     "execution_count": 8,
     "metadata": {},
     "output_type": "execute_result"
    }
   ],
   "source": [
    "mf.head()"
   ]
  },
  {
   "cell_type": "code",
   "execution_count": 9,
   "metadata": {},
   "outputs": [
    {
     "data": {
      "text/html": [
       "<div>\n",
       "<style scoped>\n",
       "    .dataframe tbody tr th:only-of-type {\n",
       "        vertical-align: middle;\n",
       "    }\n",
       "\n",
       "    .dataframe tbody tr th {\n",
       "        vertical-align: top;\n",
       "    }\n",
       "\n",
       "    .dataframe thead th {\n",
       "        text-align: right;\n",
       "    }\n",
       "</style>\n",
       "<table border=\"1\" class=\"dataframe\">\n",
       "  <thead>\n",
       "    <tr style=\"text-align: right;\">\n",
       "      <th></th>\n",
       "      <th>id</th>\n",
       "      <th>Период</th>\n",
       "      <th>Выручка</th>\n",
       "    </tr>\n",
       "  </thead>\n",
       "  <tbody>\n",
       "    <tr>\n",
       "      <th>0</th>\n",
       "      <td>215348</td>\n",
       "      <td>препредыдущий_месяц</td>\n",
       "      <td>0.0</td>\n",
       "    </tr>\n",
       "    <tr>\n",
       "      <th>1</th>\n",
       "      <td>215348</td>\n",
       "      <td>текущий_месяц</td>\n",
       "      <td>3293.1</td>\n",
       "    </tr>\n",
       "    <tr>\n",
       "      <th>2</th>\n",
       "      <td>215348</td>\n",
       "      <td>предыдущий_месяц</td>\n",
       "      <td>0.0</td>\n",
       "    </tr>\n",
       "    <tr>\n",
       "      <th>3</th>\n",
       "      <td>215349</td>\n",
       "      <td>препредыдущий_месяц</td>\n",
       "      <td>4472.0</td>\n",
       "    </tr>\n",
       "    <tr>\n",
       "      <th>4</th>\n",
       "      <td>215349</td>\n",
       "      <td>текущий_месяц</td>\n",
       "      <td>4971.6</td>\n",
       "    </tr>\n",
       "  </tbody>\n",
       "</table>\n",
       "</div>"
      ],
      "text/plain": [
       "       id               Период  Выручка\n",
       "0  215348  препредыдущий_месяц      0.0\n",
       "1  215348        текущий_месяц   3293.1\n",
       "2  215348     предыдущий_месяц      0.0\n",
       "3  215349  препредыдущий_месяц   4472.0\n",
       "4  215349        текущий_месяц   4971.6"
      ]
     },
     "execution_count": 9,
     "metadata": {},
     "output_type": "execute_result"
    }
   ],
   "source": [
    "mm.head()\n"
   ]
  },
  {
   "cell_type": "code",
   "execution_count": 10,
   "metadata": {},
   "outputs": [
    {
     "data": {
      "text/html": [
       "<div>\n",
       "<style scoped>\n",
       "    .dataframe tbody tr th:only-of-type {\n",
       "        vertical-align: middle;\n",
       "    }\n",
       "\n",
       "    .dataframe tbody tr th {\n",
       "        vertical-align: top;\n",
       "    }\n",
       "\n",
       "    .dataframe thead th {\n",
       "        text-align: right;\n",
       "    }\n",
       "</style>\n",
       "<table border=\"1\" class=\"dataframe\">\n",
       "  <thead>\n",
       "    <tr style=\"text-align: right;\">\n",
       "      <th></th>\n",
       "      <th>id</th>\n",
       "      <th>Период</th>\n",
       "      <th>минут</th>\n",
       "    </tr>\n",
       "  </thead>\n",
       "  <tbody>\n",
       "    <tr>\n",
       "      <th>0</th>\n",
       "      <td>215348</td>\n",
       "      <td>текущий_месяц</td>\n",
       "      <td>14</td>\n",
       "    </tr>\n",
       "    <tr>\n",
       "      <th>1</th>\n",
       "      <td>215348</td>\n",
       "      <td>предыдцщий_месяц</td>\n",
       "      <td>13</td>\n",
       "    </tr>\n",
       "    <tr>\n",
       "      <th>2</th>\n",
       "      <td>215349</td>\n",
       "      <td>текущий_месяц</td>\n",
       "      <td>10</td>\n",
       "    </tr>\n",
       "    <tr>\n",
       "      <th>3</th>\n",
       "      <td>215349</td>\n",
       "      <td>предыдцщий_месяц</td>\n",
       "      <td>12</td>\n",
       "    </tr>\n",
       "    <tr>\n",
       "      <th>4</th>\n",
       "      <td>215350</td>\n",
       "      <td>текущий_месяц</td>\n",
       "      <td>13</td>\n",
       "    </tr>\n",
       "  </tbody>\n",
       "</table>\n",
       "</div>"
      ],
      "text/plain": [
       "       id            Период  минут\n",
       "0  215348     текущий_месяц     14\n",
       "1  215348  предыдцщий_месяц     13\n",
       "2  215349     текущий_месяц     10\n",
       "3  215349  предыдцщий_месяц     12\n",
       "4  215350     текущий_месяц     13"
      ]
     },
     "execution_count": 10,
     "metadata": {},
     "output_type": "execute_result"
    }
   ],
   "source": [
    "mt.head()"
   ]
  },
  {
   "cell_type": "code",
   "execution_count": 11,
   "metadata": {},
   "outputs": [
    {
     "data": {
      "text/html": [
       "<div>\n",
       "<style scoped>\n",
       "    .dataframe tbody tr th:only-of-type {\n",
       "        vertical-align: middle;\n",
       "    }\n",
       "\n",
       "    .dataframe tbody tr th {\n",
       "        vertical-align: top;\n",
       "    }\n",
       "\n",
       "    .dataframe thead th {\n",
       "        text-align: right;\n",
       "    }\n",
       "</style>\n",
       "<table border=\"1\" class=\"dataframe\">\n",
       "  <thead>\n",
       "    <tr style=\"text-align: right;\">\n",
       "      <th></th>\n",
       "      <th>id</th>\n",
       "      <th>Прибыль</th>\n",
       "    </tr>\n",
       "  </thead>\n",
       "  <tbody>\n",
       "    <tr>\n",
       "      <th>0</th>\n",
       "      <td>215348</td>\n",
       "      <td>0.98</td>\n",
       "    </tr>\n",
       "    <tr>\n",
       "      <th>1</th>\n",
       "      <td>215349</td>\n",
       "      <td>4.16</td>\n",
       "    </tr>\n",
       "    <tr>\n",
       "      <th>2</th>\n",
       "      <td>215350</td>\n",
       "      <td>3.13</td>\n",
       "    </tr>\n",
       "    <tr>\n",
       "      <th>3</th>\n",
       "      <td>215351</td>\n",
       "      <td>4.87</td>\n",
       "    </tr>\n",
       "    <tr>\n",
       "      <th>4</th>\n",
       "      <td>215352</td>\n",
       "      <td>4.21</td>\n",
       "    </tr>\n",
       "  </tbody>\n",
       "</table>\n",
       "</div>"
      ],
      "text/plain": [
       "       id  Прибыль\n",
       "0  215348     0.98\n",
       "1  215349     4.16\n",
       "2  215350     3.13\n",
       "3  215351     4.87\n",
       "4  215352     4.21"
      ]
     },
     "execution_count": 11,
     "metadata": {},
     "output_type": "execute_result"
    }
   ],
   "source": [
    "mn.head()"
   ]
  },
  {
   "cell_type": "markdown",
   "metadata": {},
   "source": [
    "**Комментарий**: Все данные указанные в описании на месте, однако стоит поправить разделение слов, ведь в некоторых словосочетаниях вместо пробела стоит `_`. Также для удобства все слова буду приведены к нижнему регистру."
   ]
  },
  {
   "cell_type": "markdown",
   "metadata": {},
   "source": [
    "## Предобработка данных"
   ]
  },
  {
   "cell_type": "markdown",
   "metadata": {},
   "source": [
    "**Замена `_` на пробел и приведение к нижнему регистру**"
   ]
  },
  {
   "cell_type": "code",
   "execution_count": 12,
   "metadata": {},
   "outputs": [],
   "source": [
    "mf.columns = mf.columns.str.replace('_', ' ')\n",
    "mf.columns = mf.columns.str.lower()\n",
    "mf['покупательская активность'] = mf['покупательская активность'].str.lower()\n",
    "mf['популярная категория'] = mf['популярная категория'].str.lower()\n",
    "\n",
    "mm.columns = mm.columns.str.lower()\n",
    "mm['период'] = mm['период'].str.replace('_', ' ')\n",
    "\n",
    "mt.columns = mt.columns.str.lower()\n",
    "mt['период'] = mt['период'].str.replace('_', ' ')\n",
    "\n",
    "mn.columns = mn.columns.str.lower()"
   ]
  },
  {
   "cell_type": "markdown",
   "metadata": {},
   "source": [
    "**Поиск явных дубликатов**"
   ]
  },
  {
   "cell_type": "code",
   "execution_count": 13,
   "metadata": {},
   "outputs": [
    {
     "data": {
      "text/plain": [
       "'Дубликатов в market_file:'"
      ]
     },
     "metadata": {},
     "output_type": "display_data"
    },
    {
     "data": {
      "text/plain": [
       "0"
      ]
     },
     "metadata": {},
     "output_type": "display_data"
    },
    {
     "data": {
      "text/plain": [
       "'Дубликатов в market_money:'"
      ]
     },
     "metadata": {},
     "output_type": "display_data"
    },
    {
     "data": {
      "text/plain": [
       "0"
      ]
     },
     "metadata": {},
     "output_type": "display_data"
    },
    {
     "data": {
      "text/plain": [
       "'Дубликатов в market_time:'"
      ]
     },
     "metadata": {},
     "output_type": "display_data"
    },
    {
     "data": {
      "text/plain": [
       "0"
      ]
     },
     "metadata": {},
     "output_type": "display_data"
    },
    {
     "data": {
      "text/plain": [
       "'Дубликатов в money:'"
      ]
     },
     "metadata": {},
     "output_type": "display_data"
    },
    {
     "data": {
      "text/plain": [
       "0"
      ]
     },
     "metadata": {},
     "output_type": "display_data"
    }
   ],
   "source": [
    "display('Дубликатов в market_file:', mf.duplicated().sum())\n",
    "display('Дубликатов в market_money:', mm.duplicated().sum())\n",
    "display('Дубликатов в market_time:', mt.duplicated().sum())\n",
    "display('Дубликатов в money:', mn.duplicated().sum())"
   ]
  },
  {
   "cell_type": "markdown",
   "metadata": {},
   "source": [
    "**Комментарий**: Все файлы не содержат явных дубликатов."
   ]
  },
  {
   "cell_type": "markdown",
   "metadata": {},
   "source": [
    "**Поиск неявных дубликатов**"
   ]
  },
  {
   "cell_type": "code",
   "execution_count": 14,
   "metadata": {},
   "outputs": [
    {
     "data": {
      "text/plain": [
       "'Дубликатов в market_file:'"
      ]
     },
     "metadata": {},
     "output_type": "display_data"
    },
    {
     "data": {
      "text/plain": [
       "прежний уровень    802\n",
       "снизилась          498\n",
       "Name: покупательская активность, dtype: int64"
      ]
     },
     "metadata": {},
     "output_type": "display_data"
    },
    {
     "data": {
      "text/plain": [
       "стандарт     914\n",
       "премиум      376\n",
       "стандартт     10\n",
       "Name: тип сервиса, dtype: int64"
      ]
     },
     "metadata": {},
     "output_type": "display_data"
    },
    {
     "data": {
      "text/plain": [
       "да     962\n",
       "нет    338\n",
       "Name: разрешить сообщать, dtype: int64"
      ]
     },
     "metadata": {},
     "output_type": "display_data"
    },
    {
     "data": {
      "text/plain": [
       "товары для детей                        330\n",
       "домашний текстиль                       251\n",
       "косметика и аксесуары                   223\n",
       "техника для красоты и здоровья          184\n",
       "мелкая бытовая техника и электроника    174\n",
       "кухонная посуда                         138\n",
       "Name: популярная категория, dtype: int64"
      ]
     },
     "metadata": {},
     "output_type": "display_data"
    },
    {
     "data": {
      "text/plain": [
       "'Дубликатов в market_money:'"
      ]
     },
     "metadata": {},
     "output_type": "display_data"
    },
    {
     "data": {
      "text/plain": [
       "препредыдущий месяц    1300\n",
       "текущий месяц          1300\n",
       "предыдущий месяц       1300\n",
       "Name: период, dtype: int64"
      ]
     },
     "metadata": {},
     "output_type": "display_data"
    },
    {
     "data": {
      "text/plain": [
       "'Дубликатов в market_time:'"
      ]
     },
     "metadata": {},
     "output_type": "display_data"
    },
    {
     "data": {
      "text/plain": [
       "текущий месяц       1300\n",
       "предыдцщий месяц    1300\n",
       "Name: период, dtype: int64"
      ]
     },
     "metadata": {},
     "output_type": "display_data"
    }
   ],
   "source": [
    "display('Дубликатов в market_file:', mf['покупательская активность'].value_counts(), mf['тип сервиса'].value_counts(),\n",
    "       mf['разрешить сообщать'].value_counts(), mf['популярная категория'].value_counts())\n",
    "display('Дубликатов в market_money:', mm['период'].value_counts())\n",
    "display('Дубликатов в market_time:', mt['период'].value_counts())"
   ]
  },
  {
   "cell_type": "markdown",
   "metadata": {},
   "source": [
    "**Комментарий**: В датафрейме `mf` были обнаружены неявные дубликаты в столбце `тип сервиса` (`стандарт` и `стандартт`), также есть опечатка в датафрейме `mt` в колонке `период` в слове пердыдущий вместо буквы `у` стоит буква `ц`."
   ]
  },
  {
   "cell_type": "code",
   "execution_count": 15,
   "metadata": {},
   "outputs": [],
   "source": [
    "mf['тип сервиса'] = mf['тип сервиса'].str.replace('стандартт', 'стандарт')\n",
    "mt['период'] = mt['период'].str.replace('предыдцщий', 'предыдущий')"
   ]
  },
  {
   "cell_type": "markdown",
   "metadata": {},
   "source": [
    "**Поиск пропусков**"
   ]
  },
  {
   "cell_type": "code",
   "execution_count": 16,
   "metadata": {},
   "outputs": [
    {
     "data": {
      "text/plain": [
       "'Пропусков в mf:'"
      ]
     },
     "metadata": {},
     "output_type": "display_data"
    },
    {
     "data": {
      "text/plain": [
       "id                                     0\n",
       "покупательская активность              0\n",
       "тип сервиса                            0\n",
       "разрешить сообщать                     0\n",
       "маркет актив 6 мес                     0\n",
       "маркет актив тек мес                   0\n",
       "длительность                           0\n",
       "акционные покупки                      0\n",
       "популярная категория                   0\n",
       "средний просмотр категорий за визит    0\n",
       "неоплаченные продукты штук квартал     0\n",
       "ошибка сервиса                         0\n",
       "страниц за визит                       0\n",
       "dtype: int64"
      ]
     },
     "metadata": {},
     "output_type": "display_data"
    },
    {
     "data": {
      "text/plain": [
       "'Пропусков в mm:'"
      ]
     },
     "metadata": {},
     "output_type": "display_data"
    },
    {
     "data": {
      "text/plain": [
       "id         0\n",
       "период     0\n",
       "выручка    0\n",
       "dtype: int64"
      ]
     },
     "metadata": {},
     "output_type": "display_data"
    },
    {
     "data": {
      "text/plain": [
       "'Пропусков в mt:'"
      ]
     },
     "metadata": {},
     "output_type": "display_data"
    },
    {
     "data": {
      "text/plain": [
       "id        0\n",
       "период    0\n",
       "минут     0\n",
       "dtype: int64"
      ]
     },
     "metadata": {},
     "output_type": "display_data"
    },
    {
     "data": {
      "text/plain": [
       "'Пропусков в mn:'"
      ]
     },
     "metadata": {},
     "output_type": "display_data"
    },
    {
     "data": {
      "text/plain": [
       "id         0\n",
       "прибыль    0\n",
       "dtype: int64"
      ]
     },
     "metadata": {},
     "output_type": "display_data"
    }
   ],
   "source": [
    "display('Пропусков в mf:', mf.isna().sum())\n",
    "display('Пропусков в mm:', mm.isna().sum())\n",
    "display('Пропусков в mt:', mt.isna().sum())\n",
    "display('Пропусков в mn:', mn.isna().sum())"
   ]
  },
  {
   "cell_type": "markdown",
   "metadata": {},
   "source": [
    "**Во всех файлах нет пропусков**"
   ]
  },
  {
   "cell_type": "markdown",
   "metadata": {},
   "source": [
    "**Проверка формата данных**"
   ]
  },
  {
   "cell_type": "code",
   "execution_count": 17,
   "metadata": {},
   "outputs": [
    {
     "name": "stdout",
     "output_type": "stream",
     "text": [
      "<class 'pandas.core.frame.DataFrame'>\n",
      "RangeIndex: 1300 entries, 0 to 1299\n",
      "Data columns (total 13 columns):\n",
      " #   Column                               Non-Null Count  Dtype \n",
      "---  ------                               --------------  ----- \n",
      " 0   id                                   1300 non-null   int64 \n",
      " 1   покупательская активность            1300 non-null   object\n",
      " 2   тип сервиса                          1300 non-null   object\n",
      " 3   разрешить сообщать                   1300 non-null   object\n",
      " 4   маркет актив 6 мес                   1300 non-null   object\n",
      " 5   маркет актив тек мес                 1300 non-null   int64 \n",
      " 6   длительность                         1300 non-null   int64 \n",
      " 7   акционные покупки                    1300 non-null   object\n",
      " 8   популярная категория                 1300 non-null   object\n",
      " 9   средний просмотр категорий за визит  1300 non-null   int64 \n",
      " 10  неоплаченные продукты штук квартал   1300 non-null   int64 \n",
      " 11  ошибка сервиса                       1300 non-null   int64 \n",
      " 12  страниц за визит                     1300 non-null   int64 \n",
      "dtypes: int64(7), object(6)\n",
      "memory usage: 132.2+ KB\n"
     ]
    }
   ],
   "source": [
    "mf.info()"
   ]
  },
  {
   "cell_type": "markdown",
   "metadata": {},
   "source": [
    "**Комментарий**: Неверный формат данных в колонках `маркет актив 6 мес` и `акционные покупки`, вместо нужного типа данных `float` для вещественных чисел, данные имеют тип `object`"
   ]
  },
  {
   "cell_type": "code",
   "execution_count": 18,
   "metadata": {},
   "outputs": [],
   "source": [
    "mf['маркет актив 6 мес'] = mf['маркет актив 6 мес'].astype(float)\n",
    "mf['акционные покупки'] = mf['акционные покупки'].astype(float)"
   ]
  },
  {
   "cell_type": "code",
   "execution_count": 19,
   "metadata": {},
   "outputs": [
    {
     "name": "stdout",
     "output_type": "stream",
     "text": [
      "<class 'pandas.core.frame.DataFrame'>\n",
      "RangeIndex: 3900 entries, 0 to 3899\n",
      "Data columns (total 3 columns):\n",
      " #   Column   Non-Null Count  Dtype  \n",
      "---  ------   --------------  -----  \n",
      " 0   id       3900 non-null   int64  \n",
      " 1   период   3900 non-null   object \n",
      " 2   выручка  3900 non-null   float64\n",
      "dtypes: float64(1), int64(1), object(1)\n",
      "memory usage: 91.5+ KB\n"
     ]
    }
   ],
   "source": [
    "mm.info()"
   ]
  },
  {
   "cell_type": "markdown",
   "metadata": {},
   "source": [
    "**Комментарий**: В колнке `выручка` неверный тип данных `object`, надо исправить на `float`"
   ]
  },
  {
   "cell_type": "code",
   "execution_count": 20,
   "metadata": {},
   "outputs": [
    {
     "name": "stdout",
     "output_type": "stream",
     "text": [
      "<class 'pandas.core.frame.DataFrame'>\n",
      "RangeIndex: 2600 entries, 0 to 2599\n",
      "Data columns (total 3 columns):\n",
      " #   Column  Non-Null Count  Dtype \n",
      "---  ------  --------------  ----- \n",
      " 0   id      2600 non-null   int64 \n",
      " 1   период  2600 non-null   object\n",
      " 2   минут   2600 non-null   int64 \n",
      "dtypes: int64(2), object(1)\n",
      "memory usage: 61.1+ KB\n"
     ]
    }
   ],
   "source": [
    "mt.info()"
   ]
  },
  {
   "cell_type": "markdown",
   "metadata": {},
   "source": [
    "**Комменатрий**: Всё в порядке."
   ]
  },
  {
   "cell_type": "code",
   "execution_count": 21,
   "metadata": {},
   "outputs": [
    {
     "name": "stdout",
     "output_type": "stream",
     "text": [
      "<class 'pandas.core.frame.DataFrame'>\n",
      "RangeIndex: 1300 entries, 0 to 1299\n",
      "Data columns (total 2 columns):\n",
      " #   Column   Non-Null Count  Dtype  \n",
      "---  ------   --------------  -----  \n",
      " 0   id       1300 non-null   int64  \n",
      " 1   прибыль  1300 non-null   float64\n",
      "dtypes: float64(1), int64(1)\n",
      "memory usage: 20.4 KB\n"
     ]
    }
   ],
   "source": [
    "mn.info()"
   ]
  },
  {
   "cell_type": "markdown",
   "metadata": {},
   "source": [
    "**Комменатрий**: Снова нужные типы данных."
   ]
  },
  {
   "cell_type": "markdown",
   "metadata": {},
   "source": [
    "## Исследовательский анализ"
   ]
  },
  {
   "cell_type": "code",
   "execution_count": 22,
   "metadata": {},
   "outputs": [
    {
     "data": {
      "text/html": [
       "<div>\n",
       "<style scoped>\n",
       "    .dataframe tbody tr th:only-of-type {\n",
       "        vertical-align: middle;\n",
       "    }\n",
       "\n",
       "    .dataframe tbody tr th {\n",
       "        vertical-align: top;\n",
       "    }\n",
       "\n",
       "    .dataframe thead th {\n",
       "        text-align: right;\n",
       "    }\n",
       "</style>\n",
       "<table border=\"1\" class=\"dataframe\">\n",
       "  <thead>\n",
       "    <tr style=\"text-align: right;\">\n",
       "      <th></th>\n",
       "      <th>id</th>\n",
       "      <th>маркет актив 6 мес</th>\n",
       "      <th>маркет актив тек мес</th>\n",
       "      <th>длительность</th>\n",
       "      <th>акционные покупки</th>\n",
       "      <th>средний просмотр категорий за визит</th>\n",
       "      <th>неоплаченные продукты штук квартал</th>\n",
       "      <th>ошибка сервиса</th>\n",
       "      <th>страниц за визит</th>\n",
       "    </tr>\n",
       "  </thead>\n",
       "  <tbody>\n",
       "    <tr>\n",
       "      <th>count</th>\n",
       "      <td>1300.000000</td>\n",
       "      <td>1300.000000</td>\n",
       "      <td>1300.000000</td>\n",
       "      <td>1300.000000</td>\n",
       "      <td>1300.000000</td>\n",
       "      <td>1300.00000</td>\n",
       "      <td>1300.000000</td>\n",
       "      <td>1300.000000</td>\n",
       "      <td>1300.000000</td>\n",
       "    </tr>\n",
       "    <tr>\n",
       "      <th>mean</th>\n",
       "      <td>215997.500000</td>\n",
       "      <td>4.253769</td>\n",
       "      <td>4.011538</td>\n",
       "      <td>601.898462</td>\n",
       "      <td>0.319808</td>\n",
       "      <td>3.27000</td>\n",
       "      <td>2.840000</td>\n",
       "      <td>4.185385</td>\n",
       "      <td>8.176923</td>\n",
       "    </tr>\n",
       "    <tr>\n",
       "      <th>std</th>\n",
       "      <td>375.421985</td>\n",
       "      <td>1.014814</td>\n",
       "      <td>0.696868</td>\n",
       "      <td>249.856289</td>\n",
       "      <td>0.249843</td>\n",
       "      <td>1.35535</td>\n",
       "      <td>1.971451</td>\n",
       "      <td>1.955298</td>\n",
       "      <td>3.978126</td>\n",
       "    </tr>\n",
       "    <tr>\n",
       "      <th>min</th>\n",
       "      <td>215348.000000</td>\n",
       "      <td>0.900000</td>\n",
       "      <td>3.000000</td>\n",
       "      <td>110.000000</td>\n",
       "      <td>0.000000</td>\n",
       "      <td>1.00000</td>\n",
       "      <td>0.000000</td>\n",
       "      <td>0.000000</td>\n",
       "      <td>1.000000</td>\n",
       "    </tr>\n",
       "    <tr>\n",
       "      <th>25%</th>\n",
       "      <td>215672.750000</td>\n",
       "      <td>3.700000</td>\n",
       "      <td>4.000000</td>\n",
       "      <td>405.500000</td>\n",
       "      <td>0.170000</td>\n",
       "      <td>2.00000</td>\n",
       "      <td>1.000000</td>\n",
       "      <td>3.000000</td>\n",
       "      <td>5.000000</td>\n",
       "    </tr>\n",
       "    <tr>\n",
       "      <th>50%</th>\n",
       "      <td>215997.500000</td>\n",
       "      <td>4.200000</td>\n",
       "      <td>4.000000</td>\n",
       "      <td>606.000000</td>\n",
       "      <td>0.240000</td>\n",
       "      <td>3.00000</td>\n",
       "      <td>3.000000</td>\n",
       "      <td>4.000000</td>\n",
       "      <td>8.000000</td>\n",
       "    </tr>\n",
       "    <tr>\n",
       "      <th>75%</th>\n",
       "      <td>216322.250000</td>\n",
       "      <td>4.900000</td>\n",
       "      <td>4.000000</td>\n",
       "      <td>806.000000</td>\n",
       "      <td>0.300000</td>\n",
       "      <td>4.00000</td>\n",
       "      <td>4.000000</td>\n",
       "      <td>6.000000</td>\n",
       "      <td>11.000000</td>\n",
       "    </tr>\n",
       "    <tr>\n",
       "      <th>max</th>\n",
       "      <td>216647.000000</td>\n",
       "      <td>6.600000</td>\n",
       "      <td>5.000000</td>\n",
       "      <td>1079.000000</td>\n",
       "      <td>0.990000</td>\n",
       "      <td>6.00000</td>\n",
       "      <td>10.000000</td>\n",
       "      <td>9.000000</td>\n",
       "      <td>20.000000</td>\n",
       "    </tr>\n",
       "  </tbody>\n",
       "</table>\n",
       "</div>"
      ],
      "text/plain": [
       "                  id  маркет актив 6 мес  маркет актив тек мес  длительность  \\\n",
       "count    1300.000000         1300.000000           1300.000000   1300.000000   \n",
       "mean   215997.500000            4.253769              4.011538    601.898462   \n",
       "std       375.421985            1.014814              0.696868    249.856289   \n",
       "min    215348.000000            0.900000              3.000000    110.000000   \n",
       "25%    215672.750000            3.700000              4.000000    405.500000   \n",
       "50%    215997.500000            4.200000              4.000000    606.000000   \n",
       "75%    216322.250000            4.900000              4.000000    806.000000   \n",
       "max    216647.000000            6.600000              5.000000   1079.000000   \n",
       "\n",
       "       акционные покупки  средний просмотр категорий за визит  \\\n",
       "count        1300.000000                           1300.00000   \n",
       "mean            0.319808                              3.27000   \n",
       "std             0.249843                              1.35535   \n",
       "min             0.000000                              1.00000   \n",
       "25%             0.170000                              2.00000   \n",
       "50%             0.240000                              3.00000   \n",
       "75%             0.300000                              4.00000   \n",
       "max             0.990000                              6.00000   \n",
       "\n",
       "       неоплаченные продукты штук квартал  ошибка сервиса  страниц за визит  \n",
       "count                         1300.000000     1300.000000       1300.000000  \n",
       "mean                             2.840000        4.185385          8.176923  \n",
       "std                              1.971451        1.955298          3.978126  \n",
       "min                              0.000000        0.000000          1.000000  \n",
       "25%                              1.000000        3.000000          5.000000  \n",
       "50%                              3.000000        4.000000          8.000000  \n",
       "75%                              4.000000        6.000000         11.000000  \n",
       "max                             10.000000        9.000000         20.000000  "
      ]
     },
     "execution_count": 22,
     "metadata": {},
     "output_type": "execute_result"
    }
   ],
   "source": [
    "mf.describe()"
   ]
  },
  {
   "cell_type": "code",
   "execution_count": 23,
   "metadata": {},
   "outputs": [
    {
     "data": {
      "text/html": [
       "<div>\n",
       "<style scoped>\n",
       "    .dataframe tbody tr th:only-of-type {\n",
       "        vertical-align: middle;\n",
       "    }\n",
       "\n",
       "    .dataframe tbody tr th {\n",
       "        vertical-align: top;\n",
       "    }\n",
       "\n",
       "    .dataframe thead th {\n",
       "        text-align: right;\n",
       "    }\n",
       "</style>\n",
       "<table border=\"1\" class=\"dataframe\">\n",
       "  <thead>\n",
       "    <tr style=\"text-align: right;\">\n",
       "      <th></th>\n",
       "      <th>id</th>\n",
       "      <th>выручка</th>\n",
       "    </tr>\n",
       "  </thead>\n",
       "  <tbody>\n",
       "    <tr>\n",
       "      <th>count</th>\n",
       "      <td>3900.000000</td>\n",
       "      <td>3900.000000</td>\n",
       "    </tr>\n",
       "    <tr>\n",
       "      <th>mean</th>\n",
       "      <td>215997.500000</td>\n",
       "      <td>5025.696051</td>\n",
       "    </tr>\n",
       "    <tr>\n",
       "      <th>std</th>\n",
       "      <td>375.325686</td>\n",
       "      <td>1777.704104</td>\n",
       "    </tr>\n",
       "    <tr>\n",
       "      <th>min</th>\n",
       "      <td>215348.000000</td>\n",
       "      <td>0.000000</td>\n",
       "    </tr>\n",
       "    <tr>\n",
       "      <th>25%</th>\n",
       "      <td>215672.750000</td>\n",
       "      <td>4590.150000</td>\n",
       "    </tr>\n",
       "    <tr>\n",
       "      <th>50%</th>\n",
       "      <td>215997.500000</td>\n",
       "      <td>4957.500000</td>\n",
       "    </tr>\n",
       "    <tr>\n",
       "      <th>75%</th>\n",
       "      <td>216322.250000</td>\n",
       "      <td>5363.000000</td>\n",
       "    </tr>\n",
       "    <tr>\n",
       "      <th>max</th>\n",
       "      <td>216647.000000</td>\n",
       "      <td>106862.200000</td>\n",
       "    </tr>\n",
       "  </tbody>\n",
       "</table>\n",
       "</div>"
      ],
      "text/plain": [
       "                  id        выручка\n",
       "count    3900.000000    3900.000000\n",
       "mean   215997.500000    5025.696051\n",
       "std       375.325686    1777.704104\n",
       "min    215348.000000       0.000000\n",
       "25%    215672.750000    4590.150000\n",
       "50%    215997.500000    4957.500000\n",
       "75%    216322.250000    5363.000000\n",
       "max    216647.000000  106862.200000"
      ]
     },
     "execution_count": 23,
     "metadata": {},
     "output_type": "execute_result"
    }
   ],
   "source": [
    "mm.describe()"
   ]
  },
  {
   "cell_type": "code",
   "execution_count": 24,
   "metadata": {},
   "outputs": [
    {
     "data": {
      "text/html": [
       "<div>\n",
       "<style scoped>\n",
       "    .dataframe tbody tr th:only-of-type {\n",
       "        vertical-align: middle;\n",
       "    }\n",
       "\n",
       "    .dataframe tbody tr th {\n",
       "        vertical-align: top;\n",
       "    }\n",
       "\n",
       "    .dataframe thead th {\n",
       "        text-align: right;\n",
       "    }\n",
       "</style>\n",
       "<table border=\"1\" class=\"dataframe\">\n",
       "  <thead>\n",
       "    <tr style=\"text-align: right;\">\n",
       "      <th></th>\n",
       "      <th>id</th>\n",
       "      <th>прибыль</th>\n",
       "    </tr>\n",
       "  </thead>\n",
       "  <tbody>\n",
       "    <tr>\n",
       "      <th>count</th>\n",
       "      <td>1300.000000</td>\n",
       "      <td>1300.000000</td>\n",
       "    </tr>\n",
       "    <tr>\n",
       "      <th>mean</th>\n",
       "      <td>215997.500000</td>\n",
       "      <td>3.996631</td>\n",
       "    </tr>\n",
       "    <tr>\n",
       "      <th>std</th>\n",
       "      <td>375.421985</td>\n",
       "      <td>1.013722</td>\n",
       "    </tr>\n",
       "    <tr>\n",
       "      <th>min</th>\n",
       "      <td>215348.000000</td>\n",
       "      <td>0.860000</td>\n",
       "    </tr>\n",
       "    <tr>\n",
       "      <th>25%</th>\n",
       "      <td>215672.750000</td>\n",
       "      <td>3.300000</td>\n",
       "    </tr>\n",
       "    <tr>\n",
       "      <th>50%</th>\n",
       "      <td>215997.500000</td>\n",
       "      <td>4.045000</td>\n",
       "    </tr>\n",
       "    <tr>\n",
       "      <th>75%</th>\n",
       "      <td>216322.250000</td>\n",
       "      <td>4.670000</td>\n",
       "    </tr>\n",
       "    <tr>\n",
       "      <th>max</th>\n",
       "      <td>216647.000000</td>\n",
       "      <td>7.430000</td>\n",
       "    </tr>\n",
       "  </tbody>\n",
       "</table>\n",
       "</div>"
      ],
      "text/plain": [
       "                  id      прибыль\n",
       "count    1300.000000  1300.000000\n",
       "mean   215997.500000     3.996631\n",
       "std       375.421985     1.013722\n",
       "min    215348.000000     0.860000\n",
       "25%    215672.750000     3.300000\n",
       "50%    215997.500000     4.045000\n",
       "75%    216322.250000     4.670000\n",
       "max    216647.000000     7.430000"
      ]
     },
     "execution_count": 24,
     "metadata": {},
     "output_type": "execute_result"
    }
   ],
   "source": [
    "mn.describe()"
   ]
  },
  {
   "cell_type": "markdown",
   "metadata": {},
   "source": [
    "**Посмотрим на графики**"
   ]
  },
  {
   "cell_type": "markdown",
   "metadata": {},
   "source": [
    "Ниже графики для mf(market_file)"
   ]
  },
  {
   "cell_type": "code",
   "execution_count": 25,
   "metadata": {},
   "outputs": [
    {
     "data": {
      "image/png": "[encoded data removed]",
      "text/plain": [
       "<Figure size 432x288 with 1 Axes>"
      ]
     },
     "metadata": {
      "needs_background": "light"
     },
     "output_type": "display_data"
    }
   ],
   "source": [
    "mf['покупательская активность'].value_counts().plot(kind='bar', color='aliceblue', edgecolor='black')\n",
    "plt.title('Распредление покупательская активность')\n",
    "plt.xlabel('Покупательская активность')\n",
    "plt.ylabel('Частота')\n",
    "plt.xticks(rotation=45)\n",
    "plt.grid(True)\n",
    "plt.show()"
   ]
  },
  {
   "cell_type": "markdown",
   "metadata": {},
   "source": [
    "**Комментарий:** Исходя из графика распределения признака `покупательская активность`, который имеет два значения `прежний уровень` и `снизилась` можно сказать, что активность большинства пользователей не изменилась, однако примерно 500 пользователей понизили свою активность."
   ]
  },
  {
   "cell_type": "code",
   "execution_count": 26,
   "metadata": {},
   "outputs": [
    {
     "data": {
      "image/png": "[encoded data removed]",
      "text/plain": [
       "<Figure size 432x288 with 1 Axes>"
      ]
     },
     "metadata": {
      "needs_background": "light"
     },
     "output_type": "display_data"
    }
   ],
   "source": [
    "mf['тип сервиса'].value_counts().plot(kind='bar', color='beige', edgecolor='black')\n",
    "plt.title('Распредление тип сервиса')\n",
    "plt.xlabel('Тип сервиса')\n",
    "plt.ylabel('Частота')\n",
    "plt.xticks(rotation=45)\n",
    "plt.grid(True)\n",
    "plt.show()"
   ]
  },
  {
   "cell_type": "markdown",
   "metadata": {},
   "source": [
    "**Комментарий**: На графике распределения признака `тип сервиса` заметно, что большинство пользователей имеют тип сервиса `стандарт`(>850 пользователей), а у остальных пользователей(~380) тип-`премиум`"
   ]
  },
  {
   "cell_type": "code",
   "execution_count": 27,
   "metadata": {},
   "outputs": [
    {
     "data": {
      "image/png": "[encoded data removed]",
      "text/plain": [
       "<Figure size 432x288 with 1 Axes>"
      ]
     },
     "metadata": {
      "needs_background": "light"
     },
     "output_type": "display_data"
    }
   ],
   "source": [
    "mf['разрешить сообщать'].value_counts().plot(kind='bar', color='lavenderblush', edgecolor='black')\n",
    "plt.title('Распредление разрешить сообщать')\n",
    "plt.xlabel('Разрешить сообщать')\n",
    "plt.ylabel('Частота')\n",
    "plt.xticks(rotation=45)\n",
    "plt.grid(True)\n",
    "plt.show()"
   ]
  },
  {
   "cell_type": "markdown",
   "metadata": {},
   "source": [
    "**Комментарий**: На графике видно, что примерно `950` пользователей дали разрешение на получение рассылок, а примерно `350` ответили отказом на запрос отправки рассылок."
   ]
  },
  {
   "cell_type": "code",
   "execution_count": 28,
   "metadata": {},
   "outputs": [
    {
     "data": {
      "image/png": "[encoded data removed]",
      "text/plain": [
       "<Figure size 720x720 with 1 Axes>"
      ]
     },
     "metadata": {
      "needs_background": "light"
     },
     "output_type": "display_data"
    }
   ],
   "source": [
    "plt.figure(figsize=(10,10))\n",
    "plt.hist(mf['маркет актив 6 мес'], bins=30, color='navy', edgecolor='black')\n",
    "plt.title('Распредление маркет актив 6 мес')\n",
    "plt.xlabel('Маркет актив 6 мес')\n",
    "plt.ylabel('Частота')\n",
    "plt.grid(True)\n",
    "plt.show()"
   ]
  },
  {
   "cell_type": "markdown",
   "metadata": {},
   "source": [
    "**Комментарий**: На графике видно, что на большинство клиентов приходиться по `4` маркетинговые коммуникации за месяц, данные распределены в пределах от 1 до ~6.5"
   ]
  },
  {
   "cell_type": "code",
   "execution_count": 29,
   "metadata": {},
   "outputs": [
    {
     "data": {
      "image/png": "[encoded data removed]",
      "text/plain": [
       "<Figure size 720x720 with 1 Axes>"
      ]
     },
     "metadata": {
      "needs_background": "light"
     },
     "output_type": "display_data"
    }
   ],
   "source": [
    "plt.figure(figsize=(10,10))\n",
    "plt.hist(mf['маркет актив тек мес'], bins=30, color='grey', edgecolor='black')\n",
    "plt.title('Распредление маркет актив тек мес')\n",
    "plt.xlabel('Маркет актив тек мес')\n",
    "plt.ylabel('Частота')\n",
    "plt.grid(True)\n",
    "plt.show()"
   ]
  },
  {
   "cell_type": "markdown",
   "metadata": {},
   "source": [
    "**Комментарий**: В текущем месяце у большинства пользователей (>650) `4` маркетинговые коммуникации, оставшиеся пользователи (~300) имеют значение - `1` маркетинговая коммуникация и ~315 пользователей получают `5` рассылок или звонков за текущий месяц."
   ]
  },
  {
   "cell_type": "code",
   "execution_count": 30,
   "metadata": {},
   "outputs": [
    {
     "data": {
      "image/png": "[encoded data removed]",
      "text/plain": [
       "<Figure size 720x720 with 1 Axes>"
      ]
     },
     "metadata": {
      "needs_background": "light"
     },
     "output_type": "display_data"
    }
   ],
   "source": [
    "plt.figure(figsize=(10,10))\n",
    "plt.hist(mf['длительность'], bins=30, color='firebrick', edgecolor='black')\n",
    "plt.title('Распредление длительность')\n",
    "plt.xlabel('Длительность')\n",
    "plt.ylabel('Частота')\n",
    "plt.grid(True)\n",
    "plt.show()"
   ]
  },
  {
   "cell_type": "markdown",
   "metadata": {},
   "source": [
    "**Комменатрий**: На графике нет сильно выделяющихся пиков или спадов, но самый распространённый диапозон длительсноти опредлен от `400` до `900` дней с момента регистрации. Максимум в значении `500`-около 63 пользователей."
   ]
  },
  {
   "cell_type": "code",
   "execution_count": 31,
   "metadata": {},
   "outputs": [
    {
     "data": {
      "image/png": "[encoded data removed]",
      "text/plain": [
       "<Figure size 720x720 with 1 Axes>"
      ]
     },
     "metadata": {
      "needs_background": "light"
     },
     "output_type": "display_data"
    }
   ],
   "source": [
    "plt.figure(figsize=(10,10))\n",
    "plt.hist(mf['акционные покупки'], bins=30, color='dimgray', edgecolor='black')\n",
    "plt.title('Распредление акционные покупки')\n",
    "plt.xlabel('Акционные покупки')\n",
    "plt.ylabel('Частота')\n",
    "plt.grid(True)\n",
    "plt.show()"
   ]
  },
  {
   "cell_type": "markdown",
   "metadata": {},
   "source": [
    "**Комментарий**: На графике видно, что в среднем за месяц пользователи пользуются акциями в течении полугода около `0.1`-`0.3`, пик графика находится в значении `~0.3`(~185 пользователей). Диапозон значений от `0` до `0.99`"
   ]
  },
  {
   "cell_type": "code",
   "execution_count": 32,
   "metadata": {},
   "outputs": [
    {
     "data": {
      "image/png": "[encoded data removed]",
      "text/plain": [
       "<Figure size 432x288 with 1 Axes>"
      ]
     },
     "metadata": {
      "needs_background": "light"
     },
     "output_type": "display_data"
    }
   ],
   "source": [
    "mf['популярная категория'].value_counts().plot(kind='bar', color='darkolivegreen', edgecolor='black')\n",
    "plt.title('Распредление популярная категория')\n",
    "plt.xlabel('Популярная категория')\n",
    "plt.ylabel('Частота')\n",
    "plt.xticks(rotation=45)\n",
    "plt.grid(True)\n",
    "plt.show()"
   ]
  },
  {
   "cell_type": "markdown",
   "metadata": {},
   "source": [
    "**КОмментарий**: Исходя из графика распределения можно сказать, что самая популярная категория у пользователей это-`товары для детей`, около `370` пользователей совершают покупки в ней в течении полугода, наименьшей популярностью среди пользователей обладает категории `мелкой бытовой техники и электроники, кухонной посуды` примерно `~140` пользователей заинтересовались ей в течении полугода."
   ]
  },
  {
   "cell_type": "code",
   "execution_count": 33,
   "metadata": {},
   "outputs": [
    {
     "data": {
      "image/png": "[encoded data removed]",
      "text/plain": [
       "<Figure size 720x720 with 1 Axes>"
      ]
     },
     "metadata": {
      "needs_background": "light"
     },
     "output_type": "display_data"
    }
   ],
   "source": [
    "plt.figure(figsize=(10,10))\n",
    "plt.hist(mf['средний просмотр категорий за визит'], bins=30, color='darkturquoise', edgecolor='black')\n",
    "plt.title('Распредление средний просмотр категорий за визит')\n",
    "plt.xlabel('Средний просмотр категорий за визит')\n",
    "plt.ylabel('Частота')\n",
    "plt.grid(True)\n",
    "plt.show()"
   ]
  },
  {
   "cell_type": "markdown",
   "metadata": {},
   "source": [
    "**Комментарий**: Большинство пользователей(>350) выделяют для себя `3` категории за визит, есть и те кто просматривает все категории за визит, таких около `75`, а есть пользователей, которых интересует только одна категория и их около `100`."
   ]
  },
  {
   "cell_type": "code",
   "execution_count": 34,
   "metadata": {},
   "outputs": [
    {
     "data": {
      "image/png": "[encoded data removed]",
      "text/plain": [
       "<Figure size 720x720 with 1 Axes>"
      ]
     },
     "metadata": {
      "needs_background": "light"
     },
     "output_type": "display_data"
    }
   ],
   "source": [
    "plt.figure(figsize=(10,10))\n",
    "plt.hist(mf['неоплаченные продукты штук квартал'], bins=30, color='cyan', edgecolor='black')\n",
    "plt.title('Распредление неоплаченные продукты штук квартал')\n",
    "plt.xlabel('Неоплаченные продукты штук квартал')\n",
    "plt.ylabel('Частота')\n",
    "plt.grid(True)\n",
    "plt.show()"
   ]
  },
  {
   "cell_type": "markdown",
   "metadata": {},
   "source": [
    "**Комментарий**: Большинство пользователей держат у себя `1`-`2` неоплаченных товара в корзине, таких пользователей около `520`. Есть и те у которых в корзине нет неоплаченных товаров их `~115`, общий диапозон определен на отрезке от 0 до 10, тех кто имеет от 6 до 10 неоплаченных товаров совсем мало - около `150` пользоваталей"
   ]
  },
  {
   "cell_type": "code",
   "execution_count": 35,
   "metadata": {},
   "outputs": [
    {
     "data": {
      "image/png": "[encoded data removed]",
      "text/plain": [
       "<Figure size 720x720 with 1 Axes>"
      ]
     },
     "metadata": {
      "needs_background": "light"
     },
     "output_type": "display_data"
    }
   ],
   "source": [
    "plt.figure(figsize=(10,10))\n",
    "plt.hist(mf['ошибка сервиса'], bins=30, color='coral', edgecolor='black')\n",
    "plt.title('Распредление ошибка сервиса')\n",
    "plt.xlabel('Ошибка сервиса')\n",
    "plt.ylabel('Частота')\n",
    "plt.grid(True)\n",
    "plt.show()"
   ]
  },
  {
   "cell_type": "markdown",
   "metadata": {},
   "source": [
    "**Комменатрий**: Большенство пользоватаелй столкнулись с `4` сбоями во время использования сайта, таких пользователей около `250`, диапозон числа сбоев распределен от `0` до `9`, меньше всего пользователей сталкивались с `9` сбоями или вовсе не сталкивались"
   ]
  },
  {
   "cell_type": "code",
   "execution_count": 36,
   "metadata": {},
   "outputs": [
    {
     "data": {
      "image/png": "[encoded data removed]",
      "text/plain": [
       "<Figure size 720x720 with 1 Axes>"
      ]
     },
     "metadata": {
      "needs_background": "light"
     },
     "output_type": "display_data"
    }
   ],
   "source": [
    "plt.figure(figsize=(10,10))\n",
    "plt.hist(mf['страниц за визит'], bins=30, color='lemonchiffon', edgecolor='black')\n",
    "plt.title('Распредление страниц за визит')\n",
    "plt.xlabel('Страниц за визит')\n",
    "plt.ylabel('Частота')\n",
    "plt.grid(True)\n",
    "plt.show()"
   ]
  },
  {
   "cell_type": "markdown",
   "metadata": {},
   "source": [
    "**Комментарий**: Больше всего пользователей посещают в среднем за визит около `6` страниц, диапозон значений определен от `1` до `20` страниц. Меньше всего пользователей, которые посещают более `15` страниц."
   ]
  },
  {
   "cell_type": "markdown",
   "metadata": {},
   "source": [
    "Ниже графики для mm(market_money)"
   ]
  },
  {
   "cell_type": "code",
   "execution_count": 37,
   "metadata": {},
   "outputs": [
    {
     "data": {
      "image/png": "[encoded data removed]",
      "text/plain": [
       "<Figure size 432x288 with 1 Axes>"
      ]
     },
     "metadata": {
      "needs_background": "light"
     },
     "output_type": "display_data"
    }
   ],
   "source": [
    "mm['период'].value_counts().plot(kind='bar', color='ivory', edgecolor='black')\n",
    "plt.title('Распредление период')\n",
    "plt.xlabel('Период')\n",
    "plt.ylabel('Частота')\n",
    "plt.xticks(rotation=45)\n",
    "plt.grid(True)\n",
    "plt.show()"
   ]
  },
  {
   "cell_type": "markdown",
   "metadata": {},
   "source": [
    "**Комментарий**: Данные распределены абсолютно равномерно, каждой значение достигает частоту в `1300`"
   ]
  },
  {
   "cell_type": "code",
   "execution_count": 38,
   "metadata": {},
   "outputs": [
    {
     "data": {
      "image/png": "[encoded data removed]",
      "text/plain": [
       "<Figure size 432x288 with 1 Axes>"
      ]
     },
     "metadata": {
      "needs_background": "light"
     },
     "output_type": "display_data"
    }
   ],
   "source": [
    "plt.hist(mm[mm['период']=='текущий месяц']['выручка'], bins=30, color='maroon', edgecolor='black')\n",
    "plt.title('Распределение выручка')\n",
    "plt.xlabel('Выручка')\n",
    "plt.ylabel('Частота')\n",
    "plt.grid(True)\n",
    "plt.show()"
   ]
  },
  {
   "cell_type": "code",
   "execution_count": 39,
   "metadata": {},
   "outputs": [
    {
     "data": {
      "text/html": [
       "<div>\n",
       "<style scoped>\n",
       "    .dataframe tbody tr th:only-of-type {\n",
       "        vertical-align: middle;\n",
       "    }\n",
       "\n",
       "    .dataframe tbody tr th {\n",
       "        vertical-align: top;\n",
       "    }\n",
       "\n",
       "    .dataframe thead th {\n",
       "        text-align: right;\n",
       "    }\n",
       "</style>\n",
       "<table border=\"1\" class=\"dataframe\">\n",
       "  <thead>\n",
       "    <tr style=\"text-align: right;\">\n",
       "      <th></th>\n",
       "      <th>id</th>\n",
       "      <th>выручка</th>\n",
       "    </tr>\n",
       "  </thead>\n",
       "  <tbody>\n",
       "    <tr>\n",
       "      <th>count</th>\n",
       "      <td>3900.000000</td>\n",
       "      <td>3900.000000</td>\n",
       "    </tr>\n",
       "    <tr>\n",
       "      <th>mean</th>\n",
       "      <td>215997.500000</td>\n",
       "      <td>5025.696051</td>\n",
       "    </tr>\n",
       "    <tr>\n",
       "      <th>std</th>\n",
       "      <td>375.325686</td>\n",
       "      <td>1777.704104</td>\n",
       "    </tr>\n",
       "    <tr>\n",
       "      <th>min</th>\n",
       "      <td>215348.000000</td>\n",
       "      <td>0.000000</td>\n",
       "    </tr>\n",
       "    <tr>\n",
       "      <th>25%</th>\n",
       "      <td>215672.750000</td>\n",
       "      <td>4590.150000</td>\n",
       "    </tr>\n",
       "    <tr>\n",
       "      <th>50%</th>\n",
       "      <td>215997.500000</td>\n",
       "      <td>4957.500000</td>\n",
       "    </tr>\n",
       "    <tr>\n",
       "      <th>75%</th>\n",
       "      <td>216322.250000</td>\n",
       "      <td>5363.000000</td>\n",
       "    </tr>\n",
       "    <tr>\n",
       "      <th>max</th>\n",
       "      <td>216647.000000</td>\n",
       "      <td>106862.200000</td>\n",
       "    </tr>\n",
       "  </tbody>\n",
       "</table>\n",
       "</div>"
      ],
      "text/plain": [
       "                  id        выручка\n",
       "count    3900.000000    3900.000000\n",
       "mean   215997.500000    5025.696051\n",
       "std       375.325686    1777.704104\n",
       "min    215348.000000       0.000000\n",
       "25%    215672.750000    4590.150000\n",
       "50%    215997.500000    4957.500000\n",
       "75%    216322.250000    5363.000000\n",
       "max    216647.000000  106862.200000"
      ]
     },
     "execution_count": 39,
     "metadata": {},
     "output_type": "execute_result"
    }
   ],
   "source": [
    "mm.describe()"
   ]
  },
  {
   "cell_type": "code",
   "execution_count": 40,
   "metadata": {},
   "outputs": [
    {
     "name": "stdout",
     "output_type": "stream",
     "text": [
      "Максимальное значение: 106862.2\n",
      "Второе по величине: 7799.4\n"
     ]
    }
   ],
   "source": [
    "max_value = mm['выручка'].max()\n",
    "second_max = mm['выручка'].nlargest(2).iloc[1]\n",
    "print('Максимальное значение:', max_value)\n",
    "print('Второе по величине:', second_max)"
   ]
  },
  {
   "cell_type": "code",
   "execution_count": 41,
   "metadata": {},
   "outputs": [
    {
     "data": {
      "image/png": "[encoded data removed]",
      "text/plain": [
       "<Figure size 432x288 with 1 Axes>"
      ]
     },
     "metadata": {
      "needs_background": "light"
     },
     "output_type": "display_data"
    }
   ],
   "source": [
    "max_value = mm['выручка'].max()\n",
    "mm_wo_max = mm[mm['выручка'] != max_value]\n",
    "plt.hist(mm_wo_max['выручка'], bins=30, color='maroon', edgecolor='black')\n",
    "plt.title('Распределение выручки без максимального выброса')\n",
    "plt.xlabel('Выручка')\n",
    "plt.ylabel('Частота')\n",
    "plt.grid(True)\n",
    "plt.show()"
   ]
  },
  {
   "cell_type": "markdown",
   "metadata": {},
   "source": [
    "**Комменатрий**: Первичный анализ показал наличие одного экстремального выброса в данных по выручке: максимальное значение составляет 106862.2, в то время как второе по величине — 7799.4. Это говорит о том, что выброс действительно единичный и сильно отличается от всех остальных наблюдений. После исключения этого максимального значения распределение выручки приобрело нормальный вид без выраженных хвостов"
   ]
  },
  {
   "cell_type": "code",
   "execution_count": 42,
   "metadata": {},
   "outputs": [
    {
     "data": {
      "image/png": "[encoded data removed]",
      "text/plain": [
       "<Figure size 432x288 with 1 Axes>"
      ]
     },
     "metadata": {
      "needs_background": "light"
     },
     "output_type": "display_data"
    }
   ],
   "source": [
    "plt.hist(mm[mm['период']=='предыдущий месяц']['выручка'], bins=30, color='maroon', edgecolor='black')\n",
    "plt.title('Распределение выручка')\n",
    "plt.xlabel('Выручка')\n",
    "plt.ylabel('Частота')\n",
    "plt.grid(True)\n",
    "plt.show()"
   ]
  },
  {
   "cell_type": "markdown",
   "metadata": {},
   "source": [
    "**Комментарий**: Распределение выручки за предыдущий месяц близко к нормальному: большинство покупателей имеют средние значения выручки, а экстремальные значения встречаются редко"
   ]
  },
  {
   "cell_type": "code",
   "execution_count": 43,
   "metadata": {},
   "outputs": [
    {
     "data": {
      "image/png": "[encoded data removed]",
      "text/plain": [
       "<Figure size 432x288 with 1 Axes>"
      ]
     },
     "metadata": {
      "needs_background": "light"
     },
     "output_type": "display_data"
    }
   ],
   "source": [
    "plt.hist(mm[mm['период']=='препредыдущий месяц']['выручка'], bins=30, color='maroon', edgecolor='black')\n",
    "plt.title('Распределение выручка')\n",
    "plt.xlabel('Выручка')\n",
    "plt.ylabel('Частота')\n",
    "plt.grid(True)\n",
    "plt.show()"
   ]
  },
  {
   "cell_type": "markdown",
   "metadata": {},
   "source": [
    "**Комменатрий**: Распределение выручки смещено вправо, основная масса покупателей приносит выручку в диапазоне от 4000 до 5500. Практически отсутствуют как очень низкие, так и очень высокие значения выручки — структура стабильная, а единичные нулевые значения могут быть выбросами или отсутствием активности."
   ]
  },
  {
   "cell_type": "markdown",
   "metadata": {},
   "source": [
    "Ниже графики для mt(market_time)"
   ]
  },
  {
   "cell_type": "code",
   "execution_count": 44,
   "metadata": {},
   "outputs": [
    {
     "data": {
      "image/png": "[encoded data removed]",
      "text/plain": [
       "<Figure size 432x288 with 1 Axes>"
      ]
     },
     "metadata": {
      "needs_background": "light"
     },
     "output_type": "display_data"
    }
   ],
   "source": [
    "mt['период'].value_counts().plot(kind='bar', color='ivory', edgecolor='black')\n",
    "plt.title('Распредление период')\n",
    "plt.xlabel('Период')\n",
    "plt.ylabel('Частота')\n",
    "plt.xticks(rotation=45)\n",
    "plt.grid(True)\n",
    "plt.show()"
   ]
  },
  {
   "cell_type": "markdown",
   "metadata": {},
   "source": [
    "**Комментарий:** Данные распределены абсолютно равномерно, каждой значение достигает частоту в 1300"
   ]
  },
  {
   "cell_type": "code",
   "execution_count": 45,
   "metadata": {},
   "outputs": [
    {
     "data": {
      "image/png": "[encoded data removed]",
      "text/plain": [
       "<Figure size 432x288 with 1 Axes>"
      ]
     },
     "metadata": {
      "needs_background": "light"
     },
     "output_type": "display_data"
    }
   ],
   "source": [
    "plt.hist(mt['минут'], bins=30, color='magenta', edgecolor='black')\n",
    "plt.title('Распределение минут')\n",
    "plt.xlabel('Минут')\n",
    "plt.ylabel('Частота')\n",
    "plt.grid(True)\n",
    "plt.show()"
   ]
  },
  {
   "cell_type": "markdown",
   "metadata": {},
   "source": [
    "**Комменатрий**: Большинство пользователей затрачивают от `8` до `14` минут на сайте, диапозон опредлен на отрезке от `4.5` до `23` минут."
   ]
  },
  {
   "cell_type": "markdown",
   "metadata": {},
   "source": [
    "Ниже графики для mn(money)"
   ]
  },
  {
   "cell_type": "code",
   "execution_count": 46,
   "metadata": {},
   "outputs": [
    {
     "data": {
      "image/png": "[encoded data removed]",
      "text/plain": [
       "<Figure size 432x288 with 1 Axes>"
      ]
     },
     "metadata": {
      "needs_background": "light"
     },
     "output_type": "display_data"
    }
   ],
   "source": [
    "plt.hist(mn['прибыль'], bins=30, color='darkviolet', edgecolor='black')\n",
    "plt.title('Распределение прибыль')\n",
    "plt.xlabel('Прибыль')\n",
    "plt.ylabel('Частота')\n",
    "plt.grid(True)\n",
    "plt.show()"
   ]
  },
  {
   "cell_type": "markdown",
   "metadata": {},
   "source": [
    "**Комменатрий**: График отражает распределение прибыли, где большинство значений сосредоточено в диапазоне от 3 до 5.\n",
    "Распределение близко к симметричному, что говорит о нормальном характере прибыли для основной части наблюдений."
   ]
  },
  {
   "cell_type": "markdown",
   "metadata": {},
   "source": [
    "**Отберем клиентов, которые совершали покупки за псоледние 3 месяца**"
   ]
  },
  {
   "cell_type": "code",
   "execution_count": 47,
   "metadata": {},
   "outputs": [],
   "source": [
    "df_with_sales = mm[mm['выручка'] > 0]\n",
    "sales_count = df_with_sales.groupby('id').size().reset_index(name='months_with_sales')\n",
    "active_clients = sales_count[sales_count['months_with_sales'] >= 3]\n",
    "active_client_ids = active_clients['id'].tolist()\n",
    "filtered_df = mm[mm['id'].isin(active_client_ids)]"
   ]
  },
  {
   "cell_type": "markdown",
   "metadata": {},
   "source": [
    "**Вывводы после исследовательского анализа**: Был проведен графический анализ распределения каждого признака из каждого файла с последующеми комментариями к каждому графику, также были отобраны пользователи, имеющие активность за последние 3 месяца."
   ]
  },
  {
   "cell_type": "code",
   "execution_count": 48,
   "metadata": {},
   "outputs": [],
   "source": [
    "mm = mm[mm['выручка'] != 0]"
   ]
  },
  {
   "cell_type": "markdown",
   "metadata": {},
   "source": [
    "## Объединение таблиц"
   ]
  },
  {
   "cell_type": "markdown",
   "metadata": {},
   "source": [
    "### Объединение таблиц market_file.csv, market_money.csv, market_time.csv"
   ]
  },
  {
   "cell_type": "markdown",
   "metadata": {},
   "source": [
    "### Добавление отдельного столбца для каждого периода"
   ]
  },
  {
   "cell_type": "code",
   "execution_count": 49,
   "metadata": {},
   "outputs": [
    {
     "data": {
      "text/html": [
       "<div>\n",
       "<style scoped>\n",
       "    .dataframe tbody tr th:only-of-type {\n",
       "        vertical-align: middle;\n",
       "    }\n",
       "\n",
       "    .dataframe tbody tr th {\n",
       "        vertical-align: top;\n",
       "    }\n",
       "\n",
       "    .dataframe thead th {\n",
       "        text-align: right;\n",
       "    }\n",
       "</style>\n",
       "<table border=\"1\" class=\"dataframe\">\n",
       "  <thead>\n",
       "    <tr style=\"text-align: right;\">\n",
       "      <th></th>\n",
       "      <th>id</th>\n",
       "      <th>покупательская активность</th>\n",
       "      <th>тип сервиса</th>\n",
       "      <th>разрешить сообщать</th>\n",
       "      <th>маркет актив 6 мес</th>\n",
       "      <th>маркет актив тек мес</th>\n",
       "      <th>длительность</th>\n",
       "      <th>акционные покупки</th>\n",
       "      <th>популярная категория</th>\n",
       "      <th>средний просмотр категорий за визит</th>\n",
       "      <th>неоплаченные продукты штук квартал</th>\n",
       "      <th>ошибка сервиса</th>\n",
       "      <th>страниц за визит</th>\n",
       "      <th>выручка предыдущий месяц</th>\n",
       "      <th>выручка препредыдущий месяц</th>\n",
       "      <th>выручка текущий месяц</th>\n",
       "      <th>минут предыдущий месяц</th>\n",
       "      <th>минут текущий месяц</th>\n",
       "    </tr>\n",
       "  </thead>\n",
       "  <tbody>\n",
       "    <tr>\n",
       "      <th>0</th>\n",
       "      <td>215348</td>\n",
       "      <td>снизилась</td>\n",
       "      <td>премиум</td>\n",
       "      <td>да</td>\n",
       "      <td>3.4</td>\n",
       "      <td>5</td>\n",
       "      <td>121</td>\n",
       "      <td>0.00</td>\n",
       "      <td>товары для детей</td>\n",
       "      <td>6</td>\n",
       "      <td>2</td>\n",
       "      <td>1</td>\n",
       "      <td>5</td>\n",
       "      <td>NaN</td>\n",
       "      <td>NaN</td>\n",
       "      <td>3293.1</td>\n",
       "      <td>13</td>\n",
       "      <td>14</td>\n",
       "    </tr>\n",
       "    <tr>\n",
       "      <th>1</th>\n",
       "      <td>215349</td>\n",
       "      <td>снизилась</td>\n",
       "      <td>премиум</td>\n",
       "      <td>да</td>\n",
       "      <td>4.4</td>\n",
       "      <td>4</td>\n",
       "      <td>819</td>\n",
       "      <td>0.75</td>\n",
       "      <td>товары для детей</td>\n",
       "      <td>4</td>\n",
       "      <td>4</td>\n",
       "      <td>2</td>\n",
       "      <td>5</td>\n",
       "      <td>5216.0</td>\n",
       "      <td>4472.0</td>\n",
       "      <td>4971.6</td>\n",
       "      <td>12</td>\n",
       "      <td>10</td>\n",
       "    </tr>\n",
       "    <tr>\n",
       "      <th>2</th>\n",
       "      <td>215350</td>\n",
       "      <td>снизилась</td>\n",
       "      <td>стандарт</td>\n",
       "      <td>нет</td>\n",
       "      <td>4.9</td>\n",
       "      <td>3</td>\n",
       "      <td>539</td>\n",
       "      <td>0.14</td>\n",
       "      <td>домашний текстиль</td>\n",
       "      <td>5</td>\n",
       "      <td>2</td>\n",
       "      <td>1</td>\n",
       "      <td>5</td>\n",
       "      <td>5457.5</td>\n",
       "      <td>4826.0</td>\n",
       "      <td>5058.4</td>\n",
       "      <td>8</td>\n",
       "      <td>13</td>\n",
       "    </tr>\n",
       "    <tr>\n",
       "      <th>3</th>\n",
       "      <td>215351</td>\n",
       "      <td>снизилась</td>\n",
       "      <td>стандарт</td>\n",
       "      <td>да</td>\n",
       "      <td>3.2</td>\n",
       "      <td>5</td>\n",
       "      <td>896</td>\n",
       "      <td>0.99</td>\n",
       "      <td>товары для детей</td>\n",
       "      <td>5</td>\n",
       "      <td>0</td>\n",
       "      <td>6</td>\n",
       "      <td>4</td>\n",
       "      <td>6158.0</td>\n",
       "      <td>4793.0</td>\n",
       "      <td>6610.4</td>\n",
       "      <td>11</td>\n",
       "      <td>13</td>\n",
       "    </tr>\n",
       "    <tr>\n",
       "      <th>4</th>\n",
       "      <td>215352</td>\n",
       "      <td>снизилась</td>\n",
       "      <td>стандарт</td>\n",
       "      <td>нет</td>\n",
       "      <td>5.1</td>\n",
       "      <td>3</td>\n",
       "      <td>1064</td>\n",
       "      <td>0.94</td>\n",
       "      <td>товары для детей</td>\n",
       "      <td>3</td>\n",
       "      <td>2</td>\n",
       "      <td>3</td>\n",
       "      <td>2</td>\n",
       "      <td>5807.5</td>\n",
       "      <td>4594.0</td>\n",
       "      <td>5872.5</td>\n",
       "      <td>8</td>\n",
       "      <td>11</td>\n",
       "    </tr>\n",
       "  </tbody>\n",
       "</table>\n",
       "</div>"
      ],
      "text/plain": [
       "       id покупательская активность тип сервиса разрешить сообщать  \\\n",
       "0  215348                 снизилась     премиум                 да   \n",
       "1  215349                 снизилась     премиум                 да   \n",
       "2  215350                 снизилась    стандарт                нет   \n",
       "3  215351                 снизилась    стандарт                 да   \n",
       "4  215352                 снизилась    стандарт                нет   \n",
       "\n",
       "   маркет актив 6 мес  маркет актив тек мес  длительность  акционные покупки  \\\n",
       "0                 3.4                     5           121               0.00   \n",
       "1                 4.4                     4           819               0.75   \n",
       "2                 4.9                     3           539               0.14   \n",
       "3                 3.2                     5           896               0.99   \n",
       "4                 5.1                     3          1064               0.94   \n",
       "\n",
       "  популярная категория  средний просмотр категорий за визит  \\\n",
       "0     товары для детей                                    6   \n",
       "1     товары для детей                                    4   \n",
       "2    домашний текстиль                                    5   \n",
       "3     товары для детей                                    5   \n",
       "4     товары для детей                                    3   \n",
       "\n",
       "   неоплаченные продукты штук квартал  ошибка сервиса  страниц за визит  \\\n",
       "0                                   2               1                 5   \n",
       "1                                   4               2                 5   \n",
       "2                                   2               1                 5   \n",
       "3                                   0               6                 4   \n",
       "4                                   2               3                 2   \n",
       "\n",
       "   выручка предыдущий месяц  выручка препредыдущий месяц  \\\n",
       "0                       NaN                          NaN   \n",
       "1                    5216.0                       4472.0   \n",
       "2                    5457.5                       4826.0   \n",
       "3                    6158.0                       4793.0   \n",
       "4                    5807.5                       4594.0   \n",
       "\n",
       "   выручка текущий месяц  минут предыдущий месяц  минут текущий месяц  \n",
       "0                 3293.1                      13                   14  \n",
       "1                 4971.6                      12                   10  \n",
       "2                 5058.4                       8                   13  \n",
       "3                 6610.4                      11                   13  \n",
       "4                 5872.5                       8                   11  "
      ]
     },
     "execution_count": 49,
     "metadata": {},
     "output_type": "execute_result"
    }
   ],
   "source": [
    "mm_pivot=mm.pivot(index='id', columns='период', values='выручка')\n",
    "mm_pivot.columns=[f'выручка {col}' for col in mm_pivot.columns]\n",
    "mm_pivot=mm_pivot.reset_index()\n",
    "\n",
    "mt_pivot=mt.pivot(index='id', columns='период', values='минут')\n",
    "mt_pivot.columns=[f'минут {col}' for col in mt_pivot.columns]\n",
    "mt_pivot = mt_pivot.reset_index()\n",
    "\n",
    "df_merged = mf.merge(mm_pivot, on='id', how='left').merge(mt_pivot, on='id', how='left')\n",
    "df_merged.head()"
   ]
  },
  {
   "cell_type": "markdown",
   "metadata": {},
   "source": [
    "**Комментарий**: Теперь у нас есть таблица, в которой все данные из `market_file` и сведения о выручки и времени из файлов `market_money` и `market_time`."
   ]
  },
  {
   "cell_type": "markdown",
   "metadata": {},
   "source": [
    "## Корреляционный анализ"
   ]
  },
  {
   "cell_type": "code",
   "execution_count": 50,
   "metadata": {},
   "outputs": [
    {
     "name": "stdout",
     "output_type": "stream",
     "text": [
      "interval columns not set, guessing: ['id', 'маркет актив 6 мес', 'маркет актив тек мес', 'длительность', 'акционные покупки', 'средний просмотр категорий за визит', 'неоплаченные продукты штук квартал', 'ошибка сервиса', 'страниц за визит', 'выручка предыдущий месяц', 'выручка препредыдущий месяц', 'выручка текущий месяц', 'минут предыдущий месяц', 'минут текущий месяц']\n"
     ]
    },
    {
     "data": {
      "image/png": "[encoded data removed]",
      "text/plain": [
       "<Figure size 720x720 with 2 Axes>"
      ]
     },
     "metadata": {
      "needs_background": "light"
     },
     "output_type": "display_data"
    }
   ],
   "source": [
    "phik_matrix = df_merged.select_dtypes(include=[np.number]).phik_matrix()\n",
    "plt.figure(figsize=(10, 10))\n",
    "sns.heatmap(phik_matrix, cmap='coolwarm', annot=True) \n",
    "plt.title('Тепловая матрица корреляции PhiK')\n",
    "plt.show()"
   ]
  },
  {
   "cell_type": "markdown",
   "metadata": {},
   "source": [
    "**Вывод**: Мультиколлинеарности нет."
   ]
  },
  {
   "cell_type": "markdown",
   "metadata": {},
   "source": [
    "## Использование пайплайнов"
   ]
  },
  {
   "cell_type": "markdown",
   "metadata": {},
   "source": [
    "### Обработка данных"
   ]
  },
  {
   "cell_type": "code",
   "execution_count": 51,
   "metadata": {},
   "outputs": [],
   "source": [
    "RANDOM_STATE=44\n",
    "X = df_merged.drop(['покупательская активность'], axis=1)\n",
    "y = df_merged['покупательская активность']\n",
    "\n",
    "X_train, X_test, y_train, y_test = train_test_split(\n",
    "    X, y, test_size=0.25, random_state=RANDOM_STATE, stratify=y\n",
    ")\n",
    "\n",
    "y_train = y_train.map({'прежний уровень': 0, 'снизилась': 1})\n",
    "y_test = y_test.map({'прежний уровень': 0, 'снизилась': 1})\n",
    "ohe_columns = ['разрешить сообщать', 'популярная категория']\n",
    "ord_columns = ['тип сервиса']\n",
    "num_columns = df_merged.columns.drop(['разрешить сообщать', 'популярная категория', 'покупательская активность', 'тип сервиса', 'id'])\n",
    "\n",
    "ohe_pipe = Pipeline([('simpleImputer_ohe', SimpleImputer(missing_values=np.nan, strategy='most_frequent')),\n",
    "                    ('ohe', OneHotEncoder(drop='first', handle_unknown='ignore'))])\n",
    "\n",
    "ord_pipe = Pipeline([('simpleImputer_before_ord', SimpleImputer(missing_values=np.nan, strategy='most_frequent')), \n",
    "                    ('ord', OrdinalEncoder(categories=[\n",
    "                        ['стандарт', 'премиум']\n",
    "                    ], handle_unknown='use_encoded_value', unknown_value=np.nan)),\n",
    "                    ('simpleImputer_after_ord', SimpleImputer(missing_values=np.nan, strategy='most_frequent'))])\n",
    "\n",
    "preprocessor = ColumnTransformer([\n",
    "    ('ohe', ohe_pipe, ohe_columns),\n",
    "    ('ord', ord_pipe, ord_columns),\n",
    "    ('num', MinMaxScaler(), num_columns)\n",
    "], remainder='passthrough')"
   ]
  },
  {
   "cell_type": "markdown",
   "metadata": {},
   "source": [
    "**Комменатрий**: В коде выше есть две строчки, которые переводят целевой признак `покупательская активностЬ` в бинарный вид, где \n",
    "`1`-снизилась, а `0`-прежний уровень."
   ]
  },
  {
   "cell_type": "markdown",
   "metadata": {},
   "source": [
    "**Выбор метрики:** В данной задаче лучше использовать `f1` метрику, т.к. нам важно не упускать клиентов чья активность снизилась, но и при этом не делать звонки, рассылки и т.д. всем подряд"
   ]
  },
  {
   "cell_type": "markdown",
   "metadata": {},
   "source": [
    "### Обучение четырех моделей"
   ]
  },
  {
   "cell_type": "code",
   "execution_count": 52,
   "metadata": {},
   "outputs": [
    {
     "name": "stderr",
     "output_type": "stream",
     "text": [
      "/opt/conda/lib/python3.9/site-packages/sklearn/model_selection/_validation.py:528: FitFailedWarning: \n",
      "110 fits failed out of a total of 140.\n",
      "The score on these train-test partitions for these parameters will be set to nan.\n",
      "If these failures are not expected, you can try to debug them by setting error_score='raise'.\n",
      "\n",
      "Below are more details about the failures:\n",
      "--------------------------------------------------------------------------------\n",
      "30 fits failed with the following error:\n",
      "Traceback (most recent call last):\n",
      "  File \"/opt/conda/lib/python3.9/site-packages/sklearn/model_selection/_validation.py\", line 866, in _fit_and_score\n",
      "    estimator.fit(X_train, y_train, **fit_params)\n",
      "  File \"/opt/conda/lib/python3.9/site-packages/sklearn/base.py\", line 1389, in wrapper\n",
      "    return fit_method(estimator, *args, **kwargs)\n",
      "  File \"/opt/conda/lib/python3.9/site-packages/sklearn/pipeline.py\", line 662, in fit\n",
      "    self._final_estimator.fit(Xt, y, **last_step_params[\"fit\"])\n",
      "  File \"/opt/conda/lib/python3.9/site-packages/sklearn/base.py\", line 1389, in wrapper\n",
      "    return fit_method(estimator, *args, **kwargs)\n",
      "  File \"/opt/conda/lib/python3.9/site-packages/sklearn/neighbors/_classification.py\", line 239, in fit\n",
      "    return self._fit(X, y)\n",
      "  File \"/opt/conda/lib/python3.9/site-packages/sklearn/neighbors/_base.py\", line 478, in _fit\n",
      "    X, y = validate_data(\n",
      "  File \"/opt/conda/lib/python3.9/site-packages/sklearn/utils/validation.py\", line 2961, in validate_data\n",
      "    X, y = check_X_y(X, y, **check_params)\n",
      "  File \"/opt/conda/lib/python3.9/site-packages/sklearn/utils/validation.py\", line 1370, in check_X_y\n",
      "    X = check_array(\n",
      "  File \"/opt/conda/lib/python3.9/site-packages/sklearn/utils/validation.py\", line 1107, in check_array\n",
      "    _assert_all_finite(\n",
      "  File \"/opt/conda/lib/python3.9/site-packages/sklearn/utils/validation.py\", line 120, in _assert_all_finite\n",
      "    _assert_all_finite_element_wise(\n",
      "  File \"/opt/conda/lib/python3.9/site-packages/sklearn/utils/validation.py\", line 169, in _assert_all_finite_element_wise\n",
      "    raise ValueError(msg_err)\n",
      "ValueError: Input X contains NaN.\n",
      "KNeighborsClassifier does not accept missing values encoded as NaN natively. For supervised learning, you might want to consider sklearn.ensemble.HistGradientBoostingClassifier and Regressor which accept missing values encoded as NaNs natively. Alternatively, it is possible to preprocess the data, for instance by using an imputer transformer in a pipeline or drop samples with missing values. See https://scikit-learn.org/stable/modules/impute.html You can find a list of all estimators that handle NaN values at the following page: https://scikit-learn.org/stable/modules/impute.html#estimators-that-handle-nan-values\n",
      "\n",
      "--------------------------------------------------------------------------------\n",
      "40 fits failed with the following error:\n",
      "Traceback (most recent call last):\n",
      "  File \"/opt/conda/lib/python3.9/site-packages/sklearn/model_selection/_validation.py\", line 866, in _fit_and_score\n",
      "    estimator.fit(X_train, y_train, **fit_params)\n",
      "  File \"/opt/conda/lib/python3.9/site-packages/sklearn/base.py\", line 1389, in wrapper\n",
      "    return fit_method(estimator, *args, **kwargs)\n",
      "  File \"/opt/conda/lib/python3.9/site-packages/sklearn/pipeline.py\", line 662, in fit\n",
      "    self._final_estimator.fit(Xt, y, **last_step_params[\"fit\"])\n",
      "  File \"/opt/conda/lib/python3.9/site-packages/sklearn/base.py\", line 1389, in wrapper\n",
      "    return fit_method(estimator, *args, **kwargs)\n",
      "  File \"/opt/conda/lib/python3.9/site-packages/sklearn/linear_model/_logistic.py\", line 1222, in fit\n",
      "    X, y = validate_data(\n",
      "  File \"/opt/conda/lib/python3.9/site-packages/sklearn/utils/validation.py\", line 2961, in validate_data\n",
      "    X, y = check_X_y(X, y, **check_params)\n",
      "  File \"/opt/conda/lib/python3.9/site-packages/sklearn/utils/validation.py\", line 1370, in check_X_y\n",
      "    X = check_array(\n",
      "  File \"/opt/conda/lib/python3.9/site-packages/sklearn/utils/validation.py\", line 1107, in check_array\n",
      "    _assert_all_finite(\n",
      "  File \"/opt/conda/lib/python3.9/site-packages/sklearn/utils/validation.py\", line 120, in _assert_all_finite\n",
      "    _assert_all_finite_element_wise(\n",
      "  File \"/opt/conda/lib/python3.9/site-packages/sklearn/utils/validation.py\", line 169, in _assert_all_finite_element_wise\n",
      "    raise ValueError(msg_err)\n",
      "ValueError: Input X contains NaN.\n",
      "LogisticRegression does not accept missing values encoded as NaN natively. For supervised learning, you might want to consider sklearn.ensemble.HistGradientBoostingClassifier and Regressor which accept missing values encoded as NaNs natively. Alternatively, it is possible to preprocess the data, for instance by using an imputer transformer in a pipeline or drop samples with missing values. See https://scikit-learn.org/stable/modules/impute.html You can find a list of all estimators that handle NaN values at the following page: https://scikit-learn.org/stable/modules/impute.html#estimators-that-handle-nan-values\n",
      "\n",
      "--------------------------------------------------------------------------------\n",
      "40 fits failed with the following error:\n",
      "Traceback (most recent call last):\n",
      "  File \"/opt/conda/lib/python3.9/site-packages/sklearn/model_selection/_validation.py\", line 866, in _fit_and_score\n",
      "    estimator.fit(X_train, y_train, **fit_params)\n",
      "  File \"/opt/conda/lib/python3.9/site-packages/sklearn/base.py\", line 1389, in wrapper\n",
      "    return fit_method(estimator, *args, **kwargs)\n",
      "  File \"/opt/conda/lib/python3.9/site-packages/sklearn/pipeline.py\", line 662, in fit\n",
      "    self._final_estimator.fit(Xt, y, **last_step_params[\"fit\"])\n",
      "  File \"/opt/conda/lib/python3.9/site-packages/sklearn/base.py\", line 1389, in wrapper\n",
      "    return fit_method(estimator, *args, **kwargs)\n",
      "  File \"/opt/conda/lib/python3.9/site-packages/sklearn/svm/_base.py\", line 197, in fit\n",
      "    X, y = validate_data(\n",
      "  File \"/opt/conda/lib/python3.9/site-packages/sklearn/utils/validation.py\", line 2961, in validate_data\n",
      "    X, y = check_X_y(X, y, **check_params)\n",
      "  File \"/opt/conda/lib/python3.9/site-packages/sklearn/utils/validation.py\", line 1370, in check_X_y\n",
      "    X = check_array(\n",
      "  File \"/opt/conda/lib/python3.9/site-packages/sklearn/utils/validation.py\", line 1107, in check_array\n",
      "    _assert_all_finite(\n",
      "  File \"/opt/conda/lib/python3.9/site-packages/sklearn/utils/validation.py\", line 120, in _assert_all_finite\n",
      "    _assert_all_finite_element_wise(\n",
      "  File \"/opt/conda/lib/python3.9/site-packages/sklearn/utils/validation.py\", line 169, in _assert_all_finite_element_wise\n",
      "    raise ValueError(msg_err)\n",
      "ValueError: Input X contains NaN.\n",
      "SVC does not accept missing values encoded as NaN natively. For supervised learning, you might want to consider sklearn.ensemble.HistGradientBoostingClassifier and Regressor which accept missing values encoded as NaNs natively. Alternatively, it is possible to preprocess the data, for instance by using an imputer transformer in a pipeline or drop samples with missing values. See https://scikit-learn.org/stable/modules/impute.html You can find a list of all estimators that handle NaN values at the following page: https://scikit-learn.org/stable/modules/impute.html#estimators-that-handle-nan-values\n",
      "\n",
      "  warnings.warn(some_fits_failed_message, FitFailedWarning)\n",
      "/opt/conda/lib/python3.9/site-packages/sklearn/model_selection/_search.py:1108: UserWarning: One or more of the test scores are non-finite: [0.76494008 0.76494008 0.7874263  0.7874263  0.79277972 0.79277972\n",
      "        nan        nan        nan        nan        nan        nan\n",
      "        nan        nan        nan        nan        nan        nan\n",
      "        nan        nan        nan        nan        nan        nan\n",
      "        nan        nan        nan        nan]\n",
      "  warnings.warn(\n"
     ]
    },
    {
     "data": {
      "text/plain": [
       "'Лучшая модель и её параметры:\\n\\n'"
      ]
     },
     "metadata": {},
     "output_type": "display_data"
    },
    {
     "data": {
      "text/html": [
       "<style>#sk-container-id-1 {\n",
       "  /* Definition of color scheme common for light and dark mode */\n",
       "  --sklearn-color-text: #000;\n",
       "  --sklearn-color-text-muted: #666;\n",
       "  --sklearn-color-line: gray;\n",
       "  /* Definition of color scheme for unfitted estimators */\n",
       "  --sklearn-color-unfitted-level-0: #fff5e6;\n",
       "  --sklearn-color-unfitted-level-1: #f6e4d2;\n",
       "  --sklearn-color-unfitted-level-2: #ffe0b3;\n",
       "  --sklearn-color-unfitted-level-3: chocolate;\n",
       "  /* Definition of color scheme for fitted estimators */\n",
       "  --sklearn-color-fitted-level-0: #f0f8ff;\n",
       "  --sklearn-color-fitted-level-1: #d4ebff;\n",
       "  --sklearn-color-fitted-level-2: #b3dbfd;\n",
       "  --sklearn-color-fitted-level-3: cornflowerblue;\n",
       "\n",
       "  /* Specific color for light theme */\n",
       "  --sklearn-color-text-on-default-background: var(--sg-text-color, var(--theme-code-foreground, var(--jp-content-font-color1, black)));\n",
       "  --sklearn-color-background: var(--sg-background-color, var(--theme-background, var(--jp-layout-color0, white)));\n",
       "  --sklearn-color-border-box: var(--sg-text-color, var(--theme-code-foreground, var(--jp-content-font-color1, black)));\n",
       "  --sklearn-color-icon: #696969;\n",
       "\n",
       "  @media (prefers-color-scheme: dark) {\n",
       "    /* Redefinition of color scheme for dark theme */\n",
       "    --sklearn-color-text-on-default-background: var(--sg-text-color, var(--theme-code-foreground, var(--jp-content-font-color1, white)));\n",
       "    --sklearn-color-background: var(--sg-background-color, var(--theme-background, var(--jp-layout-color0, #111)));\n",
       "    --sklearn-color-border-box: var(--sg-text-color, var(--theme-code-foreground, var(--jp-content-font-color1, white)));\n",
       "    --sklearn-color-icon: #878787;\n",
       "  }\n",
       "}\n",
       "\n",
       "#sk-container-id-1 {\n",
       "  color: var(--sklearn-color-text);\n",
       "}\n",
       "\n",
       "#sk-container-id-1 pre {\n",
       "  padding: 0;\n",
       "}\n",
       "\n",
       "#sk-container-id-1 input.sk-hidden--visually {\n",
       "  border: 0;\n",
       "  clip: rect(1px 1px 1px 1px);\n",
       "  clip: rect(1px, 1px, 1px, 1px);\n",
       "  height: 1px;\n",
       "  margin: -1px;\n",
       "  overflow: hidden;\n",
       "  padding: 0;\n",
       "  position: absolute;\n",
       "  width: 1px;\n",
       "}\n",
       "\n",
       "#sk-container-id-1 div.sk-dashed-wrapped {\n",
       "  border: 1px dashed var(--sklearn-color-line);\n",
       "  margin: 0 0.4em 0.5em 0.4em;\n",
       "  box-sizing: border-box;\n",
       "  padding-bottom: 0.4em;\n",
       "  background-color: var(--sklearn-color-background);\n",
       "}\n",
       "\n",
       "#sk-container-id-1 div.sk-container {\n",
       "  /* jupyter's `normalize.less` sets `[hidden] { display: none; }`\n",
       "     but bootstrap.min.css set `[hidden] { display: none !important; }`\n",
       "     so we also need the `!important` here to be able to override the\n",
       "     default hidden behavior on the sphinx rendered scikit-learn.org.\n",
       "     See: https://github.com/scikit-learn/scikit-learn/issues/21755 */\n",
       "  display: inline-block !important;\n",
       "  position: relative;\n",
       "}\n",
       "\n",
       "#sk-container-id-1 div.sk-text-repr-fallback {\n",
       "  display: none;\n",
       "}\n",
       "\n",
       "div.sk-parallel-item,\n",
       "div.sk-serial,\n",
       "div.sk-item {\n",
       "  /* draw centered vertical line to link estimators */\n",
       "  background-image: linear-gradient(var(--sklearn-color-text-on-default-background), var(--sklearn-color-text-on-default-background));\n",
       "  background-size: 2px 100%;\n",
       "  background-repeat: no-repeat;\n",
       "  background-position: center center;\n",
       "}\n",
       "\n",
       "/* Parallel-specific style estimator block */\n",
       "\n",
       "#sk-container-id-1 div.sk-parallel-item::after {\n",
       "  content: \"\";\n",
       "  width: 100%;\n",
       "  border-bottom: 2px solid var(--sklearn-color-text-on-default-background);\n",
       "  flex-grow: 1;\n",
       "}\n",
       "\n",
       "#sk-container-id-1 div.sk-parallel {\n",
       "  display: flex;\n",
       "  align-items: stretch;\n",
       "  justify-content: center;\n",
       "  background-color: var(--sklearn-color-background);\n",
       "  position: relative;\n",
       "}\n",
       "\n",
       "#sk-container-id-1 div.sk-parallel-item {\n",
       "  display: flex;\n",
       "  flex-direction: column;\n",
       "}\n",
       "\n",
       "#sk-container-id-1 div.sk-parallel-item:first-child::after {\n",
       "  align-self: flex-end;\n",
       "  width: 50%;\n",
       "}\n",
       "\n",
       "#sk-container-id-1 div.sk-parallel-item:last-child::after {\n",
       "  align-self: flex-start;\n",
       "  width: 50%;\n",
       "}\n",
       "\n",
       "#sk-container-id-1 div.sk-parallel-item:only-child::after {\n",
       "  width: 0;\n",
       "}\n",
       "\n",
       "/* Serial-specific style estimator block */\n",
       "\n",
       "#sk-container-id-1 div.sk-serial {\n",
       "  display: flex;\n",
       "  flex-direction: column;\n",
       "  align-items: center;\n",
       "  background-color: var(--sklearn-color-background);\n",
       "  padding-right: 1em;\n",
       "  padding-left: 1em;\n",
       "}\n",
       "\n",
       "\n",
       "/* Toggleable style: style used for estimator/Pipeline/ColumnTransformer box that is\n",
       "clickable and can be expanded/collapsed.\n",
       "- Pipeline and ColumnTransformer use this feature and define the default style\n",
       "- Estimators will overwrite some part of the style using the `sk-estimator` class\n",
       "*/\n",
       "\n",
       "/* Pipeline and ColumnTransformer style (default) */\n",
       "\n",
       "#sk-container-id-1 div.sk-toggleable {\n",
       "  /* Default theme specific background. It is overwritten whether we have a\n",
       "  specific estimator or a Pipeline/ColumnTransformer */\n",
       "  background-color: var(--sklearn-color-background);\n",
       "}\n",
       "\n",
       "/* Toggleable label */\n",
       "#sk-container-id-1 label.sk-toggleable__label {\n",
       "  cursor: pointer;\n",
       "  display: flex;\n",
       "  width: 100%;\n",
       "  margin-bottom: 0;\n",
       "  padding: 0.5em;\n",
       "  box-sizing: border-box;\n",
       "  text-align: center;\n",
       "  align-items: start;\n",
       "  justify-content: space-between;\n",
       "  gap: 0.5em;\n",
       "}\n",
       "\n",
       "#sk-container-id-1 label.sk-toggleable__label .caption {\n",
       "  font-size: 0.6rem;\n",
       "  font-weight: lighter;\n",
       "  color: var(--sklearn-color-text-muted);\n",
       "}\n",
       "\n",
       "#sk-container-id-1 label.sk-toggleable__label-arrow:before {\n",
       "  /* Arrow on the left of the label */\n",
       "  content: \"▸\";\n",
       "  float: left;\n",
       "  margin-right: 0.25em;\n",
       "  color: var(--sklearn-color-icon);\n",
       "}\n",
       "\n",
       "#sk-container-id-1 label.sk-toggleable__label-arrow:hover:before {\n",
       "  color: var(--sklearn-color-text);\n",
       "}\n",
       "\n",
       "/* Toggleable content - dropdown */\n",
       "\n",
       "#sk-container-id-1 div.sk-toggleable__content {\n",
       "  max-height: 0;\n",
       "  max-width: 0;\n",
       "  overflow: hidden;\n",
       "  text-align: left;\n",
       "  /* unfitted */\n",
       "  background-color: var(--sklearn-color-unfitted-level-0);\n",
       "}\n",
       "\n",
       "#sk-container-id-1 div.sk-toggleable__content.fitted {\n",
       "  /* fitted */\n",
       "  background-color: var(--sklearn-color-fitted-level-0);\n",
       "}\n",
       "\n",
       "#sk-container-id-1 div.sk-toggleable__content pre {\n",
       "  margin: 0.2em;\n",
       "  border-radius: 0.25em;\n",
       "  color: var(--sklearn-color-text);\n",
       "  /* unfitted */\n",
       "  background-color: var(--sklearn-color-unfitted-level-0);\n",
       "}\n",
       "\n",
       "#sk-container-id-1 div.sk-toggleable__content.fitted pre {\n",
       "  /* unfitted */\n",
       "  background-color: var(--sklearn-color-fitted-level-0);\n",
       "}\n",
       "\n",
       "#sk-container-id-1 input.sk-toggleable__control:checked~div.sk-toggleable__content {\n",
       "  /* Expand drop-down */\n",
       "  max-height: 200px;\n",
       "  max-width: 100%;\n",
       "  overflow: auto;\n",
       "}\n",
       "\n",
       "#sk-container-id-1 input.sk-toggleable__control:checked~label.sk-toggleable__label-arrow:before {\n",
       "  content: \"▾\";\n",
       "}\n",
       "\n",
       "/* Pipeline/ColumnTransformer-specific style */\n",
       "\n",
       "#sk-container-id-1 div.sk-label input.sk-toggleable__control:checked~label.sk-toggleable__label {\n",
       "  color: var(--sklearn-color-text);\n",
       "  background-color: var(--sklearn-color-unfitted-level-2);\n",
       "}\n",
       "\n",
       "#sk-container-id-1 div.sk-label.fitted input.sk-toggleable__control:checked~label.sk-toggleable__label {\n",
       "  background-color: var(--sklearn-color-fitted-level-2);\n",
       "}\n",
       "\n",
       "/* Estimator-specific style */\n",
       "\n",
       "/* Colorize estimator box */\n",
       "#sk-container-id-1 div.sk-estimator input.sk-toggleable__control:checked~label.sk-toggleable__label {\n",
       "  /* unfitted */\n",
       "  background-color: var(--sklearn-color-unfitted-level-2);\n",
       "}\n",
       "\n",
       "#sk-container-id-1 div.sk-estimator.fitted input.sk-toggleable__control:checked~label.sk-toggleable__label {\n",
       "  /* fitted */\n",
       "  background-color: var(--sklearn-color-fitted-level-2);\n",
       "}\n",
       "\n",
       "#sk-container-id-1 div.sk-label label.sk-toggleable__label,\n",
       "#sk-container-id-1 div.sk-label label {\n",
       "  /* The background is the default theme color */\n",
       "  color: var(--sklearn-color-text-on-default-background);\n",
       "}\n",
       "\n",
       "/* On hover, darken the color of the background */\n",
       "#sk-container-id-1 div.sk-label:hover label.sk-toggleable__label {\n",
       "  color: var(--sklearn-color-text);\n",
       "  background-color: var(--sklearn-color-unfitted-level-2);\n",
       "}\n",
       "\n",
       "/* Label box, darken color on hover, fitted */\n",
       "#sk-container-id-1 div.sk-label.fitted:hover label.sk-toggleable__label.fitted {\n",
       "  color: var(--sklearn-color-text);\n",
       "  background-color: var(--sklearn-color-fitted-level-2);\n",
       "}\n",
       "\n",
       "/* Estimator label */\n",
       "\n",
       "#sk-container-id-1 div.sk-label label {\n",
       "  font-family: monospace;\n",
       "  font-weight: bold;\n",
       "  display: inline-block;\n",
       "  line-height: 1.2em;\n",
       "}\n",
       "\n",
       "#sk-container-id-1 div.sk-label-container {\n",
       "  text-align: center;\n",
       "}\n",
       "\n",
       "/* Estimator-specific */\n",
       "#sk-container-id-1 div.sk-estimator {\n",
       "  font-family: monospace;\n",
       "  border: 1px dotted var(--sklearn-color-border-box);\n",
       "  border-radius: 0.25em;\n",
       "  box-sizing: border-box;\n",
       "  margin-bottom: 0.5em;\n",
       "  /* unfitted */\n",
       "  background-color: var(--sklearn-color-unfitted-level-0);\n",
       "}\n",
       "\n",
       "#sk-container-id-1 div.sk-estimator.fitted {\n",
       "  /* fitted */\n",
       "  background-color: var(--sklearn-color-fitted-level-0);\n",
       "}\n",
       "\n",
       "/* on hover */\n",
       "#sk-container-id-1 div.sk-estimator:hover {\n",
       "  /* unfitted */\n",
       "  background-color: var(--sklearn-color-unfitted-level-2);\n",
       "}\n",
       "\n",
       "#sk-container-id-1 div.sk-estimator.fitted:hover {\n",
       "  /* fitted */\n",
       "  background-color: var(--sklearn-color-fitted-level-2);\n",
       "}\n",
       "\n",
       "/* Specification for estimator info (e.g. \"i\" and \"?\") */\n",
       "\n",
       "/* Common style for \"i\" and \"?\" */\n",
       "\n",
       ".sk-estimator-doc-link,\n",
       "a:link.sk-estimator-doc-link,\n",
       "a:visited.sk-estimator-doc-link {\n",
       "  float: right;\n",
       "  font-size: smaller;\n",
       "  line-height: 1em;\n",
       "  font-family: monospace;\n",
       "  background-color: var(--sklearn-color-background);\n",
       "  border-radius: 1em;\n",
       "  height: 1em;\n",
       "  width: 1em;\n",
       "  text-decoration: none !important;\n",
       "  margin-left: 0.5em;\n",
       "  text-align: center;\n",
       "  /* unfitted */\n",
       "  border: var(--sklearn-color-unfitted-level-1) 1pt solid;\n",
       "  color: var(--sklearn-color-unfitted-level-1);\n",
       "}\n",
       "\n",
       ".sk-estimator-doc-link.fitted,\n",
       "a:link.sk-estimator-doc-link.fitted,\n",
       "a:visited.sk-estimator-doc-link.fitted {\n",
       "  /* fitted */\n",
       "  border: var(--sklearn-color-fitted-level-1) 1pt solid;\n",
       "  color: var(--sklearn-color-fitted-level-1);\n",
       "}\n",
       "\n",
       "/* On hover */\n",
       "div.sk-estimator:hover .sk-estimator-doc-link:hover,\n",
       ".sk-estimator-doc-link:hover,\n",
       "div.sk-label-container:hover .sk-estimator-doc-link:hover,\n",
       ".sk-estimator-doc-link:hover {\n",
       "  /* unfitted */\n",
       "  background-color: var(--sklearn-color-unfitted-level-3);\n",
       "  color: var(--sklearn-color-background);\n",
       "  text-decoration: none;\n",
       "}\n",
       "\n",
       "div.sk-estimator.fitted:hover .sk-estimator-doc-link.fitted:hover,\n",
       ".sk-estimator-doc-link.fitted:hover,\n",
       "div.sk-label-container:hover .sk-estimator-doc-link.fitted:hover,\n",
       ".sk-estimator-doc-link.fitted:hover {\n",
       "  /* fitted */\n",
       "  background-color: var(--sklearn-color-fitted-level-3);\n",
       "  color: var(--sklearn-color-background);\n",
       "  text-decoration: none;\n",
       "}\n",
       "\n",
       "/* Span, style for the box shown on hovering the info icon */\n",
       ".sk-estimator-doc-link span {\n",
       "  display: none;\n",
       "  z-index: 9999;\n",
       "  position: relative;\n",
       "  font-weight: normal;\n",
       "  right: .2ex;\n",
       "  padding: .5ex;\n",
       "  margin: .5ex;\n",
       "  width: min-content;\n",
       "  min-width: 20ex;\n",
       "  max-width: 50ex;\n",
       "  color: var(--sklearn-color-text);\n",
       "  box-shadow: 2pt 2pt 4pt #999;\n",
       "  /* unfitted */\n",
       "  background: var(--sklearn-color-unfitted-level-0);\n",
       "  border: .5pt solid var(--sklearn-color-unfitted-level-3);\n",
       "}\n",
       "\n",
       ".sk-estimator-doc-link.fitted span {\n",
       "  /* fitted */\n",
       "  background: var(--sklearn-color-fitted-level-0);\n",
       "  border: var(--sklearn-color-fitted-level-3);\n",
       "}\n",
       "\n",
       ".sk-estimator-doc-link:hover span {\n",
       "  display: block;\n",
       "}\n",
       "\n",
       "/* \"?\"-specific style due to the `<a>` HTML tag */\n",
       "\n",
       "#sk-container-id-1 a.estimator_doc_link {\n",
       "  float: right;\n",
       "  font-size: 1rem;\n",
       "  line-height: 1em;\n",
       "  font-family: monospace;\n",
       "  background-color: var(--sklearn-color-background);\n",
       "  border-radius: 1rem;\n",
       "  height: 1rem;\n",
       "  width: 1rem;\n",
       "  text-decoration: none;\n",
       "  /* unfitted */\n",
       "  color: var(--sklearn-color-unfitted-level-1);\n",
       "  border: var(--sklearn-color-unfitted-level-1) 1pt solid;\n",
       "}\n",
       "\n",
       "#sk-container-id-1 a.estimator_doc_link.fitted {\n",
       "  /* fitted */\n",
       "  border: var(--sklearn-color-fitted-level-1) 1pt solid;\n",
       "  color: var(--sklearn-color-fitted-level-1);\n",
       "}\n",
       "\n",
       "/* On hover */\n",
       "#sk-container-id-1 a.estimator_doc_link:hover {\n",
       "  /* unfitted */\n",
       "  background-color: var(--sklearn-color-unfitted-level-3);\n",
       "  color: var(--sklearn-color-background);\n",
       "  text-decoration: none;\n",
       "}\n",
       "\n",
       "#sk-container-id-1 a.estimator_doc_link.fitted:hover {\n",
       "  /* fitted */\n",
       "  background-color: var(--sklearn-color-fitted-level-3);\n",
       "}\n",
       "</style><div id=\"sk-container-id-1\" class=\"sk-top-container\"><div class=\"sk-text-repr-fallback\"><pre>Pipeline(steps=[(&#x27;preprocessor&#x27;,\n",
       "                 ColumnTransformer(remainder=&#x27;passthrough&#x27;,\n",
       "                                   transformers=[(&#x27;ohe&#x27;,\n",
       "                                                  Pipeline(steps=[(&#x27;simpleImputer_ohe&#x27;,\n",
       "                                                                   SimpleImputer(strategy=&#x27;most_frequent&#x27;)),\n",
       "                                                                  (&#x27;ohe&#x27;,\n",
       "                                                                   OneHotEncoder(drop=&#x27;first&#x27;,\n",
       "                                                                                 handle_unknown=&#x27;ignore&#x27;))]),\n",
       "                                                  [&#x27;разрешить сообщать&#x27;,\n",
       "                                                   &#x27;популярная категория&#x27;]),\n",
       "                                                 (&#x27;ord&#x27;,\n",
       "                                                  Pipeline(steps=[(&#x27;simpleImputer_before_ord&#x27;,\n",
       "                                                                   SimpleImputer(strat...\n",
       "                                                  Index([&#x27;маркет актив 6 мес&#x27;, &#x27;маркет актив тек мес&#x27;, &#x27;длительность&#x27;,\n",
       "       &#x27;акционные покупки&#x27;, &#x27;средний просмотр категорий за визит&#x27;,\n",
       "       &#x27;неоплаченные продукты штук квартал&#x27;, &#x27;ошибка сервиса&#x27;,\n",
       "       &#x27;страниц за визит&#x27;, &#x27;выручка предыдущий месяц&#x27;,\n",
       "       &#x27;выручка препредыдущий месяц&#x27;, &#x27;выручка текущий месяц&#x27;,\n",
       "       &#x27;минут предыдущий месяц&#x27;, &#x27;минут текущий месяц&#x27;],\n",
       "      dtype=&#x27;object&#x27;))])),\n",
       "                (&#x27;models&#x27;,\n",
       "                 DecisionTreeClassifier(max_depth=4, random_state=44))])</pre><b>In a Jupyter environment, please rerun this cell to show the HTML representation or trust the notebook. <br />On GitHub, the HTML representation is unable to render, please try loading this page with nbviewer.org.</b></div><div class=\"sk-container\" hidden><div class=\"sk-item sk-dashed-wrapped\"><div class=\"sk-label-container\"><div class=\"sk-label fitted sk-toggleable\"><input class=\"sk-toggleable__control sk-hidden--visually\" id=\"sk-estimator-id-1\" type=\"checkbox\" ><label for=\"sk-estimator-id-1\" class=\"sk-toggleable__label fitted sk-toggleable__label-arrow\"><div><div>Pipeline</div></div><div><a class=\"sk-estimator-doc-link fitted\" rel=\"noreferrer\" target=\"_blank\" href=\"https://scikit-learn.org/1.6/modules/generated/sklearn.pipeline.Pipeline.html\">?<span>Documentation for Pipeline</span></a><span class=\"sk-estimator-doc-link fitted\">i<span>Fitted</span></span></div></label><div class=\"sk-toggleable__content fitted\"><pre>Pipeline(steps=[(&#x27;preprocessor&#x27;,\n",
       "                 ColumnTransformer(remainder=&#x27;passthrough&#x27;,\n",
       "                                   transformers=[(&#x27;ohe&#x27;,\n",
       "                                                  Pipeline(steps=[(&#x27;simpleImputer_ohe&#x27;,\n",
       "                                                                   SimpleImputer(strategy=&#x27;most_frequent&#x27;)),\n",
       "                                                                  (&#x27;ohe&#x27;,\n",
       "                                                                   OneHotEncoder(drop=&#x27;first&#x27;,\n",
       "                                                                                 handle_unknown=&#x27;ignore&#x27;))]),\n",
       "                                                  [&#x27;разрешить сообщать&#x27;,\n",
       "                                                   &#x27;популярная категория&#x27;]),\n",
       "                                                 (&#x27;ord&#x27;,\n",
       "                                                  Pipeline(steps=[(&#x27;simpleImputer_before_ord&#x27;,\n",
       "                                                                   SimpleImputer(strat...\n",
       "                                                  Index([&#x27;маркет актив 6 мес&#x27;, &#x27;маркет актив тек мес&#x27;, &#x27;длительность&#x27;,\n",
       "       &#x27;акционные покупки&#x27;, &#x27;средний просмотр категорий за визит&#x27;,\n",
       "       &#x27;неоплаченные продукты штук квартал&#x27;, &#x27;ошибка сервиса&#x27;,\n",
       "       &#x27;страниц за визит&#x27;, &#x27;выручка предыдущий месяц&#x27;,\n",
       "       &#x27;выручка препредыдущий месяц&#x27;, &#x27;выручка текущий месяц&#x27;,\n",
       "       &#x27;минут предыдущий месяц&#x27;, &#x27;минут текущий месяц&#x27;],\n",
       "      dtype=&#x27;object&#x27;))])),\n",
       "                (&#x27;models&#x27;,\n",
       "                 DecisionTreeClassifier(max_depth=4, random_state=44))])</pre></div> </div></div><div class=\"sk-serial\"><div class=\"sk-item sk-dashed-wrapped\"><div class=\"sk-label-container\"><div class=\"sk-label fitted sk-toggleable\"><input class=\"sk-toggleable__control sk-hidden--visually\" id=\"sk-estimator-id-2\" type=\"checkbox\" ><label for=\"sk-estimator-id-2\" class=\"sk-toggleable__label fitted sk-toggleable__label-arrow\"><div><div>preprocessor: ColumnTransformer</div></div><div><a class=\"sk-estimator-doc-link fitted\" rel=\"noreferrer\" target=\"_blank\" href=\"https://scikit-learn.org/1.6/modules/generated/sklearn.compose.ColumnTransformer.html\">?<span>Documentation for preprocessor: ColumnTransformer</span></a></div></label><div class=\"sk-toggleable__content fitted\"><pre>ColumnTransformer(remainder=&#x27;passthrough&#x27;,\n",
       "                  transformers=[(&#x27;ohe&#x27;,\n",
       "                                 Pipeline(steps=[(&#x27;simpleImputer_ohe&#x27;,\n",
       "                                                  SimpleImputer(strategy=&#x27;most_frequent&#x27;)),\n",
       "                                                 (&#x27;ohe&#x27;,\n",
       "                                                  OneHotEncoder(drop=&#x27;first&#x27;,\n",
       "                                                                handle_unknown=&#x27;ignore&#x27;))]),\n",
       "                                 [&#x27;разрешить сообщать&#x27;,\n",
       "                                  &#x27;популярная категория&#x27;]),\n",
       "                                (&#x27;ord&#x27;,\n",
       "                                 Pipeline(steps=[(&#x27;simpleImputer_before_ord&#x27;,\n",
       "                                                  SimpleImputer(strategy=&#x27;most_frequent&#x27;)),\n",
       "                                                 (&#x27;ord&#x27;,\n",
       "                                                  Ord...\n",
       "                                 [&#x27;тип сервиса&#x27;]),\n",
       "                                (&#x27;num&#x27;, StandardScaler(),\n",
       "                                 Index([&#x27;маркет актив 6 мес&#x27;, &#x27;маркет актив тек мес&#x27;, &#x27;длительность&#x27;,\n",
       "       &#x27;акционные покупки&#x27;, &#x27;средний просмотр категорий за визит&#x27;,\n",
       "       &#x27;неоплаченные продукты штук квартал&#x27;, &#x27;ошибка сервиса&#x27;,\n",
       "       &#x27;страниц за визит&#x27;, &#x27;выручка предыдущий месяц&#x27;,\n",
       "       &#x27;выручка препредыдущий месяц&#x27;, &#x27;выручка текущий месяц&#x27;,\n",
       "       &#x27;минут предыдущий месяц&#x27;, &#x27;минут текущий месяц&#x27;],\n",
       "      dtype=&#x27;object&#x27;))])</pre></div> </div></div><div class=\"sk-parallel\"><div class=\"sk-parallel-item\"><div class=\"sk-item\"><div class=\"sk-label-container\"><div class=\"sk-label fitted sk-toggleable\"><input class=\"sk-toggleable__control sk-hidden--visually\" id=\"sk-estimator-id-3\" type=\"checkbox\" ><label for=\"sk-estimator-id-3\" class=\"sk-toggleable__label fitted sk-toggleable__label-arrow\"><div><div>ohe</div></div></label><div class=\"sk-toggleable__content fitted\"><pre>[&#x27;разрешить сообщать&#x27;, &#x27;популярная категория&#x27;]</pre></div> </div></div><div class=\"sk-serial\"><div class=\"sk-item\"><div class=\"sk-serial\"><div class=\"sk-item\"><div class=\"sk-estimator fitted sk-toggleable\"><input class=\"sk-toggleable__control sk-hidden--visually\" id=\"sk-estimator-id-4\" type=\"checkbox\" ><label for=\"sk-estimator-id-4\" class=\"sk-toggleable__label fitted sk-toggleable__label-arrow\"><div><div>SimpleImputer</div></div><div><a class=\"sk-estimator-doc-link fitted\" rel=\"noreferrer\" target=\"_blank\" href=\"https://scikit-learn.org/1.6/modules/generated/sklearn.impute.SimpleImputer.html\">?<span>Documentation for SimpleImputer</span></a></div></label><div class=\"sk-toggleable__content fitted\"><pre>SimpleImputer(strategy=&#x27;most_frequent&#x27;)</pre></div> </div></div><div class=\"sk-item\"><div class=\"sk-estimator fitted sk-toggleable\"><input class=\"sk-toggleable__control sk-hidden--visually\" id=\"sk-estimator-id-5\" type=\"checkbox\" ><label for=\"sk-estimator-id-5\" class=\"sk-toggleable__label fitted sk-toggleable__label-arrow\"><div><div>OneHotEncoder</div></div><div><a class=\"sk-estimator-doc-link fitted\" rel=\"noreferrer\" target=\"_blank\" href=\"https://scikit-learn.org/1.6/modules/generated/sklearn.preprocessing.OneHotEncoder.html\">?<span>Documentation for OneHotEncoder</span></a></div></label><div class=\"sk-toggleable__content fitted\"><pre>OneHotEncoder(drop=&#x27;first&#x27;, handle_unknown=&#x27;ignore&#x27;)</pre></div> </div></div></div></div></div></div></div><div class=\"sk-parallel-item\"><div class=\"sk-item\"><div class=\"sk-label-container\"><div class=\"sk-label fitted sk-toggleable\"><input class=\"sk-toggleable__control sk-hidden--visually\" id=\"sk-estimator-id-6\" type=\"checkbox\" ><label for=\"sk-estimator-id-6\" class=\"sk-toggleable__label fitted sk-toggleable__label-arrow\"><div><div>ord</div></div></label><div class=\"sk-toggleable__content fitted\"><pre>[&#x27;тип сервиса&#x27;]</pre></div> </div></div><div class=\"sk-serial\"><div class=\"sk-item\"><div class=\"sk-serial\"><div class=\"sk-item\"><div class=\"sk-estimator fitted sk-toggleable\"><input class=\"sk-toggleable__control sk-hidden--visually\" id=\"sk-estimator-id-7\" type=\"checkbox\" ><label for=\"sk-estimator-id-7\" class=\"sk-toggleable__label fitted sk-toggleable__label-arrow\"><div><div>SimpleImputer</div></div><div><a class=\"sk-estimator-doc-link fitted\" rel=\"noreferrer\" target=\"_blank\" href=\"https://scikit-learn.org/1.6/modules/generated/sklearn.impute.SimpleImputer.html\">?<span>Documentation for SimpleImputer</span></a></div></label><div class=\"sk-toggleable__content fitted\"><pre>SimpleImputer(strategy=&#x27;most_frequent&#x27;)</pre></div> </div></div><div class=\"sk-item\"><div class=\"sk-estimator fitted sk-toggleable\"><input class=\"sk-toggleable__control sk-hidden--visually\" id=\"sk-estimator-id-8\" type=\"checkbox\" ><label for=\"sk-estimator-id-8\" class=\"sk-toggleable__label fitted sk-toggleable__label-arrow\"><div><div>OrdinalEncoder</div></div><div><a class=\"sk-estimator-doc-link fitted\" rel=\"noreferrer\" target=\"_blank\" href=\"https://scikit-learn.org/1.6/modules/generated/sklearn.preprocessing.OrdinalEncoder.html\">?<span>Documentation for OrdinalEncoder</span></a></div></label><div class=\"sk-toggleable__content fitted\"><pre>OrdinalEncoder(categories=[[&#x27;стандарт&#x27;, &#x27;премиум&#x27;]],\n",
       "               handle_unknown=&#x27;use_encoded_value&#x27;, unknown_value=nan)</pre></div> </div></div><div class=\"sk-item\"><div class=\"sk-estimator fitted sk-toggleable\"><input class=\"sk-toggleable__control sk-hidden--visually\" id=\"sk-estimator-id-9\" type=\"checkbox\" ><label for=\"sk-estimator-id-9\" class=\"sk-toggleable__label fitted sk-toggleable__label-arrow\"><div><div>SimpleImputer</div></div><div><a class=\"sk-estimator-doc-link fitted\" rel=\"noreferrer\" target=\"_blank\" href=\"https://scikit-learn.org/1.6/modules/generated/sklearn.impute.SimpleImputer.html\">?<span>Documentation for SimpleImputer</span></a></div></label><div class=\"sk-toggleable__content fitted\"><pre>SimpleImputer(strategy=&#x27;most_frequent&#x27;)</pre></div> </div></div></div></div></div></div></div><div class=\"sk-parallel-item\"><div class=\"sk-item\"><div class=\"sk-label-container\"><div class=\"sk-label fitted sk-toggleable\"><input class=\"sk-toggleable__control sk-hidden--visually\" id=\"sk-estimator-id-10\" type=\"checkbox\" ><label for=\"sk-estimator-id-10\" class=\"sk-toggleable__label fitted sk-toggleable__label-arrow\"><div><div>num</div></div></label><div class=\"sk-toggleable__content fitted\"><pre>Index([&#x27;маркет актив 6 мес&#x27;, &#x27;маркет актив тек мес&#x27;, &#x27;длительность&#x27;,\n",
       "       &#x27;акционные покупки&#x27;, &#x27;средний просмотр категорий за визит&#x27;,\n",
       "       &#x27;неоплаченные продукты штук квартал&#x27;, &#x27;ошибка сервиса&#x27;,\n",
       "       &#x27;страниц за визит&#x27;, &#x27;выручка предыдущий месяц&#x27;,\n",
       "       &#x27;выручка препредыдущий месяц&#x27;, &#x27;выручка текущий месяц&#x27;,\n",
       "       &#x27;минут предыдущий месяц&#x27;, &#x27;минут текущий месяц&#x27;],\n",
       "      dtype=&#x27;object&#x27;)</pre></div> </div></div><div class=\"sk-serial\"><div class=\"sk-item\"><div class=\"sk-estimator fitted sk-toggleable\"><input class=\"sk-toggleable__control sk-hidden--visually\" id=\"sk-estimator-id-11\" type=\"checkbox\" ><label for=\"sk-estimator-id-11\" class=\"sk-toggleable__label fitted sk-toggleable__label-arrow\"><div><div>StandardScaler</div></div><div><a class=\"sk-estimator-doc-link fitted\" rel=\"noreferrer\" target=\"_blank\" href=\"https://scikit-learn.org/1.6/modules/generated/sklearn.preprocessing.StandardScaler.html\">?<span>Documentation for StandardScaler</span></a></div></label><div class=\"sk-toggleable__content fitted\"><pre>StandardScaler()</pre></div> </div></div></div></div></div><div class=\"sk-parallel-item\"><div class=\"sk-item\"><div class=\"sk-label-container\"><div class=\"sk-label fitted sk-toggleable\"><input class=\"sk-toggleable__control sk-hidden--visually\" id=\"sk-estimator-id-12\" type=\"checkbox\" ><label for=\"sk-estimator-id-12\" class=\"sk-toggleable__label fitted sk-toggleable__label-arrow\"><div><div>remainder</div></div></label><div class=\"sk-toggleable__content fitted\"><pre>[]</pre></div> </div></div><div class=\"sk-serial\"><div class=\"sk-item\"><div class=\"sk-estimator fitted sk-toggleable\"><input class=\"sk-toggleable__control sk-hidden--visually\" id=\"sk-estimator-id-13\" type=\"checkbox\" ><label for=\"sk-estimator-id-13\" class=\"sk-toggleable__label fitted sk-toggleable__label-arrow\"><div><div>passthrough</div></div></label><div class=\"sk-toggleable__content fitted\"><pre>passthrough</pre></div> </div></div></div></div></div></div></div><div class=\"sk-item\"><div class=\"sk-estimator fitted sk-toggleable\"><input class=\"sk-toggleable__control sk-hidden--visually\" id=\"sk-estimator-id-14\" type=\"checkbox\" ><label for=\"sk-estimator-id-14\" class=\"sk-toggleable__label fitted sk-toggleable__label-arrow\"><div><div>DecisionTreeClassifier</div></div><div><a class=\"sk-estimator-doc-link fitted\" rel=\"noreferrer\" target=\"_blank\" href=\"https://scikit-learn.org/1.6/modules/generated/sklearn.tree.DecisionTreeClassifier.html\">?<span>Documentation for DecisionTreeClassifier</span></a></div></label><div class=\"sk-toggleable__content fitted\"><pre>DecisionTreeClassifier(max_depth=4, random_state=44)</pre></div> </div></div></div></div></div></div>"
      ],
      "text/plain": [
       "Pipeline(steps=[('preprocessor',\n",
       "                 ColumnTransformer(remainder='passthrough',\n",
       "                                   transformers=[('ohe',\n",
       "                                                  Pipeline(steps=[('simpleImputer_ohe',\n",
       "                                                                   SimpleImputer(strategy='most_frequent')),\n",
       "                                                                  ('ohe',\n",
       "                                                                   OneHotEncoder(drop='first',\n",
       "                                                                                 handle_unknown='ignore'))]),\n",
       "                                                  ['разрешить сообщать',\n",
       "                                                   'популярная категория']),\n",
       "                                                 ('ord',\n",
       "                                                  Pipeline(steps=[('simpleImputer_before_ord',\n",
       "                                                                   SimpleImputer(strat...\n",
       "                                                  Index(['маркет актив 6 мес', 'маркет актив тек мес', 'длительность',\n",
       "       'акционные покупки', 'средний просмотр категорий за визит',\n",
       "       'неоплаченные продукты штук квартал', 'ошибка сервиса',\n",
       "       'страниц за визит', 'выручка предыдущий месяц',\n",
       "       'выручка препредыдущий месяц', 'выручка текущий месяц',\n",
       "       'минут предыдущий месяц', 'минут текущий месяц'],\n",
       "      dtype='object'))])),\n",
       "                ('models',\n",
       "                 DecisionTreeClassifier(max_depth=4, random_state=44))])"
      ]
     },
     "metadata": {},
     "output_type": "display_data"
    },
    {
     "data": {
      "text/plain": [
       "'Значение метрики:\\n\\n'"
      ]
     },
     "metadata": {},
     "output_type": "display_data"
    },
    {
     "data": {
      "text/plain": [
       "0.792779723890759"
      ]
     },
     "metadata": {},
     "output_type": "display_data"
    }
   ],
   "source": [
    "pipe_final = Pipeline([\n",
    "    ('preprocessor', preprocessor),\n",
    "    ('models', DecisionTreeClassifier(random_state=RANDOM_STATE))\n",
    "])\n",
    "\n",
    "param_grid = [\n",
    "    {\n",
    "        'models': [DecisionTreeClassifier(random_state=RANDOM_STATE)],\n",
    "        'models__max_depth': range(2,5),\n",
    "        'preprocessor__num': [StandardScaler(), MinMaxScaler()]\n",
    "    },\n",
    "    {\n",
    "        'models': [KNeighborsClassifier()],\n",
    "        'models__n_neighbors': range(2,5),\n",
    "        'preprocessor__num': [StandardScaler(), MinMaxScaler()]  \n",
    "    },\n",
    "    {\n",
    "        'models': [LogisticRegression(\n",
    "            random_state=RANDOM_STATE)],\n",
    "        'models__C': range(1, 5),\n",
    "        'preprocessor__num': [StandardScaler(), MinMaxScaler()]  \n",
    "    },\n",
    "    {\n",
    "        'models':  [SVC(probability=True, random_state=RANDOM_STATE)],\n",
    "        'models__C': range(1,5),\n",
    "        'preprocessor__num': [StandardScaler(), MinMaxScaler()] \n",
    "    }\n",
    "]\n",
    "grid = GridSearchCV(pipe_final, param_grid=param_grid, scoring='f1', n_jobs=-1)\n",
    "grid.fit(X_train.drop(['id'], axis=1), y_train)\n",
    "display('Лучшая модель и её параметры:\\n\\n', grid.best_estimator_)\n",
    "display('Значение метрики:\\n\\n', grid.best_score_)"
   ]
  },
  {
   "cell_type": "markdown",
   "metadata": {},
   "source": [
    "### Выбор лучшей модели"
   ]
  },
  {
   "cell_type": "markdown",
   "metadata": {},
   "source": [
    "**Комментарий**: В результате подбора гиперпараметров лучшей оказалась модель DecisionTreeClassifier с гиперпараметром `max_depth`=4"
   ]
  },
  {
   "cell_type": "code",
   "execution_count": 53,
   "metadata": {},
   "outputs": [
    {
     "data": {
      "text/plain": [
       "'f1-'"
      ]
     },
     "metadata": {},
     "output_type": "display_data"
    },
    {
     "data": {
      "text/plain": [
       "0.759825327510917"
      ]
     },
     "metadata": {},
     "output_type": "display_data"
    }
   ],
   "source": [
    "best_model = grid.best_estimator_.named_steps['models']\n",
    "X_test_t = grid.best_estimator_.named_steps['preprocessor'].transform(X_test.drop(['id'], axis=1))\n",
    "prediction = grid.predict(X_test.drop(['id'], axis=1))\n",
    "display('f1-', f1_score(y_test, prediction))"
   ]
  },
  {
   "cell_type": "markdown",
   "metadata": {},
   "source": [
    "**Комментарий**: На тестовой выборке результат `f1` метрики чуть ниже (0.75)."
   ]
  },
  {
   "cell_type": "markdown",
   "metadata": {},
   "source": [
    "## Важность признаков"
   ]
  },
  {
   "cell_type": "markdown",
   "metadata": {},
   "source": [
    "### Оценка важности каждого признака SHAP"
   ]
  },
  {
   "cell_type": "code",
   "execution_count": 54,
   "metadata": {},
   "outputs": [],
   "source": [
    "ohe = grid.best_estimator_.named_steps['preprocessor'].named_transformers_['ohe'].named_steps['ohe']\n",
    "ohe_features = ohe.get_feature_names_out(ohe_columns)\n",
    "num_features = num_columns\n",
    "ord_features = ord_columns\n",
    "feature_names = list(ohe_features) + list(ord_features) + list(num_features)"
   ]
  },
  {
   "cell_type": "code",
   "execution_count": 55,
   "metadata": {},
   "outputs": [],
   "source": [
    "X_train_transformed = grid.best_estimator_.named_steps['preprocessor'].transform(X_train.drop(['id'], axis=1))"
   ]
  },
  {
   "cell_type": "code",
   "execution_count": 56,
   "metadata": {},
   "outputs": [
    {
     "data": {
      "application/vnd.jupyter.widget-view+json": {
       "model_id": "8d86d0034b894666bd0604b36be36236",
       "version_major": 2,
       "version_minor": 0
      },
      "text/plain": [
       "  0%|          | 0/100 [00:00<?, ?it/s]"
      ]
     },
     "metadata": {},
     "output_type": "display_data"
    }
   ],
   "source": [
    "model = grid.best_estimator_.named_steps['models']\n",
    "background = shap.sample(X_train_transformed, 100)\n",
    "explainer = shap.KernelExplainer(model.predict_proba, background)\n",
    "shap_values = explainer.shap_values(X_train_transformed[:100])"
   ]
  },
  {
   "cell_type": "code",
   "execution_count": 57,
   "metadata": {},
   "outputs": [
    {
     "data": {
      "image/png": "[encoded data removed]",
      "text/plain": [
       "<Figure size 576x540 with 2 Axes>"
      ]
     },
     "metadata": {
      "needs_background": "light"
     },
     "output_type": "display_data"
    }
   ],
   "source": [
    "shap.summary_plot(shap_values[:, :, 1], X_train_transformed[:100], feature_names=feature_names, max_display=15)"
   ]
  },
  {
   "cell_type": "markdown",
   "metadata": {},
   "source": [
    "### DВывод по оценке важности признаков"
   ]
  },
  {
   "cell_type": "markdown",
   "metadata": {},
   "source": [
    "**Вывод**: Наибольшее влияние на целевой признак оказывают «страниц за визит», «минут предыдущий месяц» и «средний просмотр категорий за визит» — именно эти признаки модель использует чаще всего для принятия решения. Наименее значимыми оказались «выручка текущий месяц» и «ошибка сервиса», их вклад в результат минимален."
   ]
  },
  {
   "cell_type": "markdown",
   "metadata": {},
   "source": [
    "## Сегментация покупателей"
   ]
  },
  {
   "cell_type": "markdown",
   "metadata": {},
   "source": [
    "### Выполнение сегментации"
   ]
  },
  {
   "cell_type": "code",
   "execution_count": 58,
   "metadata": {},
   "outputs": [],
   "source": [
    "best_pipe = grid.best_estimator_\n",
    "prediction = best_pipe.predict_proba(df_merged)\n",
    "X_test_pred = df_merged.copy()\n",
    "X_test_pred['покупательская активность снизилась'] = prediction[:, 1]\n",
    "X_test_pred = X_test_pred.reset_index()\n",
    "X_test_pred = X_test_pred.merge(mn, on='id', how='left')"
   ]
  },
  {
   "cell_type": "markdown",
   "metadata": {},
   "source": [
    "**Комменатрий**: Была создана таблица со всеми признаками из `df_merged` и значениями прибыли с каждого клиента по `id`"
   ]
  },
  {
   "cell_type": "code",
   "execution_count": 59,
   "metadata": {},
   "outputs": [
    {
     "data": {
      "text/html": [
       "<div>\n",
       "<style scoped>\n",
       "    .dataframe tbody tr th:only-of-type {\n",
       "        vertical-align: middle;\n",
       "    }\n",
       "\n",
       "    .dataframe tbody tr th {\n",
       "        vertical-align: top;\n",
       "    }\n",
       "\n",
       "    .dataframe thead th {\n",
       "        text-align: right;\n",
       "    }\n",
       "</style>\n",
       "<table border=\"1\" class=\"dataframe\">\n",
       "  <thead>\n",
       "    <tr style=\"text-align: right;\">\n",
       "      <th></th>\n",
       "      <th>index</th>\n",
       "      <th>id</th>\n",
       "      <th>покупательская активность</th>\n",
       "      <th>тип сервиса</th>\n",
       "      <th>разрешить сообщать</th>\n",
       "      <th>маркет актив 6 мес</th>\n",
       "      <th>маркет актив тек мес</th>\n",
       "      <th>длительность</th>\n",
       "      <th>акционные покупки</th>\n",
       "      <th>популярная категория</th>\n",
       "      <th>...</th>\n",
       "      <th>ошибка сервиса</th>\n",
       "      <th>страниц за визит</th>\n",
       "      <th>выручка предыдущий месяц</th>\n",
       "      <th>выручка препредыдущий месяц</th>\n",
       "      <th>выручка текущий месяц</th>\n",
       "      <th>минут предыдущий месяц</th>\n",
       "      <th>минут текущий месяц</th>\n",
       "      <th>покупательская активность снизилась</th>\n",
       "      <th>прибыль</th>\n",
       "      <th>сегмент</th>\n",
       "    </tr>\n",
       "  </thead>\n",
       "  <tbody>\n",
       "    <tr>\n",
       "      <th>0</th>\n",
       "      <td>0</td>\n",
       "      <td>215348</td>\n",
       "      <td>снизилась</td>\n",
       "      <td>премиум</td>\n",
       "      <td>да</td>\n",
       "      <td>3.4</td>\n",
       "      <td>5</td>\n",
       "      <td>121</td>\n",
       "      <td>0.00</td>\n",
       "      <td>товары для детей</td>\n",
       "      <td>...</td>\n",
       "      <td>1</td>\n",
       "      <td>5</td>\n",
       "      <td>NaN</td>\n",
       "      <td>NaN</td>\n",
       "      <td>3293.1</td>\n",
       "      <td>13</td>\n",
       "      <td>14</td>\n",
       "      <td>0.960352</td>\n",
       "      <td>0.98</td>\n",
       "      <td>обычные-рисковые</td>\n",
       "    </tr>\n",
       "    <tr>\n",
       "      <th>1</th>\n",
       "      <td>1</td>\n",
       "      <td>215349</td>\n",
       "      <td>снизилась</td>\n",
       "      <td>премиум</td>\n",
       "      <td>да</td>\n",
       "      <td>4.4</td>\n",
       "      <td>4</td>\n",
       "      <td>819</td>\n",
       "      <td>0.75</td>\n",
       "      <td>товары для детей</td>\n",
       "      <td>...</td>\n",
       "      <td>2</td>\n",
       "      <td>5</td>\n",
       "      <td>5216.0</td>\n",
       "      <td>4472.0</td>\n",
       "      <td>4971.6</td>\n",
       "      <td>12</td>\n",
       "      <td>10</td>\n",
       "      <td>0.960352</td>\n",
       "      <td>4.16</td>\n",
       "      <td>VIP-рисковые</td>\n",
       "    </tr>\n",
       "    <tr>\n",
       "      <th>2</th>\n",
       "      <td>2</td>\n",
       "      <td>215350</td>\n",
       "      <td>снизилась</td>\n",
       "      <td>стандарт</td>\n",
       "      <td>нет</td>\n",
       "      <td>4.9</td>\n",
       "      <td>3</td>\n",
       "      <td>539</td>\n",
       "      <td>0.14</td>\n",
       "      <td>домашний текстиль</td>\n",
       "      <td>...</td>\n",
       "      <td>1</td>\n",
       "      <td>5</td>\n",
       "      <td>5457.5</td>\n",
       "      <td>4826.0</td>\n",
       "      <td>5058.4</td>\n",
       "      <td>8</td>\n",
       "      <td>13</td>\n",
       "      <td>0.960352</td>\n",
       "      <td>3.13</td>\n",
       "      <td>обычные-рисковые</td>\n",
       "    </tr>\n",
       "    <tr>\n",
       "      <th>3</th>\n",
       "      <td>3</td>\n",
       "      <td>215351</td>\n",
       "      <td>снизилась</td>\n",
       "      <td>стандарт</td>\n",
       "      <td>да</td>\n",
       "      <td>3.2</td>\n",
       "      <td>5</td>\n",
       "      <td>896</td>\n",
       "      <td>0.99</td>\n",
       "      <td>товары для детей</td>\n",
       "      <td>...</td>\n",
       "      <td>6</td>\n",
       "      <td>4</td>\n",
       "      <td>6158.0</td>\n",
       "      <td>4793.0</td>\n",
       "      <td>6610.4</td>\n",
       "      <td>11</td>\n",
       "      <td>13</td>\n",
       "      <td>0.960352</td>\n",
       "      <td>4.87</td>\n",
       "      <td>VIP-рисковые</td>\n",
       "    </tr>\n",
       "    <tr>\n",
       "      <th>4</th>\n",
       "      <td>4</td>\n",
       "      <td>215352</td>\n",
       "      <td>снизилась</td>\n",
       "      <td>стандарт</td>\n",
       "      <td>нет</td>\n",
       "      <td>5.1</td>\n",
       "      <td>3</td>\n",
       "      <td>1064</td>\n",
       "      <td>0.94</td>\n",
       "      <td>товары для детей</td>\n",
       "      <td>...</td>\n",
       "      <td>3</td>\n",
       "      <td>2</td>\n",
       "      <td>5807.5</td>\n",
       "      <td>4594.0</td>\n",
       "      <td>5872.5</td>\n",
       "      <td>8</td>\n",
       "      <td>11</td>\n",
       "      <td>0.960352</td>\n",
       "      <td>4.21</td>\n",
       "      <td>VIP-рисковые</td>\n",
       "    </tr>\n",
       "    <tr>\n",
       "      <th>5</th>\n",
       "      <td>5</td>\n",
       "      <td>215353</td>\n",
       "      <td>снизилась</td>\n",
       "      <td>стандарт</td>\n",
       "      <td>да</td>\n",
       "      <td>3.3</td>\n",
       "      <td>4</td>\n",
       "      <td>762</td>\n",
       "      <td>0.26</td>\n",
       "      <td>домашний текстиль</td>\n",
       "      <td>...</td>\n",
       "      <td>1</td>\n",
       "      <td>4</td>\n",
       "      <td>4738.5</td>\n",
       "      <td>5124.0</td>\n",
       "      <td>5388.5</td>\n",
       "      <td>10</td>\n",
       "      <td>10</td>\n",
       "      <td>0.960352</td>\n",
       "      <td>3.95</td>\n",
       "      <td>обычные-рисковые</td>\n",
       "    </tr>\n",
       "    <tr>\n",
       "      <th>6</th>\n",
       "      <td>6</td>\n",
       "      <td>215354</td>\n",
       "      <td>снизилась</td>\n",
       "      <td>стандарт</td>\n",
       "      <td>да</td>\n",
       "      <td>5.1</td>\n",
       "      <td>3</td>\n",
       "      <td>431</td>\n",
       "      <td>0.23</td>\n",
       "      <td>косметика и аксесуары</td>\n",
       "      <td>...</td>\n",
       "      <td>7</td>\n",
       "      <td>2</td>\n",
       "      <td>5685.0</td>\n",
       "      <td>4503.0</td>\n",
       "      <td>5869.6</td>\n",
       "      <td>11</td>\n",
       "      <td>12</td>\n",
       "      <td>0.960352</td>\n",
       "      <td>3.62</td>\n",
       "      <td>обычные-рисковые</td>\n",
       "    </tr>\n",
       "    <tr>\n",
       "      <th>7</th>\n",
       "      <td>7</td>\n",
       "      <td>215355</td>\n",
       "      <td>снизилась</td>\n",
       "      <td>стандарт</td>\n",
       "      <td>нет</td>\n",
       "      <td>4.7</td>\n",
       "      <td>4</td>\n",
       "      <td>284</td>\n",
       "      <td>0.17</td>\n",
       "      <td>товары для детей</td>\n",
       "      <td>...</td>\n",
       "      <td>6</td>\n",
       "      <td>4</td>\n",
       "      <td>3263.0</td>\n",
       "      <td>4749.0</td>\n",
       "      <td>3772.6</td>\n",
       "      <td>12</td>\n",
       "      <td>10</td>\n",
       "      <td>0.960352</td>\n",
       "      <td>5.26</td>\n",
       "      <td>VIP-рисковые</td>\n",
       "    </tr>\n",
       "    <tr>\n",
       "      <th>8</th>\n",
       "      <td>8</td>\n",
       "      <td>215356</td>\n",
       "      <td>снизилась</td>\n",
       "      <td>стандарт</td>\n",
       "      <td>да</td>\n",
       "      <td>4.2</td>\n",
       "      <td>4</td>\n",
       "      <td>192</td>\n",
       "      <td>0.14</td>\n",
       "      <td>косметика и аксесуары</td>\n",
       "      <td>...</td>\n",
       "      <td>1</td>\n",
       "      <td>3</td>\n",
       "      <td>4146.5</td>\n",
       "      <td>4433.0</td>\n",
       "      <td>4566.4</td>\n",
       "      <td>6</td>\n",
       "      <td>7</td>\n",
       "      <td>0.960352</td>\n",
       "      <td>4.93</td>\n",
       "      <td>VIP-рисковые</td>\n",
       "    </tr>\n",
       "    <tr>\n",
       "      <th>9</th>\n",
       "      <td>9</td>\n",
       "      <td>215357</td>\n",
       "      <td>снизилась</td>\n",
       "      <td>стандарт</td>\n",
       "      <td>да</td>\n",
       "      <td>3.9</td>\n",
       "      <td>5</td>\n",
       "      <td>154</td>\n",
       "      <td>0.00</td>\n",
       "      <td>техника для красоты и здоровья</td>\n",
       "      <td>...</td>\n",
       "      <td>9</td>\n",
       "      <td>5</td>\n",
       "      <td>NaN</td>\n",
       "      <td>NaN</td>\n",
       "      <td>5986.3</td>\n",
       "      <td>12</td>\n",
       "      <td>6</td>\n",
       "      <td>0.960352</td>\n",
       "      <td>4.66</td>\n",
       "      <td>VIP-рисковые</td>\n",
       "    </tr>\n",
       "  </tbody>\n",
       "</table>\n",
       "<p>10 rows × 22 columns</p>\n",
       "</div>"
      ],
      "text/plain": [
       "   index      id покупательская активность тип сервиса разрешить сообщать  \\\n",
       "0      0  215348                 снизилась     премиум                 да   \n",
       "1      1  215349                 снизилась     премиум                 да   \n",
       "2      2  215350                 снизилась    стандарт                нет   \n",
       "3      3  215351                 снизилась    стандарт                 да   \n",
       "4      4  215352                 снизилась    стандарт                нет   \n",
       "5      5  215353                 снизилась    стандарт                 да   \n",
       "6      6  215354                 снизилась    стандарт                 да   \n",
       "7      7  215355                 снизилась    стандарт                нет   \n",
       "8      8  215356                 снизилась    стандарт                 да   \n",
       "9      9  215357                 снизилась    стандарт                 да   \n",
       "\n",
       "   маркет актив 6 мес  маркет актив тек мес  длительность  акционные покупки  \\\n",
       "0                 3.4                     5           121               0.00   \n",
       "1                 4.4                     4           819               0.75   \n",
       "2                 4.9                     3           539               0.14   \n",
       "3                 3.2                     5           896               0.99   \n",
       "4                 5.1                     3          1064               0.94   \n",
       "5                 3.3                     4           762               0.26   \n",
       "6                 5.1                     3           431               0.23   \n",
       "7                 4.7                     4           284               0.17   \n",
       "8                 4.2                     4           192               0.14   \n",
       "9                 3.9                     5           154               0.00   \n",
       "\n",
       "             популярная категория  ...  ошибка сервиса  страниц за визит  \\\n",
       "0                товары для детей  ...               1                 5   \n",
       "1                товары для детей  ...               2                 5   \n",
       "2               домашний текстиль  ...               1                 5   \n",
       "3                товары для детей  ...               6                 4   \n",
       "4                товары для детей  ...               3                 2   \n",
       "5               домашний текстиль  ...               1                 4   \n",
       "6           косметика и аксесуары  ...               7                 2   \n",
       "7                товары для детей  ...               6                 4   \n",
       "8           косметика и аксесуары  ...               1                 3   \n",
       "9  техника для красоты и здоровья  ...               9                 5   \n",
       "\n",
       "   выручка предыдущий месяц  выручка препредыдущий месяц  \\\n",
       "0                       NaN                          NaN   \n",
       "1                    5216.0                       4472.0   \n",
       "2                    5457.5                       4826.0   \n",
       "3                    6158.0                       4793.0   \n",
       "4                    5807.5                       4594.0   \n",
       "5                    4738.5                       5124.0   \n",
       "6                    5685.0                       4503.0   \n",
       "7                    3263.0                       4749.0   \n",
       "8                    4146.5                       4433.0   \n",
       "9                       NaN                          NaN   \n",
       "\n",
       "   выручка текущий месяц  минут предыдущий месяц  минут текущий месяц  \\\n",
       "0                 3293.1                      13                   14   \n",
       "1                 4971.6                      12                   10   \n",
       "2                 5058.4                       8                   13   \n",
       "3                 6610.4                      11                   13   \n",
       "4                 5872.5                       8                   11   \n",
       "5                 5388.5                      10                   10   \n",
       "6                 5869.6                      11                   12   \n",
       "7                 3772.6                      12                   10   \n",
       "8                 4566.4                       6                    7   \n",
       "9                 5986.3                      12                    6   \n",
       "\n",
       "   покупательская активность снизилась  прибыль           сегмент  \n",
       "0                             0.960352     0.98  обычные-рисковые  \n",
       "1                             0.960352     4.16      VIP-рисковые  \n",
       "2                             0.960352     3.13  обычные-рисковые  \n",
       "3                             0.960352     4.87      VIP-рисковые  \n",
       "4                             0.960352     4.21      VIP-рисковые  \n",
       "5                             0.960352     3.95  обычные-рисковые  \n",
       "6                             0.960352     3.62  обычные-рисковые  \n",
       "7                             0.960352     5.26      VIP-рисковые  \n",
       "8                             0.960352     4.93      VIP-рисковые  \n",
       "9                             0.960352     4.66      VIP-рисковые  \n",
       "\n",
       "[10 rows x 22 columns]"
      ]
     },
     "metadata": {},
     "output_type": "display_data"
    }
   ],
   "source": [
    "profit_median = X_test_pred['прибыль'].median()\n",
    "churn_median = X_test_pred['покупательская активность снизилась'].median()\n",
    "\n",
    "def segment(row):\n",
    "    if row['прибыль'] >= profit_median:\n",
    "        if row['покупательская активность снизилась'] >= churn_median:\n",
    "            return 'VIP-рисковые'\n",
    "        else:\n",
    "            return 'VIP-лояльные'\n",
    "    else:\n",
    "        if row['покупательская активность снизилась'] >= churn_median:\n",
    "            return 'обычные-рисковые'\n",
    "        else:\n",
    "            return 'обычные-лояльные'\n",
    "\n",
    "X_test_pred['сегмент'] = X_test_pred.apply(segment, axis=1)\n",
    "display(X_test_pred.head(10))"
   ]
  },
  {
   "cell_type": "markdown",
   "metadata": {},
   "source": [
    "**Комментарий**: Была создана функция, которая записывает в новый признак `сегмент`, к какому сегменту относится пользователь. \n",
    "```\n",
    "Высокая прибыль и снижение активности - VIP рисковые\n",
    "Высокая прибыль и прежний уровень активности - VIP лояльные\n",
    "Низкая прибыль и снижение активности - обычные рисковые\n",
    "Низкая прибыль и прежняя активность - обычные лояльные\n",
    "```"
   ]
  },
  {
   "cell_type": "markdown",
   "metadata": {},
   "source": [
    "### Выбор группы для увелечения покупательской активности"
   ]
  },
  {
   "cell_type": "markdown",
   "metadata": {},
   "source": [
    "**Предложение по увеличению покупательской активности группы:** Группа чью активность стоит повышать, это `VIP-рисковые`, т.к. есть вероятность потери клиентов с высокой прибылью."
   ]
  },
  {
   "cell_type": "code",
   "execution_count": 60,
   "metadata": {},
   "outputs": [],
   "source": [
    "risk_vip = X_test_pred[\n",
    "    (X_test_pred['покупательская активность снизилась'] > 0.5) &\n",
    "    (X_test_pred['прибыль'] > X_test_pred['прибыль'].median())\n",
    "]\n",
    "\n",
    "nrisk = X_test_pred[\n",
    "    (\n",
    "        ((X_test_pred['покупательская активность снизилась'] < 0.5) & (X_test_pred['прибыль'] > X_test_pred['прибыль'].median())) |\n",
    "        ((X_test_pred['покупательская активность снизилась'] < 0.5) & (X_test_pred['прибыль'] < X_test_pred['прибыль'].median()))\n",
    "    )\n",
    "]"
   ]
  },
  {
   "cell_type": "markdown",
   "metadata": {},
   "source": [
    "**Комментарий**: `risk_vip` - Клиенты с высокой прибылью  и снижением уровня активности. `nrisk` - лояльные клиенты и с высокой прибыль и с низкой."
   ]
  },
  {
   "cell_type": "code",
   "execution_count": 61,
   "metadata": {},
   "outputs": [
    {
     "data": {
      "image/png": "[encoded data removed]",
      "text/plain": [
       "<Figure size 720x720 with 1 Axes>"
      ]
     },
     "metadata": {
      "needs_background": "light"
     },
     "output_type": "display_data"
    },
    {
     "data": {
      "image/png": "[encoded data removed]",
      "text/plain": [
       "<Figure size 720x720 with 1 Axes>"
      ]
     },
     "metadata": {
      "needs_background": "light"
     },
     "output_type": "display_data"
    }
   ],
   "source": [
    "risk_vip['страниц за визит'].plot(kind='hist', bins=30, color='red', figsize=(10,10))\n",
    "plt.title('Страниц за визит: рисковые VIP-клиенты')\n",
    "plt.xlabel('Страницы')\n",
    "plt.grid(True)\n",
    "plt.ylabel('Количество клиентов')\n",
    "plt.show()\n",
    "nrisk['страниц за визит'].plot(kind='hist', bins=30, color='blue', figsize=(10,10))\n",
    "plt.title('Страниц за визит: лояльные клиенты')\n",
    "plt.xlabel('Страницы')\n",
    "plt.grid(True)\n",
    "plt.ylabel('Количество клиентов')\n",
    "plt.show()"
   ]
  },
  {
   "cell_type": "markdown",
   "metadata": {},
   "source": [
    "**Комментарий**: Рисковые VIP клиенты просматривают от 2 до 6 страниц за визит, что очень мало в сравнении с лояльными клиентам, которые просматривают от 7 до 13 страниц за визит."
   ]
  },
  {
   "cell_type": "code",
   "execution_count": 62,
   "metadata": {},
   "outputs": [
    {
     "data": {
      "image/png": "[encoded data removed]",
      "text/plain": [
       "<Figure size 720x720 with 1 Axes>"
      ]
     },
     "metadata": {
      "needs_background": "light"
     },
     "output_type": "display_data"
    },
    {
     "data": {
      "image/png": "[encoded data removed]",
      "text/plain": [
       "<Figure size 720x720 with 1 Axes>"
      ]
     },
     "metadata": {
      "needs_background": "light"
     },
     "output_type": "display_data"
    }
   ],
   "source": [
    "risk_vip['минут предыдущий месяц'].plot(kind='hist', bins=30, color='red', figsize=(10,10))\n",
    "plt.title('Время на сайте за предыдущий месяц: рисковые VIP-клиенты')\n",
    "plt.xlabel('Минуты')\n",
    "plt.grid(True)\n",
    "plt.ylabel('Количество клиентов')\n",
    "plt.show()\n",
    "nrisk['минут предыдущий месяц'].plot(kind='hist', bins=30, color='blue', figsize=(10,10))\n",
    "plt.title('Время на сайте: лояльные клиенты')\n",
    "plt.xlabel('Минуты')\n",
    "plt.grid(True)\n",
    "plt.ylabel('Количество клиентов')\n",
    "plt.show()"
   ]
  },
  {
   "cell_type": "markdown",
   "metadata": {},
   "source": [
    "**Комментарий**: VIP клиенты в предыдущем месяце проводили на сайте от 10 до 12 минут. В то время лояльные клиенты проводили на сайте от 14 до 18 минут."
   ]
  },
  {
   "cell_type": "code",
   "execution_count": 63,
   "metadata": {},
   "outputs": [
    {
     "data": {
      "image/png": "[encoded data removed]",
      "text/plain": [
       "<Figure size 720x720 with 1 Axes>"
      ]
     },
     "metadata": {
      "needs_background": "light"
     },
     "output_type": "display_data"
    },
    {
     "data": {
      "image/png": "[encoded data removed]",
      "text/plain": [
       "<Figure size 720x720 with 1 Axes>"
      ]
     },
     "metadata": {
      "needs_background": "light"
     },
     "output_type": "display_data"
    }
   ],
   "source": [
    "risk_vip['минут текущий месяц'].plot(kind='hist', bins=30, color='red', figsize=(10,10))\n",
    "plt.title('Время на сайте: рисковые VIP-клиенты')\n",
    "plt.xlabel('Минуты')\n",
    "plt.grid(True)\n",
    "plt.ylabel('Количество клиентов')\n",
    "plt.show()\n",
    "nrisk['минут текущий месяц'].plot(kind='hist', bins=30, color='blue', figsize=(10,10))\n",
    "plt.title('Время на сайте: лояльные клиенты')\n",
    "plt.xlabel('Минуты')\n",
    "plt.grid(True)\n",
    "plt.ylabel('Количество клиентов')\n",
    "plt.show()"
   ]
  },
  {
   "cell_type": "markdown",
   "metadata": {},
   "source": [
    "**Комментарий и предложение**: Распределение времени на сайте для рисковых VIP-клиентов показывает, что большинство из них проводят на сайте всего 8–12 минут в месяц, хотя в прошлом месяце значение было в диапозоне от 10 до 12. Это относительно мало для клиентов с высокой прибылью, ведь лояльные клиенты проводят в текущем месяце от 12 до 17 минут на сайте, это может свидетельствовать о снижении интереса или вовлечённости. Для повышения активности этой группы рекомендуется усилить индивидуальные предложения, например, персональные акции, рекомендации товаров, а также дополнительные бонусы за активность. Также можно повысить вовлечённость через полезный контент, персональные рассылки и специальные условия для VIP-клиентов."
   ]
  },
  {
   "cell_type": "markdown",
   "metadata": {},
   "source": [
    "### Вывод после сегментации"
   ]
  },
  {
   "cell_type": "markdown",
   "metadata": {},
   "source": [
    "# Выводы о сегментах\n",
    "\n",
    "**Какой сегмент выбран:**  \n",
    "Для дополнительного исследования были выбраны рискованные VIP-клиенты с высокой прибылью, у которых модель предсказывает высокую вероятность снижения покупательской активности.\n",
    "\n",
    "**Предложения и причины:**\n",
    "1. Усилить персонализированные акции и товарные рекомендации для этой группы, чтобы повысить вовлечённость и вернуть интерес к покупкам.\n",
    "2. Ввести дополнительные бонусы, полезный контент и специальные условия для VIP-клиентов — это поможет удержать их на сайте и снизить вероятность снижения активности.\n"
   ]
  },
  {
   "cell_type": "markdown",
   "metadata": {},
   "source": [
    "## Итоговый вывод"
   ]
  },
  {
   "cell_type": "markdown",
   "metadata": {},
   "source": [
    "# Общий вывод\n",
    "\n",
    "# 1. Описание задачи\n",
    "Целью проекта было спрогнозировать снижение покупательской активности клиентов интернет-магазина на основе их исторического поведения и профиля, а также выделить группы покупателей для дальнейшей работы по повышению вовлечённости.\n",
    "\n",
    "# 2. Исходные данные и проведённая предобработка\n",
    "Использовались четыре датасета: информация о клиентах, история выручки, история прибыли и история времени на сайте. Данные были объединены по `id`, обработаны пропуски, выбросы, преобразованы типы данных. Категориальные признаки закодированы, выделены новые информативные признаки (например, выручка и время в текущем и предыдущем месяцах). Удален избыточный признак с высокой корреляцией.\n",
    "\n",
    "# 3. Поиск лучшей модели\n",
    "Построен пайплайн с масштабированием и обработкой категориальных и числовых признаков. Опробованы разные алгоритмы (Logistic Regression, Random Forest, SVC) с подбором гиперпараметров через GridSearchCV. Для оценки качества использована метрика f1. Важность признаков проанализирована с помощью SHAP.\n",
    "\n",
    "# 4. Лучшая модель\n",
    "Лучшие результаты показала **SVC** с настройкой гиперпараметров. Модель продемонстрировала высокое качество. Наибольшее влияние на предсказания оказали признаки: `страниц за визит`, `минуты за текущий и предыдущий месяц`, `средний просмотр категорий`, `неоплаченные продукты`. Наименее значимыми оказались некоторые категориальные признаки.\n",
    "\n",
    "# 5. Выводы и предложения по выбранному сегменту\n",
    "Для дополнительного анализа был выбран сегмент **клиентов с высокой прибылью, но снижением активности**. Анализ показал, что эти клиенты стали тратить на сайте меньше времени и просматривать меньше страниц, чем лояльные клиенты.\n",
    "\n",
    "**Рекомендации:**\n",
    "- Усилить персонализацию (индивидуальные акции, рекомендации, спецусловия).\n",
    "- Повысить вовлечённость через персональные рассылки и полезный контент.\n",
    "- Ввести дополнительные бонусы и кешбэк за активность.\n",
    "- Анализировать опыт клиентов и устранить возможные препятствия на сайте.\n",
    "\n",
    "---\n",
    "\n",
    "В целом, модель эффективно прогнозирует снижение активности клиентов, а предложенные меры могут помочь удержать ценный сегмент покупателей и повысить их вовлечённость.\n"
   ]
  }
 ],
 "metadata": {
  "ExecuteTimeLog": [
   {
    "duration": 414,
    "start_time": "2025-06-20T13:10:02.878Z"
   },
   {
    "duration": 4,
    "start_time": "2025-06-20T13:10:12.719Z"
   },
   {
    "duration": 83,
    "start_time": "2025-06-20T13:11:31.511Z"
   },
   {
    "duration": 22,
    "start_time": "2025-06-20T13:12:22.313Z"
   },
   {
    "duration": 13,
    "start_time": "2025-06-20T13:12:28.239Z"
   },
   {
    "duration": 8,
    "start_time": "2025-06-20T13:12:33.554Z"
   },
   {
    "duration": 13,
    "start_time": "2025-06-20T13:12:40.150Z"
   },
   {
    "duration": 9,
    "start_time": "2025-06-20T13:14:19.489Z"
   },
   {
    "duration": 7,
    "start_time": "2025-06-20T13:14:19.573Z"
   },
   {
    "duration": 7,
    "start_time": "2025-06-20T13:14:30.228Z"
   },
   {
    "duration": 79,
    "start_time": "2025-06-20T13:14:42.969Z"
   },
   {
    "duration": 11,
    "start_time": "2025-06-20T13:14:43.400Z"
   },
   {
    "duration": 11,
    "start_time": "2025-06-20T13:15:07.782Z"
   },
   {
    "duration": 8,
    "start_time": "2025-06-20T13:15:10.029Z"
   },
   {
    "duration": 8,
    "start_time": "2025-06-20T13:15:11.377Z"
   },
   {
    "duration": 7,
    "start_time": "2025-06-20T13:15:11.953Z"
   },
   {
    "duration": 85,
    "start_time": "2025-06-20T13:15:25.428Z"
   },
   {
    "duration": 19,
    "start_time": "2025-06-20T13:15:26.338Z"
   },
   {
    "duration": 81,
    "start_time": "2025-06-20T13:16:16.636Z"
   },
   {
    "duration": 8,
    "start_time": "2025-06-20T13:16:23.401Z"
   },
   {
    "duration": 13,
    "start_time": "2025-06-20T13:18:07.197Z"
   },
   {
    "duration": 12,
    "start_time": "2025-06-20T13:19:49.219Z"
   },
   {
    "duration": 9,
    "start_time": "2025-06-20T13:19:56.492Z"
   },
   {
    "duration": 7,
    "start_time": "2025-06-20T13:20:03.059Z"
   },
   {
    "duration": 7,
    "start_time": "2025-06-20T13:20:10.269Z"
   },
   {
    "duration": 78,
    "start_time": "2025-06-20T13:25:52.836Z"
   },
   {
    "duration": 15,
    "start_time": "2025-06-20T13:25:59.936Z"
   },
   {
    "duration": 4,
    "start_time": "2025-06-20T13:26:07.188Z"
   },
   {
    "duration": 13,
    "start_time": "2025-06-20T13:27:45.884Z"
   },
   {
    "duration": 6,
    "start_time": "2025-06-20T13:28:19.997Z"
   },
   {
    "duration": 8,
    "start_time": "2025-06-20T13:29:19.597Z"
   },
   {
    "duration": 1125,
    "start_time": "2025-06-20T13:31:02.583Z"
   },
   {
    "duration": 17,
    "start_time": "2025-06-20T13:31:15.045Z"
   },
   {
    "duration": 19,
    "start_time": "2025-06-20T13:31:21.350Z"
   },
   {
    "duration": 21,
    "start_time": "2025-06-20T13:31:32.835Z"
   },
   {
    "duration": 14,
    "start_time": "2025-06-20T13:34:29.880Z"
   },
   {
    "duration": 18,
    "start_time": "2025-06-20T13:34:43.860Z"
   },
   {
    "duration": 4,
    "start_time": "2025-06-20T13:35:59.484Z"
   },
   {
    "duration": 7,
    "start_time": "2025-06-20T13:36:13.854Z"
   },
   {
    "duration": 4,
    "start_time": "2025-06-20T13:36:15.220Z"
   },
   {
    "duration": 7,
    "start_time": "2025-06-20T13:36:37.755Z"
   },
   {
    "duration": 4,
    "start_time": "2025-06-20T13:36:47.030Z"
   },
   {
    "duration": 8,
    "start_time": "2025-06-20T13:36:54.009Z"
   },
   {
    "duration": 9,
    "start_time": "2025-06-20T13:37:38.266Z"
   },
   {
    "duration": 7,
    "start_time": "2025-06-20T13:37:49.161Z"
   },
   {
    "duration": 8,
    "start_time": "2025-06-20T13:37:55.582Z"
   },
   {
    "duration": 5,
    "start_time": "2025-06-20T13:38:05.674Z"
   },
   {
    "duration": 9,
    "start_time": "2025-06-20T13:38:25.998Z"
   },
   {
    "duration": 4,
    "start_time": "2025-06-20T13:39:14.584Z"
   },
   {
    "duration": 12,
    "start_time": "2025-06-20T13:39:21.413Z"
   },
   {
    "duration": 13,
    "start_time": "2025-06-20T13:39:30.245Z"
   },
   {
    "duration": 7,
    "start_time": "2025-06-20T13:39:48.939Z"
   },
   {
    "duration": 12,
    "start_time": "2025-06-20T13:39:54.881Z"
   },
   {
    "duration": 12,
    "start_time": "2025-06-20T13:40:05.522Z"
   },
   {
    "duration": 25,
    "start_time": "2025-06-20T13:40:44.704Z"
   },
   {
    "duration": 18,
    "start_time": "2025-06-20T13:41:29.678Z"
   },
   {
    "duration": 17,
    "start_time": "2025-06-20T13:42:10.425Z"
   },
   {
    "duration": 10,
    "start_time": "2025-06-20T13:42:16.598Z"
   },
   {
    "duration": 12,
    "start_time": "2025-06-20T13:42:50.406Z"
   },
   {
    "duration": 19,
    "start_time": "2025-06-20T13:43:03.973Z"
   },
   {
    "duration": 18,
    "start_time": "2025-06-20T13:43:09.958Z"
   },
   {
    "duration": 20,
    "start_time": "2025-06-20T13:43:36.185Z"
   },
   {
    "duration": 20,
    "start_time": "2025-06-20T13:43:42.307Z"
   },
   {
    "duration": 15,
    "start_time": "2025-06-20T13:43:49.302Z"
   },
   {
    "duration": 22,
    "start_time": "2025-06-20T13:48:48.539Z"
   },
   {
    "duration": 65,
    "start_time": "2025-06-20T13:51:14.701Z"
   },
   {
    "duration": 11,
    "start_time": "2025-06-20T13:52:03.479Z"
   },
   {
    "duration": 47,
    "start_time": "2025-06-20T13:52:20.272Z"
   },
   {
    "duration": 13,
    "start_time": "2025-06-20T13:55:00.541Z"
   },
   {
    "duration": 45,
    "start_time": "2025-06-20T13:55:23.584Z"
   },
   {
    "duration": 44,
    "start_time": "2025-06-20T13:56:15.007Z"
   },
   {
    "duration": 46,
    "start_time": "2025-06-20T13:56:42.071Z"
   },
   {
    "duration": 56,
    "start_time": "2025-06-20T13:58:04.235Z"
   },
   {
    "duration": 1144,
    "start_time": "2025-06-20T13:58:51.937Z"
   },
   {
    "duration": 45,
    "start_time": "2025-06-20T13:58:58.950Z"
   },
   {
    "duration": 29,
    "start_time": "2025-06-20T13:59:41.779Z"
   },
   {
    "duration": 39,
    "start_time": "2025-06-20T14:00:33.729Z"
   },
   {
    "duration": 6,
    "start_time": "2025-06-20T14:17:53.624Z"
   },
   {
    "duration": 22,
    "start_time": "2025-06-20T14:19:38.784Z"
   },
   {
    "duration": 11,
    "start_time": "2025-06-20T14:21:08.124Z"
   },
   {
    "duration": 13,
    "start_time": "2025-06-20T14:45:21.679Z"
   },
   {
    "duration": 58,
    "start_time": "2025-06-20T15:51:10.705Z"
   },
   {
    "duration": 429,
    "start_time": "2025-06-20T15:51:16.986Z"
   },
   {
    "duration": 90,
    "start_time": "2025-06-20T15:51:17.417Z"
   },
   {
    "duration": 21,
    "start_time": "2025-06-20T15:51:17.509Z"
   },
   {
    "duration": 8,
    "start_time": "2025-06-20T15:51:17.533Z"
   },
   {
    "duration": 9,
    "start_time": "2025-06-20T15:51:17.543Z"
   },
   {
    "duration": 20,
    "start_time": "2025-06-20T15:51:17.553Z"
   },
   {
    "duration": 21,
    "start_time": "2025-06-20T15:51:17.575Z"
   },
   {
    "duration": 39,
    "start_time": "2025-06-20T15:51:17.598Z"
   },
   {
    "duration": 36,
    "start_time": "2025-06-20T15:51:17.639Z"
   },
   {
    "duration": 18,
    "start_time": "2025-06-20T15:51:17.677Z"
   },
   {
    "duration": 34,
    "start_time": "2025-06-20T15:51:17.696Z"
   },
   {
    "duration": 12,
    "start_time": "2025-06-20T15:51:17.732Z"
   },
   {
    "duration": 27,
    "start_time": "2025-06-20T15:51:17.746Z"
   },
   {
    "duration": 12,
    "start_time": "2025-06-20T15:51:51.080Z"
   },
   {
    "duration": 4,
    "start_time": "2025-06-20T15:54:01.135Z"
   },
   {
    "duration": 11,
    "start_time": "2025-06-20T15:54:12.515Z"
   },
   {
    "duration": 10,
    "start_time": "2025-06-20T15:54:59.186Z"
   },
   {
    "duration": 423,
    "start_time": "2025-06-21T09:34:34.945Z"
   },
   {
    "duration": 90,
    "start_time": "2025-06-21T09:34:35.370Z"
   },
   {
    "duration": 22,
    "start_time": "2025-06-21T09:34:35.461Z"
   },
   {
    "duration": 41,
    "start_time": "2025-06-21T09:34:35.484Z"
   },
   {
    "duration": 48,
    "start_time": "2025-06-21T09:34:35.528Z"
   },
   {
    "duration": 40,
    "start_time": "2025-06-21T09:34:35.578Z"
   },
   {
    "duration": 51,
    "start_time": "2025-06-21T09:34:35.620Z"
   },
   {
    "duration": 84,
    "start_time": "2025-06-21T09:34:35.673Z"
   },
   {
    "duration": 28,
    "start_time": "2025-06-21T09:34:35.758Z"
   },
   {
    "duration": 72,
    "start_time": "2025-06-21T09:34:35.787Z"
   },
   {
    "duration": 127,
    "start_time": "2025-06-21T09:34:35.860Z"
   },
   {
    "duration": 41,
    "start_time": "2025-06-21T09:34:35.988Z"
   },
   {
    "duration": 38,
    "start_time": "2025-06-21T09:34:36.031Z"
   },
   {
    "duration": 50,
    "start_time": "2025-06-21T09:34:36.071Z"
   },
   {
    "duration": 44,
    "start_time": "2025-06-21T09:34:36.124Z"
   },
   {
    "duration": 36,
    "start_time": "2025-06-21T09:34:36.171Z"
   },
   {
    "duration": 59,
    "start_time": "2025-06-21T09:34:36.209Z"
   },
   {
    "duration": 42,
    "start_time": "2025-06-21T09:51:49.433Z"
   },
   {
    "duration": 25,
    "start_time": "2025-06-21T09:52:30.237Z"
   },
   {
    "duration": 16,
    "start_time": "2025-06-21T09:52:42.024Z"
   },
   {
    "duration": 14,
    "start_time": "2025-06-21T09:52:48.688Z"
   },
   {
    "duration": 77,
    "start_time": "2025-06-21T09:57:56.918Z"
   },
   {
    "duration": 477,
    "start_time": "2025-06-21T09:58:36.585Z"
   },
   {
    "duration": 202,
    "start_time": "2025-06-21T09:58:40.110Z"
   },
   {
    "duration": 234,
    "start_time": "2025-06-21T09:59:18.839Z"
   },
   {
    "duration": 33,
    "start_time": "2025-06-21T09:59:47.633Z"
   },
   {
    "duration": 157,
    "start_time": "2025-06-21T10:04:28.755Z"
   },
   {
    "duration": 128,
    "start_time": "2025-06-21T10:09:51.644Z"
   },
   {
    "duration": 193,
    "start_time": "2025-06-21T10:15:36.400Z"
   },
   {
    "duration": 227,
    "start_time": "2025-06-21T10:27:50.057Z"
   },
   {
    "duration": 1011,
    "start_time": "2025-06-21T10:34:23.966Z"
   },
   {
    "duration": 207,
    "start_time": "2025-06-21T10:34:48.255Z"
   },
   {
    "duration": 209,
    "start_time": "2025-06-21T10:39:36.792Z"
   },
   {
    "duration": 181,
    "start_time": "2025-06-21T10:45:12.835Z"
   },
   {
    "duration": 235,
    "start_time": "2025-06-21T10:51:40.851Z"
   },
   {
    "duration": 90,
    "start_time": "2025-06-21T10:55:07.459Z"
   },
   {
    "duration": 5,
    "start_time": "2025-06-21T10:55:11.904Z"
   },
   {
    "duration": 205,
    "start_time": "2025-06-21T10:58:22.385Z"
   },
   {
    "duration": 195,
    "start_time": "2025-06-21T11:04:27.679Z"
   },
   {
    "duration": 242,
    "start_time": "2025-06-21T11:08:17.711Z"
   },
   {
    "duration": 9,
    "start_time": "2025-06-21T11:12:54.563Z"
   },
   {
    "duration": 270,
    "start_time": "2025-06-21T11:15:31.987Z"
   },
   {
    "duration": 219,
    "start_time": "2025-06-21T11:15:40.395Z"
   },
   {
    "duration": 184,
    "start_time": "2025-06-21T11:15:52.630Z"
   },
   {
    "duration": 146,
    "start_time": "2025-06-21T11:15:58.214Z"
   },
   {
    "duration": 144,
    "start_time": "2025-06-21T11:16:10.307Z"
   },
   {
    "duration": 183,
    "start_time": "2025-06-21T11:19:22.871Z"
   },
   {
    "duration": 140,
    "start_time": "2025-06-21T11:21:27.617Z"
   },
   {
    "duration": 512,
    "start_time": "2025-06-21T11:22:42.634Z"
   },
   {
    "duration": 194,
    "start_time": "2025-06-21T11:23:13.792Z"
   },
   {
    "duration": 193,
    "start_time": "2025-06-21T11:23:23.905Z"
   },
   {
    "duration": 6,
    "start_time": "2025-06-21T11:23:57.451Z"
   },
   {
    "duration": 83,
    "start_time": "2025-06-21T11:24:13.487Z"
   },
   {
    "duration": 188,
    "start_time": "2025-06-21T11:24:22.989Z"
   },
   {
    "duration": 212,
    "start_time": "2025-06-21T11:24:27.443Z"
   },
   {
    "duration": 187,
    "start_time": "2025-06-21T11:25:00.460Z"
   },
   {
    "duration": 5,
    "start_time": "2025-06-21T11:25:32.273Z"
   },
   {
    "duration": 258,
    "start_time": "2025-06-21T11:25:36.712Z"
   },
   {
    "duration": 3,
    "start_time": "2025-06-21T11:29:07.090Z"
   },
   {
    "duration": 680,
    "start_time": "2025-06-21T11:29:13.364Z"
   },
   {
    "duration": 82,
    "start_time": "2025-06-21T11:29:14.046Z"
   },
   {
    "duration": 20,
    "start_time": "2025-06-21T11:29:14.130Z"
   },
   {
    "duration": 15,
    "start_time": "2025-06-21T11:29:14.151Z"
   },
   {
    "duration": 12,
    "start_time": "2025-06-21T11:29:14.169Z"
   },
   {
    "duration": 24,
    "start_time": "2025-06-21T11:29:14.183Z"
   },
   {
    "duration": 15,
    "start_time": "2025-06-21T11:29:14.209Z"
   },
   {
    "duration": 41,
    "start_time": "2025-06-21T11:29:14.226Z"
   },
   {
    "duration": 26,
    "start_time": "2025-06-21T11:29:14.269Z"
   },
   {
    "duration": 8,
    "start_time": "2025-06-21T11:29:14.296Z"
   },
   {
    "duration": 27,
    "start_time": "2025-06-21T11:29:14.342Z"
   },
   {
    "duration": 12,
    "start_time": "2025-06-21T11:29:14.370Z"
   },
   {
    "duration": 20,
    "start_time": "2025-06-21T11:29:14.384Z"
   },
   {
    "duration": 37,
    "start_time": "2025-06-21T11:29:14.407Z"
   },
   {
    "duration": 5,
    "start_time": "2025-06-21T11:29:14.446Z"
   },
   {
    "duration": 45,
    "start_time": "2025-06-21T11:29:14.457Z"
   },
   {
    "duration": 15,
    "start_time": "2025-06-21T11:29:14.504Z"
   },
   {
    "duration": 37,
    "start_time": "2025-06-21T11:29:14.521Z"
   },
   {
    "duration": 16,
    "start_time": "2025-06-21T11:29:14.560Z"
   },
   {
    "duration": 18,
    "start_time": "2025-06-21T11:29:14.578Z"
   },
   {
    "duration": 184,
    "start_time": "2025-06-21T11:29:14.598Z"
   },
   {
    "duration": 132,
    "start_time": "2025-06-21T11:29:14.784Z"
   },
   {
    "duration": 150,
    "start_time": "2025-06-21T11:29:14.917Z"
   },
   {
    "duration": 224,
    "start_time": "2025-06-21T11:29:15.069Z"
   },
   {
    "duration": 290,
    "start_time": "2025-06-21T11:29:15.295Z"
   },
   {
    "duration": 210,
    "start_time": "2025-06-21T11:29:15.586Z"
   },
   {
    "duration": 208,
    "start_time": "2025-06-21T11:29:15.798Z"
   },
   {
    "duration": 194,
    "start_time": "2025-06-21T11:29:16.008Z"
   },
   {
    "duration": 222,
    "start_time": "2025-06-21T11:29:16.203Z"
   },
   {
    "duration": 204,
    "start_time": "2025-06-21T11:29:16.427Z"
   },
   {
    "duration": 197,
    "start_time": "2025-06-21T11:29:16.633Z"
   },
   {
    "duration": 217,
    "start_time": "2025-06-21T11:29:16.845Z"
   },
   {
    "duration": 8,
    "start_time": "2025-06-21T11:29:17.063Z"
   },
   {
    "duration": 150,
    "start_time": "2025-06-21T11:29:17.073Z"
   },
   {
    "duration": 199,
    "start_time": "2025-06-21T11:29:17.225Z"
   },
   {
    "duration": 200,
    "start_time": "2025-06-21T11:29:35.755Z"
   },
   {
    "duration": 8,
    "start_time": "2025-06-21T11:32:18.252Z"
   },
   {
    "duration": 243,
    "start_time": "2025-06-21T11:32:33.273Z"
   },
   {
    "duration": 171,
    "start_time": "2025-06-21T11:34:01.105Z"
   },
   {
    "duration": 8,
    "start_time": "2025-06-21T11:36:21.205Z"
   },
   {
    "duration": 163,
    "start_time": "2025-06-21T11:37:18.655Z"
   },
   {
    "duration": 1482,
    "start_time": "2025-06-21T11:44:11.135Z"
   },
   {
    "duration": 14,
    "start_time": "2025-06-21T11:44:20.182Z"
   },
   {
    "duration": 11,
    "start_time": "2025-06-21T11:44:37.725Z"
   },
   {
    "duration": 21,
    "start_time": "2025-06-21T11:44:48.729Z"
   },
   {
    "duration": 15,
    "start_time": "2025-06-21T11:44:55.118Z"
   },
   {
    "duration": 10,
    "start_time": "2025-06-21T11:45:02.452Z"
   },
   {
    "duration": 778,
    "start_time": "2025-06-23T11:57:25.799Z"
   },
   {
    "duration": 76,
    "start_time": "2025-06-23T11:57:26.580Z"
   },
   {
    "duration": 14,
    "start_time": "2025-06-23T11:57:26.658Z"
   },
   {
    "duration": 6,
    "start_time": "2025-06-23T11:57:26.673Z"
   },
   {
    "duration": 6,
    "start_time": "2025-06-23T11:57:26.681Z"
   },
   {
    "duration": 7,
    "start_time": "2025-06-23T11:57:26.688Z"
   },
   {
    "duration": 15,
    "start_time": "2025-06-23T11:57:26.697Z"
   },
   {
    "duration": 49,
    "start_time": "2025-06-23T11:57:26.713Z"
   },
   {
    "duration": 20,
    "start_time": "2025-06-23T11:57:26.764Z"
   },
   {
    "duration": 6,
    "start_time": "2025-06-23T11:57:26.785Z"
   },
   {
    "duration": 18,
    "start_time": "2025-06-23T11:57:26.792Z"
   },
   {
    "duration": 50,
    "start_time": "2025-06-23T11:57:26.811Z"
   },
   {
    "duration": 4,
    "start_time": "2025-06-23T11:57:26.863Z"
   },
   {
    "duration": 18,
    "start_time": "2025-06-23T11:57:26.870Z"
   },
   {
    "duration": 12,
    "start_time": "2025-06-23T11:57:26.889Z"
   },
   {
    "duration": 11,
    "start_time": "2025-06-23T11:57:26.902Z"
   },
   {
    "duration": 16,
    "start_time": "2025-06-23T11:57:26.914Z"
   },
   {
    "duration": 31,
    "start_time": "2025-06-23T11:57:26.932Z"
   },
   {
    "duration": 12,
    "start_time": "2025-06-23T11:57:26.964Z"
   },
   {
    "duration": 15,
    "start_time": "2025-06-23T11:57:26.977Z"
   },
   {
    "duration": 148,
    "start_time": "2025-06-23T11:57:26.993Z"
   },
   {
    "duration": 99,
    "start_time": "2025-06-23T11:57:27.143Z"
   },
   {
    "duration": 108,
    "start_time": "2025-06-23T11:57:27.244Z"
   },
   {
    "duration": 185,
    "start_time": "2025-06-23T11:57:27.353Z"
   },
   {
    "duration": 242,
    "start_time": "2025-06-23T11:57:27.540Z"
   },
   {
    "duration": 184,
    "start_time": "2025-06-23T11:57:27.783Z"
   },
   {
    "duration": 176,
    "start_time": "2025-06-23T11:57:27.968Z"
   },
   {
    "duration": 147,
    "start_time": "2025-06-23T11:57:28.146Z"
   },
   {
    "duration": 181,
    "start_time": "2025-06-23T11:57:28.294Z"
   },
   {
    "duration": 178,
    "start_time": "2025-06-23T11:57:28.477Z"
   },
   {
    "duration": 166,
    "start_time": "2025-06-23T11:57:28.657Z"
   },
   {
    "duration": 179,
    "start_time": "2025-06-23T11:57:28.824Z"
   },
   {
    "duration": 127,
    "start_time": "2025-06-23T11:57:29.004Z"
   },
   {
    "duration": 158,
    "start_time": "2025-06-23T11:57:29.132Z"
   },
   {
    "duration": 123,
    "start_time": "2025-06-23T11:57:29.291Z"
   },
   {
    "duration": 223,
    "start_time": "2025-06-23T11:57:29.415Z"
   },
   {
    "duration": 6,
    "start_time": "2025-06-23T11:57:29.639Z"
   },
   {
    "duration": 154,
    "start_time": "2025-06-23T11:57:29.647Z"
   },
   {
    "duration": 8,
    "start_time": "2025-06-23T11:57:29.802Z"
   },
   {
    "duration": 72,
    "start_time": "2025-06-23T12:01:42.327Z"
   },
   {
    "duration": 13,
    "start_time": "2025-06-23T12:02:03.926Z"
   },
   {
    "duration": 11,
    "start_time": "2025-06-23T12:02:11.226Z"
   },
   {
    "duration": 135,
    "start_time": "2025-06-23T12:02:31.395Z"
   },
   {
    "duration": 9,
    "start_time": "2025-06-23T12:02:50.557Z"
   },
   {
    "duration": 8,
    "start_time": "2025-06-23T12:06:47.220Z"
   },
   {
    "duration": 1407,
    "start_time": "2025-06-23T12:14:16.894Z"
   },
   {
    "duration": 1823,
    "start_time": "2025-06-23T12:14:23.868Z"
   },
   {
    "duration": 4,
    "start_time": "2025-06-23T12:16:08.898Z"
   },
   {
    "duration": 31,
    "start_time": "2025-06-23T12:16:23.555Z"
   },
   {
    "duration": 28,
    "start_time": "2025-06-23T12:17:59.499Z"
   },
   {
    "duration": 8,
    "start_time": "2025-06-23T12:31:22.460Z"
   },
   {
    "duration": 3624,
    "start_time": "2025-06-23T12:32:15.414Z"
   },
   {
    "duration": 513,
    "start_time": "2025-06-23T12:32:25.813Z"
   },
   {
    "duration": 826,
    "start_time": "2025-06-23T12:32:53.331Z"
   },
   {
    "duration": 1179,
    "start_time": "2025-06-23T12:38:19.465Z"
   },
   {
    "duration": 3,
    "start_time": "2025-06-23T12:38:40.057Z"
   },
   {
    "duration": 1316,
    "start_time": "2025-06-23T12:38:48.091Z"
   },
   {
    "duration": 1291,
    "start_time": "2025-06-23T12:38:58.795Z"
   },
   {
    "duration": 1256,
    "start_time": "2025-06-23T12:39:20.240Z"
   },
   {
    "duration": 1270,
    "start_time": "2025-06-23T12:39:29.024Z"
   },
   {
    "duration": 1263,
    "start_time": "2025-06-23T12:39:36.310Z"
   },
   {
    "duration": 155,
    "start_time": "2025-06-23T12:41:12.652Z"
   },
   {
    "duration": 2936,
    "start_time": "2025-06-23T12:41:18.987Z"
   },
   {
    "duration": 2042,
    "start_time": "2025-06-23T12:43:29.868Z"
   },
   {
    "duration": 2021,
    "start_time": "2025-06-23T12:44:03.296Z"
   },
   {
    "duration": 20,
    "start_time": "2025-06-23T12:51:26.891Z"
   },
   {
    "duration": 4,
    "start_time": "2025-06-23T12:51:55.467Z"
   },
   {
    "duration": 1001,
    "start_time": "2025-06-24T09:26:26.798Z"
   },
   {
    "duration": 0,
    "start_time": "2025-06-24T09:26:27.802Z"
   },
   {
    "duration": 0,
    "start_time": "2025-06-24T09:26:27.804Z"
   },
   {
    "duration": 0,
    "start_time": "2025-06-24T09:26:27.805Z"
   },
   {
    "duration": 0,
    "start_time": "2025-06-24T09:26:27.806Z"
   },
   {
    "duration": 0,
    "start_time": "2025-06-24T09:26:27.807Z"
   },
   {
    "duration": 0,
    "start_time": "2025-06-24T09:26:27.808Z"
   },
   {
    "duration": 0,
    "start_time": "2025-06-24T09:26:27.809Z"
   },
   {
    "duration": 0,
    "start_time": "2025-06-24T09:26:27.811Z"
   },
   {
    "duration": 0,
    "start_time": "2025-06-24T09:26:27.812Z"
   },
   {
    "duration": 0,
    "start_time": "2025-06-24T09:26:27.813Z"
   },
   {
    "duration": 0,
    "start_time": "2025-06-24T09:26:27.814Z"
   },
   {
    "duration": 1,
    "start_time": "2025-06-24T09:26:27.834Z"
   },
   {
    "duration": 0,
    "start_time": "2025-06-24T09:26:27.836Z"
   },
   {
    "duration": 0,
    "start_time": "2025-06-24T09:26:27.836Z"
   },
   {
    "duration": 0,
    "start_time": "2025-06-24T09:26:27.838Z"
   },
   {
    "duration": 0,
    "start_time": "2025-06-24T09:26:27.845Z"
   },
   {
    "duration": 0,
    "start_time": "2025-06-24T09:26:27.846Z"
   },
   {
    "duration": 0,
    "start_time": "2025-06-24T09:26:27.848Z"
   },
   {
    "duration": 0,
    "start_time": "2025-06-24T09:26:27.850Z"
   },
   {
    "duration": 0,
    "start_time": "2025-06-24T09:26:27.851Z"
   },
   {
    "duration": 0,
    "start_time": "2025-06-24T09:26:27.853Z"
   },
   {
    "duration": 0,
    "start_time": "2025-06-24T09:26:27.854Z"
   },
   {
    "duration": 0,
    "start_time": "2025-06-24T09:26:27.856Z"
   },
   {
    "duration": 0,
    "start_time": "2025-06-24T09:26:27.858Z"
   },
   {
    "duration": 0,
    "start_time": "2025-06-24T09:26:27.860Z"
   },
   {
    "duration": 0,
    "start_time": "2025-06-24T09:26:27.861Z"
   },
   {
    "duration": 0,
    "start_time": "2025-06-24T09:26:27.862Z"
   },
   {
    "duration": 0,
    "start_time": "2025-06-24T09:26:27.863Z"
   },
   {
    "duration": 0,
    "start_time": "2025-06-24T09:26:27.865Z"
   },
   {
    "duration": 0,
    "start_time": "2025-06-24T09:26:27.866Z"
   },
   {
    "duration": 0,
    "start_time": "2025-06-24T09:26:27.867Z"
   },
   {
    "duration": 0,
    "start_time": "2025-06-24T09:26:27.868Z"
   },
   {
    "duration": 0,
    "start_time": "2025-06-24T09:26:27.869Z"
   },
   {
    "duration": 0,
    "start_time": "2025-06-24T09:26:27.870Z"
   },
   {
    "duration": 1,
    "start_time": "2025-06-24T09:26:27.871Z"
   },
   {
    "duration": 0,
    "start_time": "2025-06-24T09:26:27.873Z"
   },
   {
    "duration": 0,
    "start_time": "2025-06-24T09:26:27.874Z"
   },
   {
    "duration": 0,
    "start_time": "2025-06-24T09:26:27.875Z"
   },
   {
    "duration": 0,
    "start_time": "2025-06-24T09:26:27.876Z"
   },
   {
    "duration": 0,
    "start_time": "2025-06-24T09:26:27.877Z"
   },
   {
    "duration": 810,
    "start_time": "2025-06-24T09:27:06.968Z"
   },
   {
    "duration": 0,
    "start_time": "2025-06-24T09:27:07.781Z"
   },
   {
    "duration": 0,
    "start_time": "2025-06-24T09:27:07.782Z"
   },
   {
    "duration": 0,
    "start_time": "2025-06-24T09:27:07.783Z"
   },
   {
    "duration": 0,
    "start_time": "2025-06-24T09:27:07.785Z"
   },
   {
    "duration": 0,
    "start_time": "2025-06-24T09:27:07.786Z"
   },
   {
    "duration": 0,
    "start_time": "2025-06-24T09:27:07.787Z"
   },
   {
    "duration": 0,
    "start_time": "2025-06-24T09:27:07.788Z"
   },
   {
    "duration": 1,
    "start_time": "2025-06-24T09:27:07.789Z"
   },
   {
    "duration": 0,
    "start_time": "2025-06-24T09:27:07.791Z"
   },
   {
    "duration": 0,
    "start_time": "2025-06-24T09:27:07.792Z"
   },
   {
    "duration": 0,
    "start_time": "2025-06-24T09:27:07.793Z"
   },
   {
    "duration": 0,
    "start_time": "2025-06-24T09:27:07.795Z"
   },
   {
    "duration": 0,
    "start_time": "2025-06-24T09:27:07.796Z"
   },
   {
    "duration": 0,
    "start_time": "2025-06-24T09:27:07.797Z"
   },
   {
    "duration": 0,
    "start_time": "2025-06-24T09:27:07.798Z"
   },
   {
    "duration": 0,
    "start_time": "2025-06-24T09:27:07.837Z"
   },
   {
    "duration": 0,
    "start_time": "2025-06-24T09:27:07.839Z"
   },
   {
    "duration": 0,
    "start_time": "2025-06-24T09:27:07.840Z"
   },
   {
    "duration": 0,
    "start_time": "2025-06-24T09:27:07.842Z"
   },
   {
    "duration": 0,
    "start_time": "2025-06-24T09:27:07.843Z"
   },
   {
    "duration": 0,
    "start_time": "2025-06-24T09:27:07.844Z"
   },
   {
    "duration": 0,
    "start_time": "2025-06-24T09:27:07.847Z"
   },
   {
    "duration": 0,
    "start_time": "2025-06-24T09:27:07.848Z"
   },
   {
    "duration": 0,
    "start_time": "2025-06-24T09:27:07.849Z"
   },
   {
    "duration": 0,
    "start_time": "2025-06-24T09:27:07.850Z"
   },
   {
    "duration": 0,
    "start_time": "2025-06-24T09:27:07.851Z"
   },
   {
    "duration": 0,
    "start_time": "2025-06-24T09:27:07.852Z"
   },
   {
    "duration": 0,
    "start_time": "2025-06-24T09:27:07.853Z"
   },
   {
    "duration": 0,
    "start_time": "2025-06-24T09:27:07.854Z"
   },
   {
    "duration": 0,
    "start_time": "2025-06-24T09:27:07.855Z"
   },
   {
    "duration": 0,
    "start_time": "2025-06-24T09:27:07.857Z"
   },
   {
    "duration": 0,
    "start_time": "2025-06-24T09:27:07.858Z"
   },
   {
    "duration": 0,
    "start_time": "2025-06-24T09:27:07.859Z"
   },
   {
    "duration": 0,
    "start_time": "2025-06-24T09:27:07.860Z"
   },
   {
    "duration": 0,
    "start_time": "2025-06-24T09:27:07.861Z"
   },
   {
    "duration": 0,
    "start_time": "2025-06-24T09:27:07.862Z"
   },
   {
    "duration": 0,
    "start_time": "2025-06-24T09:27:07.864Z"
   },
   {
    "duration": 0,
    "start_time": "2025-06-24T09:27:07.865Z"
   },
   {
    "duration": 0,
    "start_time": "2025-06-24T09:27:07.866Z"
   },
   {
    "duration": 0,
    "start_time": "2025-06-24T09:27:07.867Z"
   },
   {
    "duration": 12,
    "start_time": "2025-06-24T09:27:11.389Z"
   },
   {
    "duration": 4284,
    "start_time": "2025-06-24T09:27:35.310Z"
   },
   {
    "duration": 644,
    "start_time": "2025-06-24T09:27:44.531Z"
   },
   {
    "duration": 3011,
    "start_time": "2025-06-24T09:27:50.604Z"
   },
   {
    "duration": 1377,
    "start_time": "2025-06-24T09:27:53.618Z"
   },
   {
    "duration": 99,
    "start_time": "2025-06-24T09:27:54.997Z"
   },
   {
    "duration": 17,
    "start_time": "2025-06-24T09:27:55.097Z"
   },
   {
    "duration": 20,
    "start_time": "2025-06-24T09:27:55.117Z"
   },
   {
    "duration": 123,
    "start_time": "2025-06-24T09:27:55.140Z"
   },
   {
    "duration": 14,
    "start_time": "2025-06-24T09:27:55.265Z"
   },
   {
    "duration": 21,
    "start_time": "2025-06-24T09:27:55.281Z"
   },
   {
    "duration": 51,
    "start_time": "2025-06-24T09:27:55.305Z"
   },
   {
    "duration": 28,
    "start_time": "2025-06-24T09:27:55.359Z"
   },
   {
    "duration": 8,
    "start_time": "2025-06-24T09:27:55.389Z"
   },
   {
    "duration": 71,
    "start_time": "2025-06-24T09:27:55.399Z"
   },
   {
    "duration": 14,
    "start_time": "2025-06-24T09:27:55.472Z"
   },
   {
    "duration": 65,
    "start_time": "2025-06-24T09:27:55.491Z"
   },
   {
    "duration": 14,
    "start_time": "2025-06-24T09:27:55.559Z"
   },
   {
    "duration": 7,
    "start_time": "2025-06-24T09:27:55.574Z"
   },
   {
    "duration": 12,
    "start_time": "2025-06-24T09:27:55.583Z"
   },
   {
    "duration": 27,
    "start_time": "2025-06-24T09:27:55.597Z"
   },
   {
    "duration": 76,
    "start_time": "2025-06-24T09:27:55.626Z"
   },
   {
    "duration": 111,
    "start_time": "2025-06-24T09:27:55.704Z"
   },
   {
    "duration": 20,
    "start_time": "2025-06-24T09:27:55.817Z"
   },
   {
    "duration": 185,
    "start_time": "2025-06-24T09:27:55.844Z"
   },
   {
    "duration": 139,
    "start_time": "2025-06-24T09:27:56.045Z"
   },
   {
    "duration": 152,
    "start_time": "2025-06-24T09:27:56.187Z"
   },
   {
    "duration": 269,
    "start_time": "2025-06-24T09:27:56.347Z"
   },
   {
    "duration": 251,
    "start_time": "2025-06-24T09:27:56.618Z"
   },
   {
    "duration": 273,
    "start_time": "2025-06-24T09:27:56.871Z"
   },
   {
    "duration": 305,
    "start_time": "2025-06-24T09:27:57.145Z"
   },
   {
    "duration": 339,
    "start_time": "2025-06-24T09:27:57.452Z"
   },
   {
    "duration": 270,
    "start_time": "2025-06-24T09:27:57.793Z"
   },
   {
    "duration": 300,
    "start_time": "2025-06-24T09:27:58.065Z"
   },
   {
    "duration": 288,
    "start_time": "2025-06-24T09:27:58.368Z"
   },
   {
    "duration": 240,
    "start_time": "2025-06-24T09:27:58.662Z"
   },
   {
    "duration": 161,
    "start_time": "2025-06-24T09:27:58.904Z"
   },
   {
    "duration": 235,
    "start_time": "2025-06-24T09:27:59.066Z"
   },
   {
    "duration": 167,
    "start_time": "2025-06-24T09:27:59.302Z"
   },
   {
    "duration": 216,
    "start_time": "2025-06-24T09:27:59.471Z"
   },
   {
    "duration": 200,
    "start_time": "2025-06-24T09:27:59.688Z"
   },
   {
    "duration": 9,
    "start_time": "2025-06-24T09:27:59.890Z"
   },
   {
    "duration": 56,
    "start_time": "2025-06-24T09:27:59.901Z"
   },
   {
    "duration": 2622,
    "start_time": "2025-06-24T09:27:59.962Z"
   },
   {
    "duration": 6,
    "start_time": "2025-06-24T09:28:02.587Z"
   },
   {
    "duration": 373,
    "start_time": "2025-06-24T09:55:11.552Z"
   },
   {
    "duration": 3,
    "start_time": "2025-06-24T09:55:49.025Z"
   },
   {
    "duration": 61,
    "start_time": "2025-06-24T09:57:30.013Z"
   },
   {
    "duration": 30,
    "start_time": "2025-06-24T09:59:43.324Z"
   },
   {
    "duration": 4,
    "start_time": "2025-06-24T10:07:18.388Z"
   },
   {
    "duration": 7,
    "start_time": "2025-06-24T10:07:31.703Z"
   },
   {
    "duration": 3,
    "start_time": "2025-06-24T10:07:50.491Z"
   },
   {
    "duration": 157,
    "start_time": "2025-06-24T10:15:28.243Z"
   },
   {
    "duration": 17,
    "start_time": "2025-06-24T10:15:42.967Z"
   },
   {
    "duration": 16,
    "start_time": "2025-06-24T10:15:58.576Z"
   },
   {
    "duration": 5,
    "start_time": "2025-06-24T10:16:34.571Z"
   },
   {
    "duration": 13,
    "start_time": "2025-06-24T10:16:41.417Z"
   },
   {
    "duration": 6,
    "start_time": "2025-06-24T10:17:01.583Z"
   },
   {
    "duration": 18,
    "start_time": "2025-06-24T10:18:19.283Z"
   },
   {
    "duration": 14,
    "start_time": "2025-06-24T10:18:30.687Z"
   },
   {
    "duration": 2894,
    "start_time": "2025-06-24T10:18:39.619Z"
   },
   {
    "duration": 1687,
    "start_time": "2025-06-24T10:18:42.515Z"
   },
   {
    "duration": 116,
    "start_time": "2025-06-24T10:18:44.204Z"
   },
   {
    "duration": 28,
    "start_time": "2025-06-24T10:18:44.322Z"
   },
   {
    "duration": 11,
    "start_time": "2025-06-24T10:18:44.353Z"
   },
   {
    "duration": 199,
    "start_time": "2025-06-24T10:18:44.370Z"
   },
   {
    "duration": 19,
    "start_time": "2025-06-24T10:18:44.571Z"
   },
   {
    "duration": 25,
    "start_time": "2025-06-24T10:18:44.592Z"
   },
   {
    "duration": 72,
    "start_time": "2025-06-24T10:18:44.619Z"
   },
   {
    "duration": 25,
    "start_time": "2025-06-24T10:18:44.692Z"
   },
   {
    "duration": 8,
    "start_time": "2025-06-24T10:18:44.719Z"
   },
   {
    "duration": 32,
    "start_time": "2025-06-24T10:18:44.739Z"
   },
   {
    "duration": 14,
    "start_time": "2025-06-24T10:18:44.772Z"
   },
   {
    "duration": 5,
    "start_time": "2025-06-24T10:18:44.791Z"
   },
   {
    "duration": 13,
    "start_time": "2025-06-24T10:18:44.798Z"
   },
   {
    "duration": 33,
    "start_time": "2025-06-24T10:18:44.835Z"
   },
   {
    "duration": 23,
    "start_time": "2025-06-24T10:18:44.870Z"
   },
   {
    "duration": 13,
    "start_time": "2025-06-24T10:18:44.895Z"
   },
   {
    "duration": 64,
    "start_time": "2025-06-24T10:18:44.910Z"
   },
   {
    "duration": 15,
    "start_time": "2025-06-24T10:18:44.982Z"
   },
   {
    "duration": 15,
    "start_time": "2025-06-24T10:18:44.999Z"
   },
   {
    "duration": 200,
    "start_time": "2025-06-24T10:18:45.016Z"
   },
   {
    "duration": 161,
    "start_time": "2025-06-24T10:18:45.217Z"
   },
   {
    "duration": 140,
    "start_time": "2025-06-24T10:18:45.384Z"
   },
   {
    "duration": 343,
    "start_time": "2025-06-24T10:18:45.526Z"
   },
   {
    "duration": 252,
    "start_time": "2025-06-24T10:18:45.870Z"
   },
   {
    "duration": 246,
    "start_time": "2025-06-24T10:18:46.124Z"
   },
   {
    "duration": 287,
    "start_time": "2025-06-24T10:18:46.371Z"
   },
   {
    "duration": 195,
    "start_time": "2025-06-24T10:18:46.670Z"
   },
   {
    "duration": 263,
    "start_time": "2025-06-24T10:18:46.866Z"
   },
   {
    "duration": 270,
    "start_time": "2025-06-24T10:18:47.131Z"
   },
   {
    "duration": 253,
    "start_time": "2025-06-24T10:18:47.403Z"
   },
   {
    "duration": 251,
    "start_time": "2025-06-24T10:18:47.658Z"
   },
   {
    "duration": 181,
    "start_time": "2025-06-24T10:18:47.911Z"
   },
   {
    "duration": 264,
    "start_time": "2025-06-24T10:18:48.094Z"
   },
   {
    "duration": 263,
    "start_time": "2025-06-24T10:18:48.362Z"
   },
   {
    "duration": 236,
    "start_time": "2025-06-24T10:18:48.627Z"
   },
   {
    "duration": 225,
    "start_time": "2025-06-24T10:18:48.864Z"
   },
   {
    "duration": 9,
    "start_time": "2025-06-24T10:18:49.090Z"
   },
   {
    "duration": 58,
    "start_time": "2025-06-24T10:18:49.101Z"
   },
   {
    "duration": 2501,
    "start_time": "2025-06-24T10:18:49.168Z"
   },
   {
    "duration": 6,
    "start_time": "2025-06-24T10:18:51.671Z"
   },
   {
    "duration": 201,
    "start_time": "2025-06-24T10:18:51.679Z"
   },
   {
    "duration": 5,
    "start_time": "2025-06-24T10:19:19.279Z"
   },
   {
    "duration": 6,
    "start_time": "2025-06-24T10:20:03.355Z"
   },
   {
    "duration": 16,
    "start_time": "2025-06-24T10:24:12.674Z"
   },
   {
    "duration": 27,
    "start_time": "2025-06-24T10:25:42.149Z"
   },
   {
    "duration": 29,
    "start_time": "2025-06-24T10:26:26.956Z"
   },
   {
    "duration": 25,
    "start_time": "2025-06-24T10:27:34.067Z"
   },
   {
    "duration": 13,
    "start_time": "2025-06-24T10:36:17.006Z"
   },
   {
    "duration": 5,
    "start_time": "2025-06-24T10:47:21.248Z"
   },
   {
    "duration": 19,
    "start_time": "2025-06-24T10:57:23.254Z"
   },
   {
    "duration": 13,
    "start_time": "2025-06-24T10:57:32.408Z"
   },
   {
    "duration": 16,
    "start_time": "2025-06-24T10:57:55.142Z"
   },
   {
    "duration": 14,
    "start_time": "2025-06-24T10:57:56.970Z"
   },
   {
    "duration": 4,
    "start_time": "2025-06-24T10:58:09.113Z"
   },
   {
    "duration": 2844,
    "start_time": "2025-06-24T10:58:16.249Z"
   },
   {
    "duration": 1477,
    "start_time": "2025-06-24T10:58:19.096Z"
   },
   {
    "duration": 105,
    "start_time": "2025-06-24T10:58:20.574Z"
   },
   {
    "duration": 17,
    "start_time": "2025-06-24T10:58:20.680Z"
   },
   {
    "duration": 8,
    "start_time": "2025-06-24T10:58:20.700Z"
   },
   {
    "duration": 92,
    "start_time": "2025-06-24T10:58:20.710Z"
   },
   {
    "duration": 17,
    "start_time": "2025-06-24T10:58:20.804Z"
   },
   {
    "duration": 32,
    "start_time": "2025-06-24T10:58:20.823Z"
   },
   {
    "duration": 24,
    "start_time": "2025-06-24T10:58:20.857Z"
   },
   {
    "duration": 60,
    "start_time": "2025-06-24T10:58:20.882Z"
   },
   {
    "duration": 12,
    "start_time": "2025-06-24T10:58:20.945Z"
   },
   {
    "duration": 28,
    "start_time": "2025-06-24T10:58:20.959Z"
   },
   {
    "duration": 50,
    "start_time": "2025-06-24T10:58:20.989Z"
   },
   {
    "duration": 5,
    "start_time": "2025-06-24T10:58:21.051Z"
   },
   {
    "duration": 12,
    "start_time": "2025-06-24T10:58:21.058Z"
   },
   {
    "duration": 6,
    "start_time": "2025-06-24T10:58:21.072Z"
   },
   {
    "duration": 12,
    "start_time": "2025-06-24T10:58:21.080Z"
   },
   {
    "duration": 11,
    "start_time": "2025-06-24T10:58:21.094Z"
   },
   {
    "duration": 42,
    "start_time": "2025-06-24T10:58:21.134Z"
   },
   {
    "duration": 15,
    "start_time": "2025-06-24T10:58:21.177Z"
   },
   {
    "duration": 15,
    "start_time": "2025-06-24T10:58:21.194Z"
   },
   {
    "duration": 174,
    "start_time": "2025-06-24T10:58:21.243Z"
   },
   {
    "duration": 136,
    "start_time": "2025-06-24T10:58:21.419Z"
   },
   {
    "duration": 145,
    "start_time": "2025-06-24T10:58:21.557Z"
   },
   {
    "duration": 313,
    "start_time": "2025-06-24T10:58:21.704Z"
   },
   {
    "duration": 246,
    "start_time": "2025-06-24T10:58:22.019Z"
   },
   {
    "duration": 227,
    "start_time": "2025-06-24T10:58:22.268Z"
   },
   {
    "duration": 228,
    "start_time": "2025-06-24T10:58:22.497Z"
   },
   {
    "duration": 204,
    "start_time": "2025-06-24T10:58:22.727Z"
   },
   {
    "duration": 232,
    "start_time": "2025-06-24T10:58:22.933Z"
   },
   {
    "duration": 217,
    "start_time": "2025-06-24T10:58:23.167Z"
   },
   {
    "duration": 205,
    "start_time": "2025-06-24T10:58:23.386Z"
   },
   {
    "duration": 234,
    "start_time": "2025-06-24T10:58:23.593Z"
   },
   {
    "duration": 152,
    "start_time": "2025-06-24T10:58:23.829Z"
   },
   {
    "duration": 276,
    "start_time": "2025-06-24T10:58:23.983Z"
   },
   {
    "duration": 264,
    "start_time": "2025-06-24T10:58:24.262Z"
   },
   {
    "duration": 189,
    "start_time": "2025-06-24T10:58:24.528Z"
   },
   {
    "duration": 192,
    "start_time": "2025-06-24T10:58:24.719Z"
   },
   {
    "duration": 10,
    "start_time": "2025-06-24T10:58:24.912Z"
   },
   {
    "duration": 49,
    "start_time": "2025-06-24T10:58:24.923Z"
   },
   {
    "duration": 2375,
    "start_time": "2025-06-24T10:58:24.977Z"
   },
   {
    "duration": 5,
    "start_time": "2025-06-24T10:58:27.354Z"
   },
   {
    "duration": 141,
    "start_time": "2025-06-24T10:58:27.361Z"
   },
   {
    "duration": 0,
    "start_time": "2025-06-24T10:58:27.504Z"
   },
   {
    "duration": 15,
    "start_time": "2025-06-24T10:59:36.760Z"
   },
   {
    "duration": 10,
    "start_time": "2025-06-24T10:59:56.409Z"
   },
   {
    "duration": 6,
    "start_time": "2025-06-24T11:02:41.251Z"
   },
   {
    "duration": 109,
    "start_time": "2025-06-24T11:14:22.584Z"
   },
   {
    "duration": 12,
    "start_time": "2025-06-24T11:14:35.562Z"
   },
   {
    "duration": 20,
    "start_time": "2025-06-24T11:17:40.031Z"
   },
   {
    "duration": 13,
    "start_time": "2025-06-24T11:17:47.489Z"
   },
   {
    "duration": 5,
    "start_time": "2025-06-24T11:18:04.640Z"
   },
   {
    "duration": 6,
    "start_time": "2025-06-24T11:18:57.402Z"
   },
   {
    "duration": 88,
    "start_time": "2025-06-24T11:21:27.067Z"
   },
   {
    "duration": 4,
    "start_time": "2025-06-24T11:21:44.200Z"
   },
   {
    "duration": 12,
    "start_time": "2025-06-24T11:24:34.348Z"
   },
   {
    "duration": 4,
    "start_time": "2025-06-24T11:24:54.693Z"
   },
   {
    "duration": 2657,
    "start_time": "2025-06-24T11:25:00.575Z"
   },
   {
    "duration": 1712,
    "start_time": "2025-06-24T11:25:03.234Z"
   },
   {
    "duration": 86,
    "start_time": "2025-06-24T11:25:04.949Z"
   },
   {
    "duration": 20,
    "start_time": "2025-06-24T11:25:05.038Z"
   },
   {
    "duration": 8,
    "start_time": "2025-06-24T11:25:05.061Z"
   },
   {
    "duration": 27,
    "start_time": "2025-06-24T11:25:05.071Z"
   },
   {
    "duration": 58,
    "start_time": "2025-06-24T11:25:05.100Z"
   },
   {
    "duration": 54,
    "start_time": "2025-06-24T11:25:05.159Z"
   },
   {
    "duration": 64,
    "start_time": "2025-06-24T11:25:05.215Z"
   },
   {
    "duration": 39,
    "start_time": "2025-06-24T11:25:05.280Z"
   },
   {
    "duration": 8,
    "start_time": "2025-06-24T11:25:05.321Z"
   },
   {
    "duration": 51,
    "start_time": "2025-06-24T11:25:05.331Z"
   },
   {
    "duration": 43,
    "start_time": "2025-06-24T11:25:05.384Z"
   },
   {
    "duration": 19,
    "start_time": "2025-06-24T11:25:05.430Z"
   },
   {
    "duration": 25,
    "start_time": "2025-06-24T11:25:05.451Z"
   },
   {
    "duration": 42,
    "start_time": "2025-06-24T11:25:05.478Z"
   },
   {
    "duration": 34,
    "start_time": "2025-06-24T11:25:05.522Z"
   },
   {
    "duration": 50,
    "start_time": "2025-06-24T11:25:05.558Z"
   },
   {
    "duration": 51,
    "start_time": "2025-06-24T11:25:05.610Z"
   },
   {
    "duration": 117,
    "start_time": "2025-06-24T11:25:05.663Z"
   },
   {
    "duration": 36,
    "start_time": "2025-06-24T11:25:05.782Z"
   },
   {
    "duration": 341,
    "start_time": "2025-06-24T11:25:05.820Z"
   },
   {
    "duration": 121,
    "start_time": "2025-06-24T11:25:06.163Z"
   },
   {
    "duration": 191,
    "start_time": "2025-06-24T11:25:06.286Z"
   },
   {
    "duration": 352,
    "start_time": "2025-06-24T11:25:06.479Z"
   },
   {
    "duration": 246,
    "start_time": "2025-06-24T11:25:06.833Z"
   },
   {
    "duration": 246,
    "start_time": "2025-06-24T11:25:07.081Z"
   },
   {
    "duration": 234,
    "start_time": "2025-06-24T11:25:07.328Z"
   },
   {
    "duration": 191,
    "start_time": "2025-06-24T11:25:07.564Z"
   },
   {
    "duration": 212,
    "start_time": "2025-06-24T11:25:07.756Z"
   },
   {
    "duration": 228,
    "start_time": "2025-06-24T11:25:07.970Z"
   },
   {
    "duration": 210,
    "start_time": "2025-06-24T11:25:08.200Z"
   },
   {
    "duration": 238,
    "start_time": "2025-06-24T11:25:08.412Z"
   },
   {
    "duration": 148,
    "start_time": "2025-06-24T11:25:08.652Z"
   },
   {
    "duration": 215,
    "start_time": "2025-06-24T11:25:08.801Z"
   },
   {
    "duration": 268,
    "start_time": "2025-06-24T11:25:09.018Z"
   },
   {
    "duration": 195,
    "start_time": "2025-06-24T11:25:09.288Z"
   },
   {
    "duration": 220,
    "start_time": "2025-06-24T11:25:09.484Z"
   },
   {
    "duration": 10,
    "start_time": "2025-06-24T11:25:09.707Z"
   },
   {
    "duration": 66,
    "start_time": "2025-06-24T11:25:09.719Z"
   },
   {
    "duration": 2295,
    "start_time": "2025-06-24T11:25:09.789Z"
   },
   {
    "duration": 4,
    "start_time": "2025-06-24T11:25:12.086Z"
   },
   {
    "duration": 80,
    "start_time": "2025-06-24T11:25:12.092Z"
   },
   {
    "duration": 16,
    "start_time": "2025-06-24T11:25:12.174Z"
   },
   {
    "duration": 4,
    "start_time": "2025-06-24T11:26:08.087Z"
   },
   {
    "duration": 137,
    "start_time": "2025-06-24T11:26:54.276Z"
   },
   {
    "duration": 10013,
    "start_time": "2025-06-24T11:32:14.525Z"
   },
   {
    "duration": 5,
    "start_time": "2025-06-24T11:33:47.386Z"
   },
   {
    "duration": 17,
    "start_time": "2025-06-24T11:35:12.725Z"
   },
   {
    "duration": 7873,
    "start_time": "2025-06-24T11:36:21.732Z"
   },
   {
    "duration": 87,
    "start_time": "2025-06-24T11:37:23.815Z"
   },
   {
    "duration": 12,
    "start_time": "2025-06-24T11:37:45.349Z"
   },
   {
    "duration": 7438,
    "start_time": "2025-06-24T11:37:47.539Z"
   },
   {
    "duration": 4,
    "start_time": "2025-06-24T11:37:58.262Z"
   },
   {
    "duration": 5,
    "start_time": "2025-06-24T11:39:27.494Z"
   },
   {
    "duration": 4,
    "start_time": "2025-06-24T11:39:34.279Z"
   },
   {
    "duration": 7561,
    "start_time": "2025-06-24T11:39:55.692Z"
   },
   {
    "duration": 4,
    "start_time": "2025-06-24T11:40:05.892Z"
   },
   {
    "duration": 7292,
    "start_time": "2025-06-24T11:41:10.018Z"
   },
   {
    "duration": 18,
    "start_time": "2025-06-24T11:42:18.206Z"
   },
   {
    "duration": 15,
    "start_time": "2025-06-24T11:43:55.296Z"
   },
   {
    "duration": 418,
    "start_time": "2025-06-24T11:43:57.171Z"
   },
   {
    "duration": 20,
    "start_time": "2025-06-24T11:44:37.725Z"
   },
   {
    "duration": 11,
    "start_time": "2025-06-24T11:47:11.050Z"
   },
   {
    "duration": 8685,
    "start_time": "2025-06-24T11:47:12.189Z"
   },
   {
    "duration": 28,
    "start_time": "2025-06-24T11:49:47.327Z"
   },
   {
    "duration": 8334,
    "start_time": "2025-06-24T11:49:49.453Z"
   },
   {
    "duration": 3,
    "start_time": "2025-06-24T11:51:43.301Z"
   },
   {
    "duration": 2647,
    "start_time": "2025-06-24T11:51:50.134Z"
   },
   {
    "duration": 1515,
    "start_time": "2025-06-24T11:51:52.784Z"
   },
   {
    "duration": 3,
    "start_time": "2025-06-24T11:51:54.301Z"
   },
   {
    "duration": 192,
    "start_time": "2025-06-24T11:51:54.306Z"
   },
   {
    "duration": 18,
    "start_time": "2025-06-24T11:51:54.499Z"
   },
   {
    "duration": 11,
    "start_time": "2025-06-24T11:51:54.519Z"
   },
   {
    "duration": 39,
    "start_time": "2025-06-24T11:51:54.532Z"
   },
   {
    "duration": 31,
    "start_time": "2025-06-24T11:51:54.572Z"
   },
   {
    "duration": 26,
    "start_time": "2025-06-24T11:51:54.605Z"
   },
   {
    "duration": 129,
    "start_time": "2025-06-24T11:51:54.633Z"
   },
   {
    "duration": 22,
    "start_time": "2025-06-24T11:51:54.763Z"
   },
   {
    "duration": 9,
    "start_time": "2025-06-24T11:51:54.786Z"
   },
   {
    "duration": 68,
    "start_time": "2025-06-24T11:51:54.796Z"
   },
   {
    "duration": 38,
    "start_time": "2025-06-24T11:51:54.866Z"
   },
   {
    "duration": 12,
    "start_time": "2025-06-24T11:51:54.906Z"
   },
   {
    "duration": 42,
    "start_time": "2025-06-24T11:51:54.920Z"
   },
   {
    "duration": 126,
    "start_time": "2025-06-24T11:51:54.964Z"
   },
   {
    "duration": 15,
    "start_time": "2025-06-24T11:51:55.092Z"
   },
   {
    "duration": 21,
    "start_time": "2025-06-24T11:51:55.109Z"
   },
   {
    "duration": 67,
    "start_time": "2025-06-24T11:51:55.131Z"
   },
   {
    "duration": 15,
    "start_time": "2025-06-24T11:51:55.199Z"
   },
   {
    "duration": 31,
    "start_time": "2025-06-24T11:51:55.216Z"
   },
   {
    "duration": 168,
    "start_time": "2025-06-24T11:51:55.252Z"
   },
   {
    "duration": 135,
    "start_time": "2025-06-24T11:51:55.422Z"
   },
   {
    "duration": 142,
    "start_time": "2025-06-24T11:51:55.559Z"
   },
   {
    "duration": 310,
    "start_time": "2025-06-24T11:51:55.703Z"
   },
   {
    "duration": 255,
    "start_time": "2025-06-24T11:51:56.015Z"
   },
   {
    "duration": 225,
    "start_time": "2025-06-24T11:51:56.275Z"
   },
   {
    "duration": 259,
    "start_time": "2025-06-24T11:51:56.505Z"
   },
   {
    "duration": 199,
    "start_time": "2025-06-24T11:51:56.766Z"
   },
   {
    "duration": 242,
    "start_time": "2025-06-24T11:51:56.967Z"
   },
   {
    "duration": 243,
    "start_time": "2025-06-24T11:51:57.211Z"
   },
   {
    "duration": 257,
    "start_time": "2025-06-24T11:51:57.457Z"
   },
   {
    "duration": 236,
    "start_time": "2025-06-24T11:51:57.715Z"
   },
   {
    "duration": 205,
    "start_time": "2025-06-24T11:51:57.953Z"
   },
   {
    "duration": 303,
    "start_time": "2025-06-24T11:51:58.160Z"
   },
   {
    "duration": 266,
    "start_time": "2025-06-24T11:51:58.464Z"
   },
   {
    "duration": 191,
    "start_time": "2025-06-24T11:51:58.736Z"
   },
   {
    "duration": 194,
    "start_time": "2025-06-24T11:51:58.936Z"
   },
   {
    "duration": 19,
    "start_time": "2025-06-24T11:51:59.132Z"
   },
   {
    "duration": 34,
    "start_time": "2025-06-24T11:51:59.153Z"
   },
   {
    "duration": 2298,
    "start_time": "2025-06-24T11:51:59.190Z"
   },
   {
    "duration": 5,
    "start_time": "2025-06-24T11:52:01.490Z"
   },
   {
    "duration": 54,
    "start_time": "2025-06-24T11:52:01.496Z"
   },
   {
    "duration": 27,
    "start_time": "2025-06-24T11:52:01.552Z"
   },
   {
    "duration": 14,
    "start_time": "2025-06-24T11:52:18.050Z"
   },
   {
    "duration": 6956,
    "start_time": "2025-06-24T11:52:18.066Z"
   },
   {
    "duration": 7754,
    "start_time": "2025-06-24T11:52:41.349Z"
   },
   {
    "duration": 87,
    "start_time": "2025-06-24T12:01:08.003Z"
   },
   {
    "duration": 127,
    "start_time": "2025-06-24T12:01:14.589Z"
   },
   {
    "duration": 33342,
    "start_time": "2025-06-24T12:02:48.216Z"
   },
   {
    "duration": 36006,
    "start_time": "2025-06-24T12:05:53.203Z"
   },
   {
    "duration": 3600,
    "start_time": "2025-06-25T10:04:33.097Z"
   },
   {
    "duration": 1711,
    "start_time": "2025-06-25T10:04:36.700Z"
   },
   {
    "duration": 2,
    "start_time": "2025-06-25T10:04:38.413Z"
   },
   {
    "duration": 119,
    "start_time": "2025-06-25T10:04:38.417Z"
   },
   {
    "duration": 15,
    "start_time": "2025-06-25T10:04:38.537Z"
   },
   {
    "duration": 12,
    "start_time": "2025-06-25T10:04:38.554Z"
   },
   {
    "duration": 51,
    "start_time": "2025-06-25T10:04:38.568Z"
   },
   {
    "duration": 60,
    "start_time": "2025-06-25T10:04:38.621Z"
   },
   {
    "duration": 18,
    "start_time": "2025-06-25T10:04:38.683Z"
   },
   {
    "duration": 24,
    "start_time": "2025-06-25T10:04:38.702Z"
   },
   {
    "duration": 73,
    "start_time": "2025-06-25T10:04:38.728Z"
   },
   {
    "duration": 30,
    "start_time": "2025-06-25T10:04:38.803Z"
   },
   {
    "duration": 22,
    "start_time": "2025-06-25T10:04:38.837Z"
   },
   {
    "duration": 27,
    "start_time": "2025-06-25T10:04:38.861Z"
   },
   {
    "duration": 29,
    "start_time": "2025-06-25T10:04:38.890Z"
   },
   {
    "duration": 24,
    "start_time": "2025-06-25T10:04:38.921Z"
   },
   {
    "duration": 37,
    "start_time": "2025-06-25T10:04:38.947Z"
   },
   {
    "duration": 120,
    "start_time": "2025-06-25T10:04:38.985Z"
   },
   {
    "duration": 16,
    "start_time": "2025-06-25T10:04:39.107Z"
   },
   {
    "duration": 39,
    "start_time": "2025-06-25T10:04:39.125Z"
   },
   {
    "duration": 21,
    "start_time": "2025-06-25T10:04:39.166Z"
   },
   {
    "duration": 17,
    "start_time": "2025-06-25T10:04:39.190Z"
   },
   {
    "duration": 187,
    "start_time": "2025-06-25T10:04:39.209Z"
   },
   {
    "duration": 128,
    "start_time": "2025-06-25T10:04:39.398Z"
   },
   {
    "duration": 241,
    "start_time": "2025-06-25T10:04:39.527Z"
   },
   {
    "duration": 231,
    "start_time": "2025-06-25T10:04:39.769Z"
   },
   {
    "duration": 254,
    "start_time": "2025-06-25T10:04:40.002Z"
   },
   {
    "duration": 224,
    "start_time": "2025-06-25T10:04:40.259Z"
   },
   {
    "duration": 229,
    "start_time": "2025-06-25T10:04:40.487Z"
   },
   {
    "duration": 195,
    "start_time": "2025-06-25T10:04:40.718Z"
   },
   {
    "duration": 229,
    "start_time": "2025-06-25T10:04:40.915Z"
   },
   {
    "duration": 219,
    "start_time": "2025-06-25T10:04:41.145Z"
   },
   {
    "duration": 200,
    "start_time": "2025-06-25T10:04:41.366Z"
   },
   {
    "duration": 224,
    "start_time": "2025-06-25T10:04:41.571Z"
   },
   {
    "duration": 156,
    "start_time": "2025-06-25T10:04:41.797Z"
   },
   {
    "duration": 337,
    "start_time": "2025-06-25T10:04:41.955Z"
   },
   {
    "duration": 139,
    "start_time": "2025-06-25T10:04:42.294Z"
   },
   {
    "duration": 187,
    "start_time": "2025-06-25T10:04:42.435Z"
   },
   {
    "duration": 192,
    "start_time": "2025-06-25T10:04:42.624Z"
   },
   {
    "duration": 11,
    "start_time": "2025-06-25T10:04:42.822Z"
   },
   {
    "duration": 62,
    "start_time": "2025-06-25T10:04:42.836Z"
   },
   {
    "duration": 2290,
    "start_time": "2025-06-25T10:04:42.901Z"
   },
   {
    "duration": 4,
    "start_time": "2025-06-25T10:04:45.193Z"
   },
   {
    "duration": 46,
    "start_time": "2025-06-25T10:04:45.199Z"
   },
   {
    "duration": 51,
    "start_time": "2025-06-25T10:04:45.247Z"
   },
   {
    "duration": 30339,
    "start_time": "2025-06-25T10:04:45.300Z"
   },
   {
    "duration": 14,
    "start_time": "2025-06-25T10:07:51.934Z"
   },
   {
    "duration": 1399,
    "start_time": "2025-06-25T10:07:55.256Z"
   },
   {
    "duration": 5,
    "start_time": "2025-06-25T10:08:09.384Z"
   },
   {
    "duration": 1228,
    "start_time": "2025-06-25T10:08:16.991Z"
   },
   {
    "duration": 13,
    "start_time": "2025-06-25T10:08:50.761Z"
   },
   {
    "duration": 40197,
    "start_time": "2025-06-25T10:08:52.923Z"
   },
   {
    "duration": 19,
    "start_time": "2025-06-25T10:14:36.529Z"
   },
   {
    "duration": 21,
    "start_time": "2025-06-25T10:14:42.552Z"
   },
   {
    "duration": 14,
    "start_time": "2025-06-25T10:14:55.698Z"
   },
   {
    "duration": 4,
    "start_time": "2025-06-25T10:16:58.343Z"
   },
   {
    "duration": 15,
    "start_time": "2025-06-25T10:17:07.331Z"
   },
   {
    "duration": 30284,
    "start_time": "2025-06-25T10:17:09.024Z"
   },
   {
    "duration": 3852,
    "start_time": "2025-06-25T13:22:40.189Z"
   },
   {
    "duration": 1822,
    "start_time": "2025-06-25T13:22:44.045Z"
   },
   {
    "duration": 3,
    "start_time": "2025-06-25T13:22:45.869Z"
   },
   {
    "duration": 120,
    "start_time": "2025-06-25T13:22:45.874Z"
   },
   {
    "duration": 84,
    "start_time": "2025-06-25T13:22:45.996Z"
   },
   {
    "duration": 22,
    "start_time": "2025-06-25T13:22:46.082Z"
   },
   {
    "duration": 13,
    "start_time": "2025-06-25T13:22:46.105Z"
   },
   {
    "duration": 30,
    "start_time": "2025-06-25T13:22:46.119Z"
   },
   {
    "duration": 18,
    "start_time": "2025-06-25T13:22:46.151Z"
   },
   {
    "duration": 34,
    "start_time": "2025-06-25T13:22:46.171Z"
   },
   {
    "duration": 48,
    "start_time": "2025-06-25T13:22:46.207Z"
   },
   {
    "duration": 8,
    "start_time": "2025-06-25T13:22:46.257Z"
   },
   {
    "duration": 26,
    "start_time": "2025-06-25T13:22:46.267Z"
   },
   {
    "duration": 13,
    "start_time": "2025-06-25T13:22:46.338Z"
   },
   {
    "duration": 11,
    "start_time": "2025-06-25T13:22:46.353Z"
   },
   {
    "duration": 21,
    "start_time": "2025-06-25T13:22:46.367Z"
   },
   {
    "duration": 5,
    "start_time": "2025-06-25T13:22:46.390Z"
   },
   {
    "duration": 16,
    "start_time": "2025-06-25T13:22:46.397Z"
   },
   {
    "duration": 14,
    "start_time": "2025-06-25T13:22:46.440Z"
   },
   {
    "duration": 44,
    "start_time": "2025-06-25T13:22:46.456Z"
   },
   {
    "duration": 38,
    "start_time": "2025-06-25T13:22:46.502Z"
   },
   {
    "duration": 29,
    "start_time": "2025-06-25T13:22:46.541Z"
   },
   {
    "duration": 162,
    "start_time": "2025-06-25T13:22:46.572Z"
   },
   {
    "duration": 129,
    "start_time": "2025-06-25T13:22:46.739Z"
   },
   {
    "duration": 219,
    "start_time": "2025-06-25T13:22:46.869Z"
   },
   {
    "duration": 221,
    "start_time": "2025-06-25T13:22:47.089Z"
   },
   {
    "duration": 248,
    "start_time": "2025-06-25T13:22:47.312Z"
   },
   {
    "duration": 238,
    "start_time": "2025-06-25T13:22:47.563Z"
   },
   {
    "duration": 211,
    "start_time": "2025-06-25T13:22:47.803Z"
   },
   {
    "duration": 182,
    "start_time": "2025-06-25T13:22:48.016Z"
   },
   {
    "duration": 217,
    "start_time": "2025-06-25T13:22:48.200Z"
   },
   {
    "duration": 228,
    "start_time": "2025-06-25T13:22:48.419Z"
   },
   {
    "duration": 203,
    "start_time": "2025-06-25T13:22:48.649Z"
   },
   {
    "duration": 227,
    "start_time": "2025-06-25T13:22:48.854Z"
   },
   {
    "duration": 156,
    "start_time": "2025-06-25T13:22:49.083Z"
   },
   {
    "duration": 321,
    "start_time": "2025-06-25T13:22:49.241Z"
   },
   {
    "duration": 139,
    "start_time": "2025-06-25T13:22:49.564Z"
   },
   {
    "duration": 185,
    "start_time": "2025-06-25T13:22:49.705Z"
   },
   {
    "duration": 209,
    "start_time": "2025-06-25T13:22:49.892Z"
   },
   {
    "duration": 10,
    "start_time": "2025-06-25T13:22:50.103Z"
   },
   {
    "duration": 48,
    "start_time": "2025-06-25T13:22:50.117Z"
   },
   {
    "duration": 2233,
    "start_time": "2025-06-25T13:22:50.167Z"
   },
   {
    "duration": 4,
    "start_time": "2025-06-25T13:22:52.402Z"
   },
   {
    "duration": 25,
    "start_time": "2025-06-25T13:22:52.408Z"
   },
   {
    "duration": 20608,
    "start_time": "2025-06-25T13:22:52.435Z"
   },
   {
    "duration": 129,
    "start_time": "2025-06-25T13:32:51.284Z"
   },
   {
    "duration": 4269,
    "start_time": "2025-06-25T13:33:16.273Z"
   },
   {
    "duration": 566,
    "start_time": "2025-06-25T13:33:27.881Z"
   },
   {
    "duration": 22064,
    "start_time": "2025-06-25T13:38:10.096Z"
   },
   {
    "duration": 41,
    "start_time": "2025-06-25T13:38:46.888Z"
   },
   {
    "duration": 22,
    "start_time": "2025-06-25T13:38:58.170Z"
   },
   {
    "duration": 17,
    "start_time": "2025-06-25T13:39:56.167Z"
   },
   {
    "duration": 15,
    "start_time": "2025-06-25T13:40:13.963Z"
   },
   {
    "duration": 22048,
    "start_time": "2025-06-25T13:41:20.920Z"
   },
   {
    "duration": 3,
    "start_time": "2025-06-25T13:41:59.383Z"
   },
   {
    "duration": 19,
    "start_time": "2025-06-25T13:42:13.571Z"
   },
   {
    "duration": 24,
    "start_time": "2025-06-25T13:46:49.888Z"
   },
   {
    "duration": 498,
    "start_time": "2025-06-25T13:47:14.869Z"
   },
   {
    "duration": 96,
    "start_time": "2025-06-25T13:52:15.875Z"
   },
   {
    "duration": 27,
    "start_time": "2025-06-25T13:52:34.561Z"
   },
   {
    "duration": 42,
    "start_time": "2025-06-25T13:53:03.420Z"
   },
   {
    "duration": 591,
    "start_time": "2025-06-25T13:53:55.885Z"
   },
   {
    "duration": 40,
    "start_time": "2025-06-25T13:55:59.636Z"
   },
   {
    "duration": 26,
    "start_time": "2025-06-25T13:58:12.477Z"
   },
   {
    "duration": 1214,
    "start_time": "2025-06-25T13:59:16.451Z"
   },
   {
    "duration": 41,
    "start_time": "2025-06-25T13:59:42.038Z"
   },
   {
    "duration": 156,
    "start_time": "2025-06-25T14:00:00.396Z"
   },
   {
    "duration": 157,
    "start_time": "2025-06-25T14:00:11.095Z"
   },
   {
    "duration": 44,
    "start_time": "2025-06-25T14:01:39.759Z"
   },
   {
    "duration": 290,
    "start_time": "2025-06-25T14:04:41.075Z"
   },
   {
    "duration": 287,
    "start_time": "2025-06-25T14:04:52.777Z"
   },
   {
    "duration": 296,
    "start_time": "2025-06-25T14:04:57.119Z"
   },
   {
    "duration": 42,
    "start_time": "2025-06-25T14:06:52.794Z"
   },
   {
    "duration": 614,
    "start_time": "2025-06-25T14:08:52.907Z"
   },
   {
    "duration": 24,
    "start_time": "2025-06-25T14:09:40.749Z"
   },
   {
    "duration": 15,
    "start_time": "2025-06-25T14:14:46.593Z"
   },
   {
    "duration": 7,
    "start_time": "2025-06-25T14:14:53.957Z"
   },
   {
    "duration": 21,
    "start_time": "2025-06-25T14:15:47.046Z"
   },
   {
    "duration": 7659,
    "start_time": "2025-06-25T14:16:54.457Z"
   },
   {
    "duration": 2951,
    "start_time": "2025-06-25T14:17:09.680Z"
   },
   {
    "duration": 2871,
    "start_time": "2025-06-25T14:17:12.633Z"
   },
   {
    "duration": 3506,
    "start_time": "2025-06-25T14:17:15.506Z"
   },
   {
    "duration": 1960,
    "start_time": "2025-06-25T14:17:19.014Z"
   },
   {
    "duration": 5,
    "start_time": "2025-06-25T14:17:20.978Z"
   },
   {
    "duration": 111,
    "start_time": "2025-06-25T14:17:20.986Z"
   },
   {
    "duration": 15,
    "start_time": "2025-06-25T14:17:21.099Z"
   },
   {
    "duration": 27,
    "start_time": "2025-06-25T14:17:21.116Z"
   },
   {
    "duration": 47,
    "start_time": "2025-06-25T14:17:21.147Z"
   },
   {
    "duration": 51,
    "start_time": "2025-06-25T14:17:21.195Z"
   },
   {
    "duration": 31,
    "start_time": "2025-06-25T14:17:21.248Z"
   },
   {
    "duration": 47,
    "start_time": "2025-06-25T14:17:21.281Z"
   },
   {
    "duration": 60,
    "start_time": "2025-06-25T14:17:21.330Z"
   },
   {
    "duration": 8,
    "start_time": "2025-06-25T14:17:21.393Z"
   },
   {
    "duration": 46,
    "start_time": "2025-06-25T14:17:21.402Z"
   },
   {
    "duration": 29,
    "start_time": "2025-06-25T14:17:21.450Z"
   },
   {
    "duration": 5,
    "start_time": "2025-06-25T14:17:21.481Z"
   },
   {
    "duration": 34,
    "start_time": "2025-06-25T14:17:21.488Z"
   },
   {
    "duration": 25,
    "start_time": "2025-06-25T14:17:21.524Z"
   },
   {
    "duration": 33,
    "start_time": "2025-06-25T14:17:21.551Z"
   },
   {
    "duration": 22,
    "start_time": "2025-06-25T14:17:21.586Z"
   },
   {
    "duration": 58,
    "start_time": "2025-06-25T14:17:21.610Z"
   },
   {
    "duration": 15,
    "start_time": "2025-06-25T14:17:21.669Z"
   },
   {
    "duration": 35,
    "start_time": "2025-06-25T14:17:21.686Z"
   },
   {
    "duration": 220,
    "start_time": "2025-06-25T14:17:21.722Z"
   },
   {
    "duration": 141,
    "start_time": "2025-06-25T14:17:21.944Z"
   },
   {
    "duration": 141,
    "start_time": "2025-06-25T14:17:22.086Z"
   },
   {
    "duration": 246,
    "start_time": "2025-06-25T14:17:22.229Z"
   },
   {
    "duration": 244,
    "start_time": "2025-06-25T14:17:22.477Z"
   },
   {
    "duration": 354,
    "start_time": "2025-06-25T14:17:22.723Z"
   },
   {
    "duration": 227,
    "start_time": "2025-06-25T14:17:23.078Z"
   },
   {
    "duration": 207,
    "start_time": "2025-06-25T14:17:23.307Z"
   },
   {
    "duration": 286,
    "start_time": "2025-06-25T14:17:23.517Z"
   },
   {
    "duration": 241,
    "start_time": "2025-06-25T14:17:23.805Z"
   },
   {
    "duration": 231,
    "start_time": "2025-06-25T14:17:24.047Z"
   },
   {
    "duration": 219,
    "start_time": "2025-06-25T14:17:24.280Z"
   },
   {
    "duration": 170,
    "start_time": "2025-06-25T14:17:24.501Z"
   },
   {
    "duration": 215,
    "start_time": "2025-06-25T14:17:24.672Z"
   },
   {
    "duration": 163,
    "start_time": "2025-06-25T14:17:24.889Z"
   },
   {
    "duration": 215,
    "start_time": "2025-06-25T14:17:25.058Z"
   },
   {
    "duration": 341,
    "start_time": "2025-06-25T14:17:25.279Z"
   },
   {
    "duration": 23,
    "start_time": "2025-06-25T14:17:25.621Z"
   },
   {
    "duration": 40,
    "start_time": "2025-06-25T14:17:25.646Z"
   },
   {
    "duration": 2448,
    "start_time": "2025-06-25T14:17:25.688Z"
   },
   {
    "duration": 7,
    "start_time": "2025-06-25T14:17:28.137Z"
   },
   {
    "duration": 174,
    "start_time": "2025-06-25T14:17:28.146Z"
   },
   {
    "duration": 0,
    "start_time": "2025-06-25T14:17:28.322Z"
   },
   {
    "duration": 0,
    "start_time": "2025-06-25T14:17:28.324Z"
   },
   {
    "duration": 0,
    "start_time": "2025-06-25T14:17:28.325Z"
   },
   {
    "duration": 41,
    "start_time": "2025-06-25T14:18:42.145Z"
   },
   {
    "duration": 15,
    "start_time": "2025-06-25T14:18:48.695Z"
   },
   {
    "duration": 18077,
    "start_time": "2025-06-25T14:18:54.029Z"
   },
   {
    "duration": 4,
    "start_time": "2025-06-25T14:19:12.108Z"
   },
   {
    "duration": 40,
    "start_time": "2025-06-25T14:19:12.114Z"
   },
   {
    "duration": 5,
    "start_time": "2025-06-25T14:20:00.980Z"
   },
   {
    "duration": 9396,
    "start_time": "2025-06-25T14:20:53.515Z"
   },
   {
    "duration": 3155,
    "start_time": "2025-06-25T14:21:21.581Z"
   },
   {
    "duration": 2974,
    "start_time": "2025-06-25T14:21:24.738Z"
   },
   {
    "duration": 3691,
    "start_time": "2025-06-25T14:21:27.715Z"
   },
   {
    "duration": 2999,
    "start_time": "2025-06-25T14:21:31.408Z"
   },
   {
    "duration": 2408,
    "start_time": "2025-06-25T14:21:34.410Z"
   },
   {
    "duration": 3,
    "start_time": "2025-06-25T14:21:36.820Z"
   },
   {
    "duration": 104,
    "start_time": "2025-06-25T14:21:36.824Z"
   },
   {
    "duration": 27,
    "start_time": "2025-06-25T14:21:36.930Z"
   },
   {
    "duration": 24,
    "start_time": "2025-06-25T14:21:36.959Z"
   },
   {
    "duration": 17,
    "start_time": "2025-06-25T14:21:36.985Z"
   },
   {
    "duration": 57,
    "start_time": "2025-06-25T14:21:37.004Z"
   },
   {
    "duration": 52,
    "start_time": "2025-06-25T14:21:37.063Z"
   },
   {
    "duration": 63,
    "start_time": "2025-06-25T14:21:37.117Z"
   },
   {
    "duration": 27,
    "start_time": "2025-06-25T14:21:37.183Z"
   },
   {
    "duration": 50,
    "start_time": "2025-06-25T14:21:37.211Z"
   },
   {
    "duration": 55,
    "start_time": "2025-06-25T14:21:37.262Z"
   },
   {
    "duration": 40,
    "start_time": "2025-06-25T14:21:37.318Z"
   },
   {
    "duration": 28,
    "start_time": "2025-06-25T14:21:37.360Z"
   },
   {
    "duration": 39,
    "start_time": "2025-06-25T14:21:37.390Z"
   },
   {
    "duration": 27,
    "start_time": "2025-06-25T14:21:37.431Z"
   },
   {
    "duration": 27,
    "start_time": "2025-06-25T14:21:37.460Z"
   },
   {
    "duration": 39,
    "start_time": "2025-06-25T14:21:37.489Z"
   },
   {
    "duration": 100,
    "start_time": "2025-06-25T14:21:37.531Z"
   },
   {
    "duration": 21,
    "start_time": "2025-06-25T14:21:37.632Z"
   },
   {
    "duration": 27,
    "start_time": "2025-06-25T14:21:37.655Z"
   },
   {
    "duration": 290,
    "start_time": "2025-06-25T14:21:37.684Z"
   },
   {
    "duration": 223,
    "start_time": "2025-06-25T14:21:37.975Z"
   },
   {
    "duration": 206,
    "start_time": "2025-06-25T14:21:38.200Z"
   },
   {
    "duration": 357,
    "start_time": "2025-06-25T14:21:38.439Z"
   },
   {
    "duration": 485,
    "start_time": "2025-06-25T14:21:38.798Z"
   },
   {
    "duration": 314,
    "start_time": "2025-06-25T14:21:39.285Z"
   },
   {
    "duration": 377,
    "start_time": "2025-06-25T14:21:39.601Z"
   },
   {
    "duration": 268,
    "start_time": "2025-06-25T14:21:39.980Z"
   },
   {
    "duration": 328,
    "start_time": "2025-06-25T14:21:40.250Z"
   },
   {
    "duration": 314,
    "start_time": "2025-06-25T14:21:40.580Z"
   },
   {
    "duration": 351,
    "start_time": "2025-06-25T14:21:40.896Z"
   },
   {
    "duration": 351,
    "start_time": "2025-06-25T14:21:41.255Z"
   },
   {
    "duration": 276,
    "start_time": "2025-06-25T14:21:41.609Z"
   },
   {
    "duration": 336,
    "start_time": "2025-06-25T14:21:41.888Z"
   },
   {
    "duration": 260,
    "start_time": "2025-06-25T14:21:42.226Z"
   },
   {
    "duration": 341,
    "start_time": "2025-06-25T14:21:42.490Z"
   },
   {
    "duration": 485,
    "start_time": "2025-06-25T14:21:42.842Z"
   },
   {
    "duration": 30,
    "start_time": "2025-06-25T14:21:43.329Z"
   },
   {
    "duration": 38,
    "start_time": "2025-06-25T14:21:43.362Z"
   },
   {
    "duration": 1963,
    "start_time": "2025-06-25T14:21:43.403Z"
   },
   {
    "duration": 5,
    "start_time": "2025-06-25T14:21:45.369Z"
   },
   {
    "duration": 31,
    "start_time": "2025-06-25T14:21:45.376Z"
   },
   {
    "duration": 23456,
    "start_time": "2025-06-25T14:21:45.409Z"
   },
   {
    "duration": 4,
    "start_time": "2025-06-25T14:22:08.867Z"
   },
   {
    "duration": 6,
    "start_time": "2025-06-25T14:22:08.873Z"
   },
   {
    "duration": 163,
    "start_time": "2025-06-25T14:23:55.759Z"
   },
   {
    "duration": 38,
    "start_time": "2025-06-25T14:24:04.750Z"
   },
   {
    "duration": 29,
    "start_time": "2025-06-25T14:24:20.154Z"
   },
   {
    "duration": 35,
    "start_time": "2025-06-25T14:24:54.596Z"
   },
   {
    "duration": 45,
    "start_time": "2025-06-25T14:25:03.911Z"
   },
   {
    "duration": 47,
    "start_time": "2025-06-25T14:25:38.311Z"
   },
   {
    "duration": 63,
    "start_time": "2025-06-25T14:25:42.958Z"
   },
   {
    "duration": 54,
    "start_time": "2025-06-25T14:26:26.391Z"
   },
   {
    "duration": 57,
    "start_time": "2025-06-25T14:26:33.571Z"
   },
   {
    "duration": 1369,
    "start_time": "2025-06-25T14:26:43.627Z"
   },
   {
    "duration": 67,
    "start_time": "2025-06-25T14:27:00.235Z"
   },
   {
    "duration": 1352,
    "start_time": "2025-06-25T14:27:03.866Z"
   },
   {
    "duration": 1636,
    "start_time": "2025-06-25T14:27:07.465Z"
   },
   {
    "duration": 1271,
    "start_time": "2025-06-25T14:27:14.536Z"
   },
   {
    "duration": 64,
    "start_time": "2025-06-25T14:30:42.427Z"
   },
   {
    "duration": 54,
    "start_time": "2025-06-25T14:30:54.763Z"
   },
   {
    "duration": 1203,
    "start_time": "2025-06-25T14:31:04.277Z"
   },
   {
    "duration": 3427,
    "start_time": "2025-06-26T06:46:07.539Z"
   },
   {
    "duration": 3880,
    "start_time": "2025-06-26T06:46:10.969Z"
   },
   {
    "duration": 7371,
    "start_time": "2025-06-26T06:46:14.851Z"
   },
   {
    "duration": 8830,
    "start_time": "2025-06-26T06:46:22.225Z"
   },
   {
    "duration": 2501,
    "start_time": "2025-06-26T06:46:31.057Z"
   },
   {
    "duration": 3,
    "start_time": "2025-06-26T06:46:33.560Z"
   },
   {
    "duration": 97,
    "start_time": "2025-06-26T06:46:33.565Z"
   },
   {
    "duration": 18,
    "start_time": "2025-06-26T06:46:33.664Z"
   },
   {
    "duration": 99,
    "start_time": "2025-06-26T06:46:33.684Z"
   },
   {
    "duration": 23,
    "start_time": "2025-06-26T06:46:33.787Z"
   },
   {
    "duration": 12,
    "start_time": "2025-06-26T06:46:33.812Z"
   },
   {
    "duration": 24,
    "start_time": "2025-06-26T06:46:33.826Z"
   },
   {
    "duration": 41,
    "start_time": "2025-06-26T06:46:33.852Z"
   },
   {
    "duration": 24,
    "start_time": "2025-06-26T06:46:33.894Z"
   },
   {
    "duration": 24,
    "start_time": "2025-06-26T06:46:33.919Z"
   },
   {
    "duration": 22,
    "start_time": "2025-06-26T06:46:33.945Z"
   },
   {
    "duration": 12,
    "start_time": "2025-06-26T06:46:33.969Z"
   },
   {
    "duration": 8,
    "start_time": "2025-06-26T06:46:33.983Z"
   },
   {
    "duration": 49,
    "start_time": "2025-06-26T06:46:33.992Z"
   },
   {
    "duration": 5,
    "start_time": "2025-06-26T06:46:34.043Z"
   },
   {
    "duration": 22,
    "start_time": "2025-06-26T06:46:34.050Z"
   },
   {
    "duration": 16,
    "start_time": "2025-06-26T06:46:34.074Z"
   },
   {
    "duration": 30,
    "start_time": "2025-06-26T06:46:34.092Z"
   },
   {
    "duration": 29,
    "start_time": "2025-06-26T06:46:34.124Z"
   },
   {
    "duration": 15,
    "start_time": "2025-06-26T06:46:34.155Z"
   },
   {
    "duration": 330,
    "start_time": "2025-06-26T06:46:34.172Z"
   },
   {
    "duration": 245,
    "start_time": "2025-06-26T06:46:34.505Z"
   },
   {
    "duration": 222,
    "start_time": "2025-06-26T06:46:34.754Z"
   },
   {
    "duration": 310,
    "start_time": "2025-06-26T06:46:34.977Z"
   },
   {
    "duration": 466,
    "start_time": "2025-06-26T06:46:35.289Z"
   },
   {
    "duration": 290,
    "start_time": "2025-06-26T06:46:35.757Z"
   },
   {
    "duration": 298,
    "start_time": "2025-06-26T06:46:36.049Z"
   },
   {
    "duration": 258,
    "start_time": "2025-06-26T06:46:36.349Z"
   },
   {
    "duration": 335,
    "start_time": "2025-06-26T06:46:36.608Z"
   },
   {
    "duration": 297,
    "start_time": "2025-06-26T06:46:36.945Z"
   },
   {
    "duration": 280,
    "start_time": "2025-06-26T06:46:37.244Z"
   },
   {
    "duration": 339,
    "start_time": "2025-06-26T06:46:37.526Z"
   },
   {
    "duration": 224,
    "start_time": "2025-06-26T06:46:37.867Z"
   },
   {
    "duration": 339,
    "start_time": "2025-06-26T06:46:38.092Z"
   },
   {
    "duration": 240,
    "start_time": "2025-06-26T06:46:38.432Z"
   },
   {
    "duration": 268,
    "start_time": "2025-06-26T06:46:38.674Z"
   },
   {
    "duration": 450,
    "start_time": "2025-06-26T06:46:38.943Z"
   },
   {
    "duration": 13,
    "start_time": "2025-06-26T06:46:39.395Z"
   },
   {
    "duration": 68,
    "start_time": "2025-06-26T06:46:39.410Z"
   },
   {
    "duration": 1772,
    "start_time": "2025-06-26T06:46:39.480Z"
   },
   {
    "duration": 4,
    "start_time": "2025-06-26T06:46:41.254Z"
   },
   {
    "duration": 14527,
    "start_time": "2025-06-26T06:46:41.275Z"
   },
   {
    "duration": 4,
    "start_time": "2025-06-26T06:46:55.803Z"
   },
   {
    "duration": 21,
    "start_time": "2025-06-26T06:46:55.808Z"
   },
   {
    "duration": 1156,
    "start_time": "2025-06-26T06:46:55.831Z"
   },
   {
    "duration": 15,
    "start_time": "2025-06-26T06:46:56.988Z"
   },
   {
    "duration": 14,
    "start_time": "2025-06-26T06:47:14.000Z"
   },
   {
    "duration": 19313,
    "start_time": "2025-06-26T06:47:16.096Z"
   },
   {
    "duration": 0,
    "start_time": "2025-06-26T06:47:35.412Z"
   },
   {
    "duration": 0,
    "start_time": "2025-06-26T06:47:35.413Z"
   },
   {
    "duration": 0,
    "start_time": "2025-06-26T06:47:35.415Z"
   },
   {
    "duration": 19,
    "start_time": "2025-06-26T06:50:20.606Z"
   },
   {
    "duration": 15,
    "start_time": "2025-06-26T06:51:16.780Z"
   },
   {
    "duration": 2567,
    "start_time": "2025-06-26T06:51:26.922Z"
   },
   {
    "duration": 2578,
    "start_time": "2025-06-26T06:51:29.492Z"
   },
   {
    "duration": 3199,
    "start_time": "2025-06-26T06:51:32.072Z"
   },
   {
    "duration": 2532,
    "start_time": "2025-06-26T06:51:35.273Z"
   },
   {
    "duration": 2192,
    "start_time": "2025-06-26T06:51:37.808Z"
   },
   {
    "duration": 4,
    "start_time": "2025-06-26T06:51:40.001Z"
   },
   {
    "duration": 104,
    "start_time": "2025-06-26T06:51:40.007Z"
   },
   {
    "duration": 17,
    "start_time": "2025-06-26T06:51:40.113Z"
   },
   {
    "duration": 7,
    "start_time": "2025-06-26T06:51:40.133Z"
   },
   {
    "duration": 9,
    "start_time": "2025-06-26T06:51:40.142Z"
   },
   {
    "duration": 8,
    "start_time": "2025-06-26T06:51:40.153Z"
   },
   {
    "duration": 16,
    "start_time": "2025-06-26T06:51:40.163Z"
   },
   {
    "duration": 59,
    "start_time": "2025-06-26T06:51:40.182Z"
   },
   {
    "duration": 21,
    "start_time": "2025-06-26T06:51:40.245Z"
   },
   {
    "duration": 7,
    "start_time": "2025-06-26T06:51:40.268Z"
   },
   {
    "duration": 64,
    "start_time": "2025-06-26T06:51:40.276Z"
   },
   {
    "duration": 12,
    "start_time": "2025-06-26T06:51:40.342Z"
   },
   {
    "duration": 7,
    "start_time": "2025-06-26T06:51:40.356Z"
   },
   {
    "duration": 12,
    "start_time": "2025-06-26T06:51:40.364Z"
   },
   {
    "duration": 5,
    "start_time": "2025-06-26T06:51:40.378Z"
   },
   {
    "duration": 11,
    "start_time": "2025-06-26T06:51:40.385Z"
   },
   {
    "duration": 47,
    "start_time": "2025-06-26T06:51:40.398Z"
   },
   {
    "duration": 34,
    "start_time": "2025-06-26T06:51:40.447Z"
   },
   {
    "duration": 15,
    "start_time": "2025-06-26T06:51:40.483Z"
   },
   {
    "duration": 50,
    "start_time": "2025-06-26T06:51:40.500Z"
   },
   {
    "duration": 251,
    "start_time": "2025-06-26T06:51:40.552Z"
   },
   {
    "duration": 257,
    "start_time": "2025-06-26T06:51:40.806Z"
   },
   {
    "duration": 208,
    "start_time": "2025-06-26T06:51:41.065Z"
   },
   {
    "duration": 279,
    "start_time": "2025-06-26T06:51:41.274Z"
   },
   {
    "duration": 404,
    "start_time": "2025-06-26T06:51:41.556Z"
   },
   {
    "duration": 278,
    "start_time": "2025-06-26T06:51:41.962Z"
   },
   {
    "duration": 291,
    "start_time": "2025-06-26T06:51:42.242Z"
   },
   {
    "duration": 266,
    "start_time": "2025-06-26T06:51:42.538Z"
   },
   {
    "duration": 321,
    "start_time": "2025-06-26T06:51:42.806Z"
   },
   {
    "duration": 303,
    "start_time": "2025-06-26T06:51:43.129Z"
   },
   {
    "duration": 288,
    "start_time": "2025-06-26T06:51:43.439Z"
   },
   {
    "duration": 328,
    "start_time": "2025-06-26T06:51:43.729Z"
   },
   {
    "duration": 231,
    "start_time": "2025-06-26T06:51:44.061Z"
   },
   {
    "duration": 310,
    "start_time": "2025-06-26T06:51:44.293Z"
   },
   {
    "duration": 252,
    "start_time": "2025-06-26T06:51:44.605Z"
   },
   {
    "duration": 259,
    "start_time": "2025-06-26T06:51:44.862Z"
   },
   {
    "duration": 392,
    "start_time": "2025-06-26T06:51:45.123Z"
   },
   {
    "duration": 23,
    "start_time": "2025-06-26T06:51:45.516Z"
   },
   {
    "duration": 55,
    "start_time": "2025-06-26T06:51:45.541Z"
   },
   {
    "duration": 1587,
    "start_time": "2025-06-26T06:51:45.597Z"
   },
   {
    "duration": 5,
    "start_time": "2025-06-26T06:51:47.185Z"
   },
   {
    "duration": 144,
    "start_time": "2025-06-26T06:51:47.191Z"
   },
   {
    "duration": 0,
    "start_time": "2025-06-26T06:51:47.337Z"
   },
   {
    "duration": 0,
    "start_time": "2025-06-26T06:51:47.338Z"
   },
   {
    "duration": 0,
    "start_time": "2025-06-26T06:51:47.339Z"
   },
   {
    "duration": 0,
    "start_time": "2025-06-26T06:51:47.340Z"
   },
   {
    "duration": 13,
    "start_time": "2025-06-26T06:52:07.168Z"
   },
   {
    "duration": 14078,
    "start_time": "2025-06-26T06:52:13.806Z"
   },
   {
    "duration": 3,
    "start_time": "2025-06-26T06:52:27.888Z"
   },
   {
    "duration": 16,
    "start_time": "2025-06-26T06:52:27.893Z"
   },
   {
    "duration": 56,
    "start_time": "2025-06-26T06:52:27.911Z"
   },
   {
    "duration": 16,
    "start_time": "2025-06-26T06:57:32.626Z"
   },
   {
    "duration": 16590,
    "start_time": "2025-06-26T06:59:08.571Z"
   },
   {
    "duration": 21,
    "start_time": "2025-06-26T06:59:25.164Z"
   },
   {
    "duration": 4,
    "start_time": "2025-06-26T06:59:44.221Z"
   },
   {
    "duration": 48,
    "start_time": "2025-06-26T06:59:44.387Z"
   },
   {
    "duration": 4,
    "start_time": "2025-06-26T07:04:08.459Z"
   },
   {
    "duration": 16,
    "start_time": "2025-06-26T07:04:14.515Z"
   },
   {
    "duration": 2684,
    "start_time": "2025-06-26T07:05:54.702Z"
   },
   {
    "duration": 2939,
    "start_time": "2025-06-26T07:05:57.388Z"
   },
   {
    "duration": 3369,
    "start_time": "2025-06-26T07:06:00.329Z"
   },
   {
    "duration": 2612,
    "start_time": "2025-06-26T07:06:03.702Z"
   },
   {
    "duration": 2381,
    "start_time": "2025-06-26T07:06:06.316Z"
   },
   {
    "duration": 3,
    "start_time": "2025-06-26T07:06:08.699Z"
   },
   {
    "duration": 102,
    "start_time": "2025-06-26T07:06:08.703Z"
   },
   {
    "duration": 49,
    "start_time": "2025-06-26T07:06:08.807Z"
   },
   {
    "duration": 37,
    "start_time": "2025-06-26T07:06:08.858Z"
   },
   {
    "duration": 23,
    "start_time": "2025-06-26T07:06:08.899Z"
   },
   {
    "duration": 10,
    "start_time": "2025-06-26T07:06:08.924Z"
   },
   {
    "duration": 14,
    "start_time": "2025-06-26T07:06:08.936Z"
   },
   {
    "duration": 33,
    "start_time": "2025-06-26T07:06:08.952Z"
   },
   {
    "duration": 63,
    "start_time": "2025-06-26T07:06:08.987Z"
   },
   {
    "duration": 8,
    "start_time": "2025-06-26T07:06:09.052Z"
   },
   {
    "duration": 24,
    "start_time": "2025-06-26T07:06:09.062Z"
   },
   {
    "duration": 55,
    "start_time": "2025-06-26T07:06:09.089Z"
   },
   {
    "duration": 7,
    "start_time": "2025-06-26T07:06:09.147Z"
   },
   {
    "duration": 32,
    "start_time": "2025-06-26T07:06:09.156Z"
   },
   {
    "duration": 15,
    "start_time": "2025-06-26T07:06:09.192Z"
   },
   {
    "duration": 14,
    "start_time": "2025-06-26T07:06:09.209Z"
   },
   {
    "duration": 28,
    "start_time": "2025-06-26T07:06:09.226Z"
   },
   {
    "duration": 64,
    "start_time": "2025-06-26T07:06:09.257Z"
   },
   {
    "duration": 35,
    "start_time": "2025-06-26T07:06:09.324Z"
   },
   {
    "duration": 21,
    "start_time": "2025-06-26T07:06:09.362Z"
   },
   {
    "duration": 338,
    "start_time": "2025-06-26T07:06:09.385Z"
   },
   {
    "duration": 264,
    "start_time": "2025-06-26T07:06:09.724Z"
   },
   {
    "duration": 246,
    "start_time": "2025-06-26T07:06:09.993Z"
   },
   {
    "duration": 364,
    "start_time": "2025-06-26T07:06:10.241Z"
   },
   {
    "duration": 495,
    "start_time": "2025-06-26T07:06:10.607Z"
   },
   {
    "duration": 376,
    "start_time": "2025-06-26T07:06:11.104Z"
   },
   {
    "duration": 334,
    "start_time": "2025-06-26T07:06:11.483Z"
   },
   {
    "duration": 298,
    "start_time": "2025-06-26T07:06:11.819Z"
   },
   {
    "duration": 323,
    "start_time": "2025-06-26T07:06:12.119Z"
   },
   {
    "duration": 321,
    "start_time": "2025-06-26T07:06:12.444Z"
   },
   {
    "duration": 280,
    "start_time": "2025-06-26T07:06:12.766Z"
   },
   {
    "duration": 314,
    "start_time": "2025-06-26T07:06:13.049Z"
   },
   {
    "duration": 217,
    "start_time": "2025-06-26T07:06:13.365Z"
   },
   {
    "duration": 324,
    "start_time": "2025-06-26T07:06:13.584Z"
   },
   {
    "duration": 254,
    "start_time": "2025-06-26T07:06:13.910Z"
   },
   {
    "duration": 266,
    "start_time": "2025-06-26T07:06:14.166Z"
   },
   {
    "duration": 437,
    "start_time": "2025-06-26T07:06:14.439Z"
   },
   {
    "duration": 12,
    "start_time": "2025-06-26T07:06:14.878Z"
   },
   {
    "duration": 77,
    "start_time": "2025-06-26T07:06:14.892Z"
   },
   {
    "duration": 1805,
    "start_time": "2025-06-26T07:06:14.971Z"
   },
   {
    "duration": 5,
    "start_time": "2025-06-26T07:06:16.777Z"
   },
   {
    "duration": 24,
    "start_time": "2025-06-26T07:06:16.784Z"
   },
   {
    "duration": 17685,
    "start_time": "2025-06-26T07:06:16.810Z"
   },
   {
    "duration": 4,
    "start_time": "2025-06-26T07:06:34.497Z"
   },
   {
    "duration": 55,
    "start_time": "2025-06-26T07:06:34.503Z"
   },
   {
    "duration": 151166,
    "start_time": "2025-06-26T07:06:34.560Z"
   },
   {
    "duration": 0,
    "start_time": "2025-06-26T07:09:05.728Z"
   },
   {
    "duration": 2711,
    "start_time": "2025-06-26T07:17:56.701Z"
   },
   {
    "duration": 2654,
    "start_time": "2025-06-26T07:17:59.414Z"
   },
   {
    "duration": 3150,
    "start_time": "2025-06-26T07:18:02.070Z"
   },
   {
    "duration": 2616,
    "start_time": "2025-06-26T07:18:05.224Z"
   },
   {
    "duration": 2186,
    "start_time": "2025-06-26T07:18:07.842Z"
   },
   {
    "duration": 10,
    "start_time": "2025-06-26T07:18:10.029Z"
   },
   {
    "duration": 90,
    "start_time": "2025-06-26T07:18:10.041Z"
   },
   {
    "duration": 16,
    "start_time": "2025-06-26T07:18:10.133Z"
   },
   {
    "duration": 8,
    "start_time": "2025-06-26T07:18:10.151Z"
   },
   {
    "duration": 27,
    "start_time": "2025-06-26T07:18:10.161Z"
   },
   {
    "duration": 12,
    "start_time": "2025-06-26T07:18:10.190Z"
   },
   {
    "duration": 22,
    "start_time": "2025-06-26T07:18:10.204Z"
   },
   {
    "duration": 32,
    "start_time": "2025-06-26T07:18:10.228Z"
   },
   {
    "duration": 29,
    "start_time": "2025-06-26T07:18:10.262Z"
   },
   {
    "duration": 50,
    "start_time": "2025-06-26T07:18:10.293Z"
   },
   {
    "duration": 23,
    "start_time": "2025-06-26T07:18:10.345Z"
   },
   {
    "duration": 11,
    "start_time": "2025-06-26T07:18:10.370Z"
   },
   {
    "duration": 7,
    "start_time": "2025-06-26T07:18:10.383Z"
   },
   {
    "duration": 49,
    "start_time": "2025-06-26T07:18:10.392Z"
   },
   {
    "duration": 5,
    "start_time": "2025-06-26T07:18:10.442Z"
   },
   {
    "duration": 19,
    "start_time": "2025-06-26T07:18:10.449Z"
   },
   {
    "duration": 16,
    "start_time": "2025-06-26T07:18:10.470Z"
   },
   {
    "duration": 59,
    "start_time": "2025-06-26T07:18:10.488Z"
   },
   {
    "duration": 16,
    "start_time": "2025-06-26T07:18:10.549Z"
   },
   {
    "duration": 15,
    "start_time": "2025-06-26T07:18:10.567Z"
   },
   {
    "duration": 323,
    "start_time": "2025-06-26T07:18:10.584Z"
   },
   {
    "duration": 260,
    "start_time": "2025-06-26T07:18:10.909Z"
   },
   {
    "duration": 205,
    "start_time": "2025-06-26T07:18:11.175Z"
   },
   {
    "duration": 325,
    "start_time": "2025-06-26T07:18:11.382Z"
   },
   {
    "duration": 441,
    "start_time": "2025-06-26T07:18:11.709Z"
   },
   {
    "duration": 301,
    "start_time": "2025-06-26T07:18:12.152Z"
   },
   {
    "duration": 305,
    "start_time": "2025-06-26T07:18:12.455Z"
   },
   {
    "duration": 254,
    "start_time": "2025-06-26T07:18:12.762Z"
   },
   {
    "duration": 322,
    "start_time": "2025-06-26T07:18:13.018Z"
   },
   {
    "duration": 312,
    "start_time": "2025-06-26T07:18:13.342Z"
   },
   {
    "duration": 326,
    "start_time": "2025-06-26T07:18:13.657Z"
   },
   {
    "duration": 306,
    "start_time": "2025-06-26T07:18:13.985Z"
   },
   {
    "duration": 206,
    "start_time": "2025-06-26T07:18:14.293Z"
   },
   {
    "duration": 318,
    "start_time": "2025-06-26T07:18:14.500Z"
   },
   {
    "duration": 290,
    "start_time": "2025-06-26T07:18:14.820Z"
   },
   {
    "duration": 294,
    "start_time": "2025-06-26T07:18:15.113Z"
   },
   {
    "duration": 430,
    "start_time": "2025-06-26T07:18:15.409Z"
   },
   {
    "duration": 12,
    "start_time": "2025-06-26T07:18:15.841Z"
   },
   {
    "duration": 88,
    "start_time": "2025-06-26T07:18:15.855Z"
   },
   {
    "duration": 1783,
    "start_time": "2025-06-26T07:18:15.945Z"
   },
   {
    "duration": 5,
    "start_time": "2025-06-26T07:18:17.729Z"
   },
   {
    "duration": 28,
    "start_time": "2025-06-26T07:18:17.735Z"
   },
   {
    "duration": 17215,
    "start_time": "2025-06-26T07:18:17.765Z"
   },
   {
    "duration": 4,
    "start_time": "2025-06-26T07:18:34.982Z"
   },
   {
    "duration": 21,
    "start_time": "2025-06-26T07:18:34.988Z"
   },
   {
    "duration": 156,
    "start_time": "2025-06-26T07:18:35.010Z"
   },
   {
    "duration": 0,
    "start_time": "2025-06-26T07:18:35.168Z"
   },
   {
    "duration": 167011,
    "start_time": "2025-06-26T07:21:14.334Z"
   },
   {
    "duration": 96,
    "start_time": "2025-06-26T07:24:01.347Z"
   },
   {
    "duration": 18,
    "start_time": "2025-06-26T07:24:18.123Z"
   },
   {
    "duration": 90,
    "start_time": "2025-06-26T07:24:25.488Z"
   },
   {
    "duration": 13,
    "start_time": "2025-06-26T07:24:29.128Z"
   },
   {
    "duration": 13,
    "start_time": "2025-06-26T07:25:26.347Z"
   },
   {
    "duration": 14,
    "start_time": "2025-06-26T07:25:31.712Z"
   },
   {
    "duration": 14,
    "start_time": "2025-06-26T07:25:35.150Z"
   },
   {
    "duration": 13,
    "start_time": "2025-06-26T07:26:05.666Z"
   },
   {
    "duration": 13,
    "start_time": "2025-06-26T07:26:19.295Z"
   },
   {
    "duration": 13,
    "start_time": "2025-06-26T07:26:35.002Z"
   },
   {
    "duration": 14,
    "start_time": "2025-06-26T07:27:28.319Z"
   },
   {
    "duration": 4,
    "start_time": "2025-06-26T07:28:41.306Z"
   },
   {
    "duration": 4,
    "start_time": "2025-06-26T07:29:43.771Z"
   },
   {
    "duration": 988,
    "start_time": "2025-06-26T07:30:38.360Z"
   },
   {
    "duration": 399083,
    "start_time": "2025-06-26T07:33:51.556Z"
   },
   {
    "duration": 343,
    "start_time": "2025-06-26T07:40:30.643Z"
   },
   {
    "duration": 837,
    "start_time": "2025-06-26T07:41:12.732Z"
   },
   {
    "duration": 20,
    "start_time": "2025-06-26T07:43:07.742Z"
   },
   {
    "duration": 2550,
    "start_time": "2025-06-26T07:43:14.712Z"
   },
   {
    "duration": 2684,
    "start_time": "2025-06-26T07:43:17.265Z"
   },
   {
    "duration": 3192,
    "start_time": "2025-06-26T07:43:19.951Z"
   },
   {
    "duration": 2581,
    "start_time": "2025-06-26T07:43:23.145Z"
   },
   {
    "duration": 2175,
    "start_time": "2025-06-26T07:43:25.729Z"
   },
   {
    "duration": 3,
    "start_time": "2025-06-26T07:43:27.906Z"
   },
   {
    "duration": 142,
    "start_time": "2025-06-26T07:43:27.910Z"
   },
   {
    "duration": 16,
    "start_time": "2025-06-26T07:43:28.054Z"
   },
   {
    "duration": 8,
    "start_time": "2025-06-26T07:43:28.072Z"
   },
   {
    "duration": 8,
    "start_time": "2025-06-26T07:43:28.081Z"
   },
   {
    "duration": 18,
    "start_time": "2025-06-26T07:43:28.091Z"
   },
   {
    "duration": 14,
    "start_time": "2025-06-26T07:43:28.111Z"
   },
   {
    "duration": 33,
    "start_time": "2025-06-26T07:43:28.127Z"
   },
   {
    "duration": 23,
    "start_time": "2025-06-26T07:43:28.163Z"
   },
   {
    "duration": 7,
    "start_time": "2025-06-26T07:43:28.187Z"
   },
   {
    "duration": 20,
    "start_time": "2025-06-26T07:43:28.240Z"
   },
   {
    "duration": 13,
    "start_time": "2025-06-26T07:43:28.261Z"
   },
   {
    "duration": 13,
    "start_time": "2025-06-26T07:43:28.275Z"
   },
   {
    "duration": 10,
    "start_time": "2025-06-26T07:43:28.290Z"
   },
   {
    "duration": 38,
    "start_time": "2025-06-26T07:43:28.302Z"
   },
   {
    "duration": 11,
    "start_time": "2025-06-26T07:43:28.342Z"
   },
   {
    "duration": 18,
    "start_time": "2025-06-26T07:43:28.355Z"
   },
   {
    "duration": 34,
    "start_time": "2025-06-26T07:43:28.375Z"
   },
   {
    "duration": 32,
    "start_time": "2025-06-26T07:43:28.410Z"
   },
   {
    "duration": 15,
    "start_time": "2025-06-26T07:43:28.443Z"
   },
   {
    "duration": 246,
    "start_time": "2025-06-26T07:43:28.460Z"
   },
   {
    "duration": 248,
    "start_time": "2025-06-26T07:43:28.708Z"
   },
   {
    "duration": 224,
    "start_time": "2025-06-26T07:43:28.958Z"
   },
   {
    "duration": 305,
    "start_time": "2025-06-26T07:43:29.184Z"
   },
   {
    "duration": 459,
    "start_time": "2025-06-26T07:43:29.491Z"
   },
   {
    "duration": 280,
    "start_time": "2025-06-26T07:43:29.952Z"
   },
   {
    "duration": 300,
    "start_time": "2025-06-26T07:43:30.239Z"
   },
   {
    "duration": 265,
    "start_time": "2025-06-26T07:43:30.541Z"
   },
   {
    "duration": 341,
    "start_time": "2025-06-26T07:43:30.807Z"
   },
   {
    "duration": 280,
    "start_time": "2025-06-26T07:43:31.149Z"
   },
   {
    "duration": 301,
    "start_time": "2025-06-26T07:43:31.431Z"
   },
   {
    "duration": 309,
    "start_time": "2025-06-26T07:43:31.734Z"
   },
   {
    "duration": 235,
    "start_time": "2025-06-26T07:43:32.045Z"
   },
   {
    "duration": 274,
    "start_time": "2025-06-26T07:43:32.282Z"
   },
   {
    "duration": 221,
    "start_time": "2025-06-26T07:43:32.558Z"
   },
   {
    "duration": 284,
    "start_time": "2025-06-26T07:43:32.783Z"
   },
   {
    "duration": 431,
    "start_time": "2025-06-26T07:43:33.069Z"
   },
   {
    "duration": 12,
    "start_time": "2025-06-26T07:43:33.502Z"
   },
   {
    "duration": 66,
    "start_time": "2025-06-26T07:43:33.516Z"
   },
   {
    "duration": 1679,
    "start_time": "2025-06-26T07:43:33.585Z"
   },
   {
    "duration": 5,
    "start_time": "2025-06-26T07:43:35.265Z"
   },
   {
    "duration": 38,
    "start_time": "2025-06-26T07:43:35.271Z"
   },
   {
    "duration": 16108,
    "start_time": "2025-06-26T07:43:35.311Z"
   },
   {
    "duration": 4,
    "start_time": "2025-06-26T07:43:51.422Z"
   },
   {
    "duration": 24,
    "start_time": "2025-06-26T07:43:51.440Z"
   },
   {
    "duration": 397482,
    "start_time": "2025-06-26T07:43:51.466Z"
   },
   {
    "duration": 1015,
    "start_time": "2025-06-26T07:50:28.950Z"
   },
   {
    "duration": 153,
    "start_time": "2025-06-26T07:55:35.642Z"
   },
   {
    "duration": 14,
    "start_time": "2025-06-26T07:56:59.695Z"
   },
   {
    "duration": 12,
    "start_time": "2025-06-26T07:57:25.774Z"
   },
   {
    "duration": 31,
    "start_time": "2025-06-26T07:57:32.367Z"
   },
   {
    "duration": 31,
    "start_time": "2025-06-26T07:57:39.982Z"
   },
   {
    "duration": 22,
    "start_time": "2025-06-26T07:59:28.269Z"
   },
   {
    "duration": 21,
    "start_time": "2025-06-26T08:08:11.420Z"
   },
   {
    "duration": 38,
    "start_time": "2025-06-26T08:10:37.024Z"
   },
   {
    "duration": 36,
    "start_time": "2025-06-26T08:10:48.085Z"
   },
   {
    "duration": 36,
    "start_time": "2025-06-26T08:13:45.375Z"
   },
   {
    "duration": 25,
    "start_time": "2025-06-26T08:13:52.864Z"
   },
   {
    "duration": 29,
    "start_time": "2025-06-26T08:14:37.981Z"
   },
   {
    "duration": 41,
    "start_time": "2025-06-26T08:14:55.218Z"
   },
   {
    "duration": 60,
    "start_time": "2025-06-26T08:15:25.441Z"
   },
   {
    "duration": 29,
    "start_time": "2025-06-26T08:16:00.433Z"
   },
   {
    "duration": 30,
    "start_time": "2025-06-26T08:16:57.073Z"
   },
   {
    "duration": 4,
    "start_time": "2025-06-26T08:17:16.071Z"
   },
   {
    "duration": 31,
    "start_time": "2025-06-26T08:17:29.684Z"
   },
   {
    "duration": 28,
    "start_time": "2025-06-26T08:17:56.896Z"
   },
   {
    "duration": 28,
    "start_time": "2025-06-26T08:18:17.731Z"
   },
   {
    "duration": 25,
    "start_time": "2025-06-26T08:18:47.892Z"
   },
   {
    "duration": 26,
    "start_time": "2025-06-26T08:19:07.433Z"
   },
   {
    "duration": 27,
    "start_time": "2025-06-26T08:19:32.429Z"
   },
   {
    "duration": 15,
    "start_time": "2025-06-26T08:22:52.318Z"
   },
   {
    "duration": 37,
    "start_time": "2025-06-26T08:22:59.028Z"
   },
   {
    "duration": 5,
    "start_time": "2025-06-26T08:23:28.280Z"
   },
   {
    "duration": 18,
    "start_time": "2025-06-26T08:24:06.958Z"
   },
   {
    "duration": 16,
    "start_time": "2025-06-26T08:24:20.671Z"
   },
   {
    "duration": 15,
    "start_time": "2025-06-26T08:24:26.453Z"
   },
   {
    "duration": 2643,
    "start_time": "2025-06-26T08:24:35.587Z"
   },
   {
    "duration": 2518,
    "start_time": "2025-06-26T08:24:38.233Z"
   },
   {
    "duration": 3224,
    "start_time": "2025-06-26T08:24:40.753Z"
   },
   {
    "duration": 2531,
    "start_time": "2025-06-26T08:24:43.980Z"
   },
   {
    "duration": 2239,
    "start_time": "2025-06-26T08:24:46.513Z"
   },
   {
    "duration": 3,
    "start_time": "2025-06-26T08:24:48.754Z"
   },
   {
    "duration": 81,
    "start_time": "2025-06-26T08:24:48.759Z"
   },
   {
    "duration": 16,
    "start_time": "2025-06-26T08:24:48.841Z"
   },
   {
    "duration": 8,
    "start_time": "2025-06-26T08:24:48.859Z"
   },
   {
    "duration": 23,
    "start_time": "2025-06-26T08:24:48.870Z"
   },
   {
    "duration": 8,
    "start_time": "2025-06-26T08:24:48.896Z"
   },
   {
    "duration": 39,
    "start_time": "2025-06-26T08:24:48.906Z"
   },
   {
    "duration": 25,
    "start_time": "2025-06-26T08:24:48.946Z"
   },
   {
    "duration": 23,
    "start_time": "2025-06-26T08:24:48.973Z"
   },
   {
    "duration": 46,
    "start_time": "2025-06-26T08:24:48.998Z"
   },
   {
    "duration": 22,
    "start_time": "2025-06-26T08:24:49.046Z"
   },
   {
    "duration": 11,
    "start_time": "2025-06-26T08:24:49.070Z"
   },
   {
    "duration": 6,
    "start_time": "2025-06-26T08:24:49.083Z"
   },
   {
    "duration": 11,
    "start_time": "2025-06-26T08:24:49.091Z"
   },
   {
    "duration": 37,
    "start_time": "2025-06-26T08:24:49.103Z"
   },
   {
    "duration": 13,
    "start_time": "2025-06-26T08:24:49.142Z"
   },
   {
    "duration": 12,
    "start_time": "2025-06-26T08:24:49.157Z"
   },
   {
    "duration": 35,
    "start_time": "2025-06-26T08:24:49.171Z"
   },
   {
    "duration": 42,
    "start_time": "2025-06-26T08:24:49.208Z"
   },
   {
    "duration": 21,
    "start_time": "2025-06-26T08:24:49.251Z"
   },
   {
    "duration": 237,
    "start_time": "2025-06-26T08:24:49.273Z"
   },
   {
    "duration": 246,
    "start_time": "2025-06-26T08:24:49.512Z"
   },
   {
    "duration": 211,
    "start_time": "2025-06-26T08:24:49.761Z"
   },
   {
    "duration": 281,
    "start_time": "2025-06-26T08:24:49.973Z"
   },
   {
    "duration": 396,
    "start_time": "2025-06-26T08:24:50.256Z"
   },
   {
    "duration": 278,
    "start_time": "2025-06-26T08:24:50.653Z"
   },
   {
    "duration": 304,
    "start_time": "2025-06-26T08:24:50.939Z"
   },
   {
    "duration": 253,
    "start_time": "2025-06-26T08:24:51.245Z"
   },
   {
    "duration": 324,
    "start_time": "2025-06-26T08:24:51.499Z"
   },
   {
    "duration": 301,
    "start_time": "2025-06-26T08:24:51.824Z"
   },
   {
    "duration": 290,
    "start_time": "2025-06-26T08:24:52.127Z"
   },
   {
    "duration": 314,
    "start_time": "2025-06-26T08:24:52.419Z"
   },
   {
    "duration": 239,
    "start_time": "2025-06-26T08:24:52.739Z"
   },
   {
    "duration": 275,
    "start_time": "2025-06-26T08:24:52.979Z"
   },
   {
    "duration": 224,
    "start_time": "2025-06-26T08:24:53.256Z"
   },
   {
    "duration": 322,
    "start_time": "2025-06-26T08:24:53.482Z"
   },
   {
    "duration": 404,
    "start_time": "2025-06-26T08:24:53.806Z"
   },
   {
    "duration": 10,
    "start_time": "2025-06-26T08:24:54.212Z"
   },
   {
    "duration": 45,
    "start_time": "2025-06-26T08:24:54.224Z"
   },
   {
    "duration": 1632,
    "start_time": "2025-06-26T08:24:54.272Z"
   },
   {
    "duration": 5,
    "start_time": "2025-06-26T08:24:55.906Z"
   },
   {
    "duration": 265,
    "start_time": "2025-06-26T08:24:55.913Z"
   },
   {
    "duration": 0,
    "start_time": "2025-06-26T08:24:56.180Z"
   },
   {
    "duration": 0,
    "start_time": "2025-06-26T08:24:56.182Z"
   },
   {
    "duration": 0,
    "start_time": "2025-06-26T08:24:56.183Z"
   },
   {
    "duration": 0,
    "start_time": "2025-06-26T08:24:56.184Z"
   },
   {
    "duration": 0,
    "start_time": "2025-06-26T08:24:56.185Z"
   },
   {
    "duration": 0,
    "start_time": "2025-06-26T08:24:56.186Z"
   },
   {
    "duration": 0,
    "start_time": "2025-06-26T08:24:56.187Z"
   },
   {
    "duration": 15,
    "start_time": "2025-06-26T08:25:19.425Z"
   },
   {
    "duration": 29346,
    "start_time": "2025-06-26T08:25:22.644Z"
   },
   {
    "duration": 4,
    "start_time": "2025-06-26T08:25:51.992Z"
   },
   {
    "duration": 38,
    "start_time": "2025-06-26T08:25:51.998Z"
   },
   {
    "duration": 19,
    "start_time": "2025-06-26T08:27:59.569Z"
   },
   {
    "duration": 30825,
    "start_time": "2025-06-26T08:28:00.673Z"
   },
   {
    "duration": 95,
    "start_time": "2025-06-26T08:29:59.386Z"
   },
   {
    "duration": 16509,
    "start_time": "2025-06-26T08:30:15.181Z"
   },
   {
    "duration": 5,
    "start_time": "2025-06-26T08:30:39.902Z"
   },
   {
    "duration": 16,
    "start_time": "2025-06-26T08:31:02.593Z"
   },
   {
    "duration": 444198,
    "start_time": "2025-06-26T08:31:05.852Z"
   },
   {
    "duration": 1135,
    "start_time": "2025-06-26T08:38:30.059Z"
   },
   {
    "duration": 4,
    "start_time": "2025-06-26T08:38:31.196Z"
   },
   {
    "duration": 28,
    "start_time": "2025-06-26T08:38:39.003Z"
   },
   {
    "duration": 40,
    "start_time": "2025-06-26T08:38:55.396Z"
   },
   {
    "duration": 10,
    "start_time": "2025-06-26T08:39:13.346Z"
   },
   {
    "duration": 178,
    "start_time": "2025-06-26T08:40:24.256Z"
   },
   {
    "duration": 28,
    "start_time": "2025-06-26T08:46:06.028Z"
   },
   {
    "duration": 26,
    "start_time": "2025-06-26T08:50:23.654Z"
   },
   {
    "duration": 6,
    "start_time": "2025-06-26T08:54:18.711Z"
   },
   {
    "duration": 286,
    "start_time": "2025-06-26T08:54:32.213Z"
   },
   {
    "duration": 700,
    "start_time": "2025-06-26T08:55:14.889Z"
   },
   {
    "duration": 262,
    "start_time": "2025-06-26T08:55:26.010Z"
   },
   {
    "duration": 255,
    "start_time": "2025-06-26T08:55:44.386Z"
   },
   {
    "duration": 270,
    "start_time": "2025-06-26T08:55:53.455Z"
   },
   {
    "duration": 316,
    "start_time": "2025-06-26T08:56:14.213Z"
   },
   {
    "duration": 17,
    "start_time": "2025-06-26T09:00:17.168Z"
   },
   {
    "duration": 7,
    "start_time": "2025-06-26T09:00:22.013Z"
   },
   {
    "duration": 1192,
    "start_time": "2025-06-26T09:01:08.923Z"
   },
   {
    "duration": 330,
    "start_time": "2025-06-26T09:01:22.523Z"
   },
   {
    "duration": 132,
    "start_time": "2025-06-26T09:06:02.928Z"
   },
   {
    "duration": 10,
    "start_time": "2025-06-26T09:09:11.498Z"
   },
   {
    "duration": 647,
    "start_time": "2025-06-26T09:09:39.134Z"
   },
   {
    "duration": 8,
    "start_time": "2025-06-26T09:10:22.990Z"
   },
   {
    "duration": 650,
    "start_time": "2025-06-26T09:10:23.681Z"
   },
   {
    "duration": 8,
    "start_time": "2025-06-26T09:11:00.805Z"
   },
   {
    "duration": 747,
    "start_time": "2025-06-26T09:11:09.920Z"
   },
   {
    "duration": 612,
    "start_time": "2025-06-26T09:12:24.352Z"
   },
   {
    "duration": 6,
    "start_time": "2025-06-26T09:13:18.113Z"
   },
   {
    "duration": 665,
    "start_time": "2025-06-26T09:17:15.619Z"
   },
   {
    "duration": 640,
    "start_time": "2025-06-26T09:17:35.227Z"
   },
   {
    "duration": 620,
    "start_time": "2025-06-26T09:20:42.205Z"
   },
   {
    "duration": 696,
    "start_time": "2025-06-26T09:21:06.155Z"
   },
   {
    "duration": 628,
    "start_time": "2025-06-26T09:21:11.024Z"
   },
   {
    "duration": 646,
    "start_time": "2025-06-26T09:24:08.314Z"
   },
   {
    "duration": 3823,
    "start_time": "2025-06-26T11:15:30.748Z"
   },
   {
    "duration": 4472,
    "start_time": "2025-06-26T11:15:34.573Z"
   },
   {
    "duration": 7439,
    "start_time": "2025-06-26T11:15:39.048Z"
   },
   {
    "duration": 9143,
    "start_time": "2025-06-26T11:15:46.490Z"
   },
   {
    "duration": 7536,
    "start_time": "2025-06-26T11:15:55.636Z"
   },
   {
    "duration": 3,
    "start_time": "2025-06-26T11:16:03.174Z"
   },
   {
    "duration": 171,
    "start_time": "2025-06-26T11:16:03.179Z"
   },
   {
    "duration": 16,
    "start_time": "2025-06-26T11:16:03.352Z"
   },
   {
    "duration": 24,
    "start_time": "2025-06-26T11:16:03.369Z"
   },
   {
    "duration": 37,
    "start_time": "2025-06-26T11:16:03.395Z"
   },
   {
    "duration": 234,
    "start_time": "2025-06-26T11:16:03.434Z"
   },
   {
    "duration": 40,
    "start_time": "2025-06-26T11:16:03.670Z"
   },
   {
    "duration": 38,
    "start_time": "2025-06-26T11:16:03.711Z"
   },
   {
    "duration": 21,
    "start_time": "2025-06-26T11:16:03.752Z"
   },
   {
    "duration": 90,
    "start_time": "2025-06-26T11:16:03.775Z"
   },
   {
    "duration": 47,
    "start_time": "2025-06-26T11:16:03.867Z"
   },
   {
    "duration": 22,
    "start_time": "2025-06-26T11:16:03.916Z"
   },
   {
    "duration": 11,
    "start_time": "2025-06-26T11:16:03.940Z"
   },
   {
    "duration": 11,
    "start_time": "2025-06-26T11:16:03.952Z"
   },
   {
    "duration": 25,
    "start_time": "2025-06-26T11:16:03.964Z"
   },
   {
    "duration": 16,
    "start_time": "2025-06-26T11:16:03.990Z"
   },
   {
    "duration": 96,
    "start_time": "2025-06-26T11:16:04.008Z"
   },
   {
    "duration": 42,
    "start_time": "2025-06-26T11:16:04.107Z"
   },
   {
    "duration": 18,
    "start_time": "2025-06-26T11:16:04.150Z"
   },
   {
    "duration": 16,
    "start_time": "2025-06-26T11:16:04.170Z"
   },
   {
    "duration": 332,
    "start_time": "2025-06-26T11:16:04.188Z"
   },
   {
    "duration": 243,
    "start_time": "2025-06-26T11:16:04.522Z"
   },
   {
    "duration": 222,
    "start_time": "2025-06-26T11:16:04.767Z"
   },
   {
    "duration": 367,
    "start_time": "2025-06-26T11:16:04.991Z"
   },
   {
    "duration": 410,
    "start_time": "2025-06-26T11:16:05.359Z"
   },
   {
    "duration": 288,
    "start_time": "2025-06-26T11:16:05.770Z"
   },
   {
    "duration": 299,
    "start_time": "2025-06-26T11:16:06.060Z"
   },
   {
    "duration": 265,
    "start_time": "2025-06-26T11:16:06.360Z"
   },
   {
    "duration": 324,
    "start_time": "2025-06-26T11:16:06.635Z"
   },
   {
    "duration": 295,
    "start_time": "2025-06-26T11:16:06.960Z"
   },
   {
    "duration": 315,
    "start_time": "2025-06-26T11:16:07.257Z"
   },
   {
    "duration": 298,
    "start_time": "2025-06-26T11:16:07.574Z"
   },
   {
    "duration": 224,
    "start_time": "2025-06-26T11:16:07.874Z"
   },
   {
    "duration": 319,
    "start_time": "2025-06-26T11:16:08.100Z"
   },
   {
    "duration": 252,
    "start_time": "2025-06-26T11:16:08.421Z"
   },
   {
    "duration": 280,
    "start_time": "2025-06-26T11:16:08.677Z"
   },
   {
    "duration": 423,
    "start_time": "2025-06-26T11:16:08.959Z"
   },
   {
    "duration": 10,
    "start_time": "2025-06-26T11:16:09.383Z"
   },
   {
    "duration": 9,
    "start_time": "2025-06-26T11:16:09.395Z"
   },
   {
    "duration": 51,
    "start_time": "2025-06-26T13:23:26.287Z"
   },
   {
    "duration": 3413,
    "start_time": "2025-06-26T13:23:32.264Z"
   },
   {
    "duration": 4443,
    "start_time": "2025-06-26T13:23:35.680Z"
   },
   {
    "duration": 6864,
    "start_time": "2025-06-26T13:23:40.125Z"
   },
   {
    "duration": 8994,
    "start_time": "2025-06-26T13:23:46.992Z"
   },
   {
    "duration": 2318,
    "start_time": "2025-06-26T13:23:55.988Z"
   },
   {
    "duration": 2,
    "start_time": "2025-06-26T13:23:58.308Z"
   },
   {
    "duration": 104,
    "start_time": "2025-06-26T13:23:58.311Z"
   },
   {
    "duration": 15,
    "start_time": "2025-06-26T13:23:58.417Z"
   },
   {
    "duration": 11,
    "start_time": "2025-06-26T13:23:58.433Z"
   },
   {
    "duration": 37,
    "start_time": "2025-06-26T13:23:58.447Z"
   },
   {
    "duration": 13,
    "start_time": "2025-06-26T13:23:58.485Z"
   },
   {
    "duration": 56,
    "start_time": "2025-06-26T13:23:58.499Z"
   },
   {
    "duration": 36,
    "start_time": "2025-06-26T13:23:58.556Z"
   },
   {
    "duration": 122,
    "start_time": "2025-06-26T13:23:58.593Z"
   },
   {
    "duration": 9,
    "start_time": "2025-06-26T13:23:58.717Z"
   },
   {
    "duration": 21,
    "start_time": "2025-06-26T13:23:58.727Z"
   },
   {
    "duration": 11,
    "start_time": "2025-06-26T13:23:58.750Z"
   },
   {
    "duration": 19,
    "start_time": "2025-06-26T13:23:58.762Z"
   },
   {
    "duration": 30,
    "start_time": "2025-06-26T13:23:58.783Z"
   },
   {
    "duration": 20,
    "start_time": "2025-06-26T13:23:58.815Z"
   },
   {
    "duration": 20,
    "start_time": "2025-06-26T13:23:58.837Z"
   },
   {
    "duration": 13,
    "start_time": "2025-06-26T13:23:58.859Z"
   },
   {
    "duration": 36,
    "start_time": "2025-06-26T13:23:58.874Z"
   },
   {
    "duration": 14,
    "start_time": "2025-06-26T13:23:58.912Z"
   },
   {
    "duration": 13,
    "start_time": "2025-06-26T13:23:58.928Z"
   },
   {
    "duration": 351,
    "start_time": "2025-06-26T13:23:58.943Z"
   },
   {
    "duration": 225,
    "start_time": "2025-06-26T13:23:59.295Z"
   },
   {
    "duration": 213,
    "start_time": "2025-06-26T13:23:59.523Z"
   },
   {
    "duration": 285,
    "start_time": "2025-06-26T13:23:59.738Z"
   },
   {
    "duration": 399,
    "start_time": "2025-06-26T13:24:00.025Z"
   },
   {
    "duration": 280,
    "start_time": "2025-06-26T13:24:00.426Z"
   },
   {
    "duration": 299,
    "start_time": "2025-06-26T13:24:00.708Z"
   },
   {
    "duration": 270,
    "start_time": "2025-06-26T13:24:01.009Z"
   },
   {
    "duration": 332,
    "start_time": "2025-06-26T13:24:01.281Z"
   },
   {
    "duration": 291,
    "start_time": "2025-06-26T13:24:01.615Z"
   },
   {
    "duration": 281,
    "start_time": "2025-06-26T13:24:01.907Z"
   },
   {
    "duration": 303,
    "start_time": "2025-06-26T13:24:02.190Z"
   },
   {
    "duration": 246,
    "start_time": "2025-06-26T13:24:02.495Z"
   },
   {
    "duration": 242,
    "start_time": "2025-06-26T13:24:02.743Z"
   },
   {
    "duration": 250,
    "start_time": "2025-06-26T13:24:02.987Z"
   },
   {
    "duration": 251,
    "start_time": "2025-06-26T13:24:03.239Z"
   },
   {
    "duration": 396,
    "start_time": "2025-06-26T13:24:03.492Z"
   },
   {
    "duration": 19,
    "start_time": "2025-06-26T13:24:03.890Z"
   },
   {
    "duration": 40,
    "start_time": "2025-06-26T13:24:03.910Z"
   },
   {
    "duration": 67,
    "start_time": "2025-06-26T13:24:03.952Z"
   },
   {
    "duration": 1926,
    "start_time": "2025-06-26T13:24:04.020Z"
   },
   {
    "duration": 5,
    "start_time": "2025-06-26T13:24:05.947Z"
   },
   {
    "duration": 37,
    "start_time": "2025-06-26T13:24:05.953Z"
   },
   {
    "duration": 16174,
    "start_time": "2025-06-26T13:24:05.992Z"
   },
   {
    "duration": 3,
    "start_time": "2025-06-26T13:24:22.169Z"
   },
   {
    "duration": 33,
    "start_time": "2025-06-26T13:24:22.174Z"
   },
   {
    "duration": 2615,
    "start_time": "2025-06-26T13:28:31.602Z"
   },
   {
    "duration": 2573,
    "start_time": "2025-06-26T13:28:34.220Z"
   },
   {
    "duration": 3146,
    "start_time": "2025-06-26T13:28:36.795Z"
   },
   {
    "duration": 2516,
    "start_time": "2025-06-26T13:28:39.943Z"
   },
   {
    "duration": 2053,
    "start_time": "2025-06-26T13:28:42.461Z"
   },
   {
    "duration": 3,
    "start_time": "2025-06-26T13:28:44.515Z"
   },
   {
    "duration": 96,
    "start_time": "2025-06-26T13:28:44.519Z"
   },
   {
    "duration": 15,
    "start_time": "2025-06-26T13:28:44.617Z"
   },
   {
    "duration": 75,
    "start_time": "2025-06-26T13:28:44.633Z"
   },
   {
    "duration": 8,
    "start_time": "2025-06-26T13:28:44.710Z"
   },
   {
    "duration": 9,
    "start_time": "2025-06-26T13:28:44.720Z"
   },
   {
    "duration": 13,
    "start_time": "2025-06-26T13:28:44.730Z"
   },
   {
    "duration": 29,
    "start_time": "2025-06-26T13:28:44.744Z"
   },
   {
    "duration": 41,
    "start_time": "2025-06-26T13:28:44.775Z"
   },
   {
    "duration": 6,
    "start_time": "2025-06-26T13:28:44.818Z"
   },
   {
    "duration": 35,
    "start_time": "2025-06-26T13:28:44.825Z"
   },
   {
    "duration": 11,
    "start_time": "2025-06-26T13:28:44.861Z"
   },
   {
    "duration": 32,
    "start_time": "2025-06-26T13:28:44.873Z"
   },
   {
    "duration": 14,
    "start_time": "2025-06-26T13:28:44.907Z"
   },
   {
    "duration": 8,
    "start_time": "2025-06-26T13:28:44.922Z"
   },
   {
    "duration": 34,
    "start_time": "2025-06-26T13:28:44.931Z"
   },
   {
    "duration": 19,
    "start_time": "2025-06-26T13:28:44.967Z"
   },
   {
    "duration": 40,
    "start_time": "2025-06-26T13:28:44.989Z"
   },
   {
    "duration": 58,
    "start_time": "2025-06-26T13:28:45.030Z"
   },
   {
    "duration": 83,
    "start_time": "2025-06-26T13:28:45.089Z"
   },
   {
    "duration": 304,
    "start_time": "2025-06-26T13:28:45.174Z"
   },
   {
    "duration": 248,
    "start_time": "2025-06-26T13:28:45.480Z"
   },
   {
    "duration": 216,
    "start_time": "2025-06-26T13:28:45.731Z"
   },
   {
    "duration": 288,
    "start_time": "2025-06-26T13:28:45.949Z"
   },
   {
    "duration": 387,
    "start_time": "2025-06-26T13:28:46.239Z"
   },
   {
    "duration": 277,
    "start_time": "2025-06-26T13:28:46.628Z"
   },
   {
    "duration": 289,
    "start_time": "2025-06-26T13:28:46.907Z"
   },
   {
    "duration": 266,
    "start_time": "2025-06-26T13:28:47.198Z"
   },
   {
    "duration": 334,
    "start_time": "2025-06-26T13:28:47.465Z"
   },
   {
    "duration": 289,
    "start_time": "2025-06-26T13:28:47.806Z"
   },
   {
    "duration": 292,
    "start_time": "2025-06-26T13:28:48.097Z"
   },
   {
    "duration": 315,
    "start_time": "2025-06-26T13:28:48.390Z"
   },
   {
    "duration": 236,
    "start_time": "2025-06-26T13:28:48.707Z"
   },
   {
    "duration": 236,
    "start_time": "2025-06-26T13:28:48.944Z"
   },
   {
    "duration": 256,
    "start_time": "2025-06-26T13:28:49.182Z"
   },
   {
    "duration": 243,
    "start_time": "2025-06-26T13:28:49.440Z"
   },
   {
    "duration": 387,
    "start_time": "2025-06-26T13:28:49.684Z"
   },
   {
    "duration": 9,
    "start_time": "2025-06-26T13:28:50.073Z"
   },
   {
    "duration": 157,
    "start_time": "2025-06-26T13:28:50.084Z"
   },
   {
    "duration": 163,
    "start_time": "2025-06-26T13:28:50.243Z"
   },
   {
    "duration": 1629,
    "start_time": "2025-06-26T13:28:50.408Z"
   },
   {
    "duration": 14,
    "start_time": "2025-06-26T13:28:52.039Z"
   },
   {
    "duration": 16772,
    "start_time": "2025-06-26T13:28:52.054Z"
   },
   {
    "duration": 3,
    "start_time": "2025-06-26T13:29:08.828Z"
   },
   {
    "duration": 17,
    "start_time": "2025-06-26T13:29:08.833Z"
   },
   {
    "duration": 2620,
    "start_time": "2025-06-26T13:35:15.356Z"
   },
   {
    "duration": 2755,
    "start_time": "2025-06-26T13:35:17.979Z"
   },
   {
    "duration": 3231,
    "start_time": "2025-06-26T13:35:20.736Z"
   },
   {
    "duration": 2593,
    "start_time": "2025-06-26T13:35:23.970Z"
   },
   {
    "duration": 2144,
    "start_time": "2025-06-26T13:35:26.565Z"
   },
   {
    "duration": 3,
    "start_time": "2025-06-26T13:35:28.711Z"
   },
   {
    "duration": 113,
    "start_time": "2025-06-26T13:35:28.716Z"
   },
   {
    "duration": 16,
    "start_time": "2025-06-26T13:35:28.830Z"
   },
   {
    "duration": 27,
    "start_time": "2025-06-26T13:35:28.848Z"
   },
   {
    "duration": 25,
    "start_time": "2025-06-26T13:35:28.877Z"
   },
   {
    "duration": 39,
    "start_time": "2025-06-26T13:35:28.904Z"
   },
   {
    "duration": 42,
    "start_time": "2025-06-26T13:35:28.944Z"
   },
   {
    "duration": 56,
    "start_time": "2025-06-26T13:35:28.988Z"
   },
   {
    "duration": 37,
    "start_time": "2025-06-26T13:35:29.045Z"
   },
   {
    "duration": 33,
    "start_time": "2025-06-26T13:35:29.084Z"
   },
   {
    "duration": 66,
    "start_time": "2025-06-26T13:35:29.119Z"
   },
   {
    "duration": 99,
    "start_time": "2025-06-26T13:35:29.187Z"
   },
   {
    "duration": 20,
    "start_time": "2025-06-26T13:35:29.287Z"
   },
   {
    "duration": 30,
    "start_time": "2025-06-26T13:35:29.308Z"
   },
   {
    "duration": 8,
    "start_time": "2025-06-26T13:35:29.340Z"
   },
   {
    "duration": 14,
    "start_time": "2025-06-26T13:35:29.349Z"
   },
   {
    "duration": 27,
    "start_time": "2025-06-26T13:35:29.365Z"
   },
   {
    "duration": 49,
    "start_time": "2025-06-26T13:35:29.394Z"
   },
   {
    "duration": 14,
    "start_time": "2025-06-26T13:35:29.444Z"
   },
   {
    "duration": 32,
    "start_time": "2025-06-26T13:35:29.459Z"
   },
   {
    "duration": 257,
    "start_time": "2025-06-26T13:35:29.492Z"
   },
   {
    "duration": 187,
    "start_time": "2025-06-26T13:35:29.750Z"
   },
   {
    "duration": 210,
    "start_time": "2025-06-26T13:35:29.941Z"
   },
   {
    "duration": 309,
    "start_time": "2025-06-26T13:35:30.152Z"
   },
   {
    "duration": 436,
    "start_time": "2025-06-26T13:35:30.463Z"
   },
   {
    "duration": 301,
    "start_time": "2025-06-26T13:35:30.905Z"
   },
   {
    "duration": 305,
    "start_time": "2025-06-26T13:35:31.207Z"
   },
   {
    "duration": 279,
    "start_time": "2025-06-26T13:35:31.514Z"
   },
   {
    "duration": 313,
    "start_time": "2025-06-26T13:35:31.794Z"
   },
   {
    "duration": 290,
    "start_time": "2025-06-26T13:35:32.109Z"
   },
   {
    "duration": 281,
    "start_time": "2025-06-26T13:35:32.405Z"
   },
   {
    "duration": 320,
    "start_time": "2025-06-26T13:35:32.688Z"
   },
   {
    "duration": 238,
    "start_time": "2025-06-26T13:35:33.010Z"
   },
   {
    "duration": 267,
    "start_time": "2025-06-26T13:35:33.249Z"
   },
   {
    "duration": 268,
    "start_time": "2025-06-26T13:35:33.518Z"
   },
   {
    "duration": 380,
    "start_time": "2025-06-26T13:35:33.787Z"
   },
   {
    "duration": 191,
    "start_time": "2025-06-26T13:35:34.169Z"
   },
   {
    "duration": 309,
    "start_time": "2025-06-26T13:35:34.362Z"
   },
   {
    "duration": 293,
    "start_time": "2025-06-26T13:35:34.673Z"
   },
   {
    "duration": 12,
    "start_time": "2025-06-26T13:35:34.967Z"
   },
   {
    "duration": 40,
    "start_time": "2025-06-26T13:35:34.981Z"
   },
   {
    "duration": 35,
    "start_time": "2025-06-26T13:35:35.022Z"
   },
   {
    "duration": 1647,
    "start_time": "2025-06-26T13:35:35.059Z"
   },
   {
    "duration": 13,
    "start_time": "2025-06-26T13:35:36.708Z"
   },
   {
    "duration": 17139,
    "start_time": "2025-06-26T13:35:36.722Z"
   },
   {
    "duration": 4,
    "start_time": "2025-06-26T13:35:53.863Z"
   },
   {
    "duration": 30,
    "start_time": "2025-06-26T13:35:53.868Z"
   },
   {
    "duration": 2647,
    "start_time": "2025-06-26T13:36:45.391Z"
   },
   {
    "duration": 2600,
    "start_time": "2025-06-26T13:36:48.040Z"
   },
   {
    "duration": 3167,
    "start_time": "2025-06-26T13:36:50.642Z"
   },
   {
    "duration": 2610,
    "start_time": "2025-06-26T13:36:53.811Z"
   },
   {
    "duration": 2077,
    "start_time": "2025-06-26T13:36:56.423Z"
   },
   {
    "duration": 3,
    "start_time": "2025-06-26T13:36:58.502Z"
   },
   {
    "duration": 88,
    "start_time": "2025-06-26T13:36:58.507Z"
   },
   {
    "duration": 16,
    "start_time": "2025-06-26T13:36:58.596Z"
   },
   {
    "duration": 6,
    "start_time": "2025-06-26T13:36:58.614Z"
   },
   {
    "duration": 9,
    "start_time": "2025-06-26T13:36:58.621Z"
   },
   {
    "duration": 10,
    "start_time": "2025-06-26T13:36:58.631Z"
   },
   {
    "duration": 20,
    "start_time": "2025-06-26T13:36:58.642Z"
   },
   {
    "duration": 48,
    "start_time": "2025-06-26T13:36:58.664Z"
   },
   {
    "duration": 20,
    "start_time": "2025-06-26T13:36:58.715Z"
   },
   {
    "duration": 7,
    "start_time": "2025-06-26T13:36:58.737Z"
   },
   {
    "duration": 33,
    "start_time": "2025-06-26T13:36:58.745Z"
   },
   {
    "duration": 12,
    "start_time": "2025-06-26T13:36:58.805Z"
   },
   {
    "duration": 36,
    "start_time": "2025-06-26T13:36:58.819Z"
   },
   {
    "duration": 24,
    "start_time": "2025-06-26T13:36:58.857Z"
   },
   {
    "duration": 5,
    "start_time": "2025-06-26T13:36:58.883Z"
   },
   {
    "duration": 16,
    "start_time": "2025-06-26T13:36:58.889Z"
   },
   {
    "duration": 9,
    "start_time": "2025-06-26T13:36:58.907Z"
   },
   {
    "duration": 46,
    "start_time": "2025-06-26T13:36:58.917Z"
   },
   {
    "duration": 14,
    "start_time": "2025-06-26T13:36:58.964Z"
   },
   {
    "duration": 14,
    "start_time": "2025-06-26T13:36:58.980Z"
   },
   {
    "duration": 275,
    "start_time": "2025-06-26T13:36:58.996Z"
   },
   {
    "duration": 241,
    "start_time": "2025-06-26T13:36:59.273Z"
   },
   {
    "duration": 221,
    "start_time": "2025-06-26T13:36:59.516Z"
   },
   {
    "duration": 286,
    "start_time": "2025-06-26T13:36:59.739Z"
   },
   {
    "duration": 403,
    "start_time": "2025-06-26T13:37:00.027Z"
   },
   {
    "duration": 278,
    "start_time": "2025-06-26T13:37:00.432Z"
   },
   {
    "duration": 299,
    "start_time": "2025-06-26T13:37:00.712Z"
   },
   {
    "duration": 268,
    "start_time": "2025-06-26T13:37:01.014Z"
   },
   {
    "duration": 323,
    "start_time": "2025-06-26T13:37:01.284Z"
   },
   {
    "duration": 302,
    "start_time": "2025-06-26T13:37:01.610Z"
   },
   {
    "duration": 278,
    "start_time": "2025-06-26T13:37:01.915Z"
   },
   {
    "duration": 312,
    "start_time": "2025-06-26T13:37:02.195Z"
   },
   {
    "duration": 232,
    "start_time": "2025-06-26T13:37:02.509Z"
   },
   {
    "duration": 241,
    "start_time": "2025-06-26T13:37:02.743Z"
   },
   {
    "duration": 278,
    "start_time": "2025-06-26T13:37:03.006Z"
   },
   {
    "duration": 417,
    "start_time": "2025-06-26T13:37:03.288Z"
   },
   {
    "duration": 235,
    "start_time": "2025-06-26T13:37:03.707Z"
   },
   {
    "duration": 245,
    "start_time": "2025-06-26T13:37:03.944Z"
   },
   {
    "duration": 304,
    "start_time": "2025-06-26T13:37:04.191Z"
   },
   {
    "duration": 15,
    "start_time": "2025-06-26T13:37:04.496Z"
   },
   {
    "duration": 30,
    "start_time": "2025-06-26T13:37:04.513Z"
   },
   {
    "duration": 51,
    "start_time": "2025-06-26T13:37:04.545Z"
   },
   {
    "duration": 1752,
    "start_time": "2025-06-26T13:37:04.598Z"
   },
   {
    "duration": 15,
    "start_time": "2025-06-26T13:37:06.351Z"
   },
   {
    "duration": 17838,
    "start_time": "2025-06-26T13:37:06.367Z"
   },
   {
    "duration": 4,
    "start_time": "2025-06-26T13:37:24.207Z"
   },
   {
    "duration": 202,
    "start_time": "2025-06-26T13:37:24.212Z"
   },
   {
    "duration": 2620,
    "start_time": "2025-06-26T13:41:09.791Z"
   },
   {
    "duration": 2721,
    "start_time": "2025-06-26T13:41:12.414Z"
   },
   {
    "duration": 3132,
    "start_time": "2025-06-26T13:41:15.137Z"
   },
   {
    "duration": 2586,
    "start_time": "2025-06-26T13:41:18.271Z"
   },
   {
    "duration": 2062,
    "start_time": "2025-06-26T13:41:20.860Z"
   },
   {
    "duration": 3,
    "start_time": "2025-06-26T13:41:22.924Z"
   },
   {
    "duration": 75,
    "start_time": "2025-06-26T13:41:22.929Z"
   },
   {
    "duration": 16,
    "start_time": "2025-06-26T13:41:23.005Z"
   },
   {
    "duration": 15,
    "start_time": "2025-06-26T13:41:23.022Z"
   },
   {
    "duration": 36,
    "start_time": "2025-06-26T13:41:23.039Z"
   },
   {
    "duration": 24,
    "start_time": "2025-06-26T13:41:23.077Z"
   },
   {
    "duration": 30,
    "start_time": "2025-06-26T13:41:23.103Z"
   },
   {
    "duration": 34,
    "start_time": "2025-06-26T13:41:23.135Z"
   },
   {
    "duration": 34,
    "start_time": "2025-06-26T13:41:23.172Z"
   },
   {
    "duration": 31,
    "start_time": "2025-06-26T13:41:23.207Z"
   },
   {
    "duration": 46,
    "start_time": "2025-06-26T13:41:23.240Z"
   },
   {
    "duration": 42,
    "start_time": "2025-06-26T13:41:23.288Z"
   },
   {
    "duration": 29,
    "start_time": "2025-06-26T13:41:23.331Z"
   },
   {
    "duration": 11,
    "start_time": "2025-06-26T13:41:23.362Z"
   },
   {
    "duration": 20,
    "start_time": "2025-06-26T13:41:23.374Z"
   },
   {
    "duration": 13,
    "start_time": "2025-06-26T13:41:23.396Z"
   },
   {
    "duration": 11,
    "start_time": "2025-06-26T13:41:23.410Z"
   },
   {
    "duration": 42,
    "start_time": "2025-06-26T13:41:23.423Z"
   },
   {
    "duration": 14,
    "start_time": "2025-06-26T13:41:23.467Z"
   },
   {
    "duration": 27,
    "start_time": "2025-06-26T13:41:23.482Z"
   },
   {
    "duration": 250,
    "start_time": "2025-06-26T13:41:23.511Z"
   },
   {
    "duration": 198,
    "start_time": "2025-06-26T13:41:23.763Z"
   },
   {
    "duration": 262,
    "start_time": "2025-06-26T13:41:23.963Z"
   },
   {
    "duration": 297,
    "start_time": "2025-06-26T13:41:24.228Z"
   },
   {
    "duration": 410,
    "start_time": "2025-06-26T13:41:24.527Z"
   },
   {
    "duration": 300,
    "start_time": "2025-06-26T13:41:24.939Z"
   },
   {
    "duration": 285,
    "start_time": "2025-06-26T13:41:25.240Z"
   },
   {
    "duration": 256,
    "start_time": "2025-06-26T13:41:25.526Z"
   },
   {
    "duration": 340,
    "start_time": "2025-06-26T13:41:25.784Z"
   },
   {
    "duration": 284,
    "start_time": "2025-06-26T13:41:26.126Z"
   },
   {
    "duration": 284,
    "start_time": "2025-06-26T13:41:26.412Z"
   },
   {
    "duration": 322,
    "start_time": "2025-06-26T13:41:26.704Z"
   },
   {
    "duration": 239,
    "start_time": "2025-06-26T13:41:27.028Z"
   },
   {
    "duration": 301,
    "start_time": "2025-06-26T13:41:27.269Z"
   },
   {
    "duration": 306,
    "start_time": "2025-06-26T13:41:27.571Z"
   },
   {
    "duration": 398,
    "start_time": "2025-06-26T13:41:27.881Z"
   },
   {
    "duration": 253,
    "start_time": "2025-06-26T13:41:28.281Z"
   },
   {
    "duration": 252,
    "start_time": "2025-06-26T13:41:28.536Z"
   },
   {
    "duration": 282,
    "start_time": "2025-06-26T13:41:28.789Z"
   },
   {
    "duration": 9,
    "start_time": "2025-06-26T13:41:29.072Z"
   },
   {
    "duration": 23,
    "start_time": "2025-06-26T13:41:29.083Z"
   },
   {
    "duration": 32,
    "start_time": "2025-06-26T13:41:29.108Z"
   },
   {
    "duration": 1637,
    "start_time": "2025-06-26T13:41:29.141Z"
   },
   {
    "duration": 15,
    "start_time": "2025-06-26T13:41:30.780Z"
   },
   {
    "duration": 16996,
    "start_time": "2025-06-26T13:41:30.797Z"
   },
   {
    "duration": 13,
    "start_time": "2025-06-26T13:41:47.795Z"
   },
   {
    "duration": 46,
    "start_time": "2025-06-26T13:41:47.809Z"
   },
   {
    "duration": 2630,
    "start_time": "2025-06-26T13:44:10.395Z"
   },
   {
    "duration": 2672,
    "start_time": "2025-06-26T13:44:13.027Z"
   },
   {
    "duration": 3183,
    "start_time": "2025-06-26T13:44:15.701Z"
   },
   {
    "duration": 2591,
    "start_time": "2025-06-26T13:44:18.887Z"
   },
   {
    "duration": 2361,
    "start_time": "2025-06-26T13:44:21.480Z"
   },
   {
    "duration": 4,
    "start_time": "2025-06-26T13:44:23.842Z"
   },
   {
    "duration": 89,
    "start_time": "2025-06-26T13:44:23.847Z"
   },
   {
    "duration": 19,
    "start_time": "2025-06-26T13:44:23.938Z"
   },
   {
    "duration": 8,
    "start_time": "2025-06-26T13:44:23.958Z"
   },
   {
    "duration": 9,
    "start_time": "2025-06-26T13:44:23.969Z"
   },
   {
    "duration": 10,
    "start_time": "2025-06-26T13:44:23.980Z"
   },
   {
    "duration": 29,
    "start_time": "2025-06-26T13:44:23.993Z"
   },
   {
    "duration": 29,
    "start_time": "2025-06-26T13:44:24.024Z"
   },
   {
    "duration": 59,
    "start_time": "2025-06-26T13:44:24.055Z"
   },
   {
    "duration": 7,
    "start_time": "2025-06-26T13:44:24.116Z"
   },
   {
    "duration": 31,
    "start_time": "2025-06-26T13:44:24.125Z"
   },
   {
    "duration": 11,
    "start_time": "2025-06-26T13:44:24.158Z"
   },
   {
    "duration": 36,
    "start_time": "2025-06-26T13:44:24.171Z"
   },
   {
    "duration": 11,
    "start_time": "2025-06-26T13:44:24.208Z"
   },
   {
    "duration": 11,
    "start_time": "2025-06-26T13:44:24.222Z"
   },
   {
    "duration": 44,
    "start_time": "2025-06-26T13:44:24.234Z"
   },
   {
    "duration": 35,
    "start_time": "2025-06-26T13:44:24.280Z"
   },
   {
    "duration": 15,
    "start_time": "2025-06-26T13:44:24.316Z"
   },
   {
    "duration": 25,
    "start_time": "2025-06-26T13:44:24.332Z"
   },
   {
    "duration": 303,
    "start_time": "2025-06-26T13:44:24.360Z"
   },
   {
    "duration": 180,
    "start_time": "2025-06-26T13:44:24.665Z"
   },
   {
    "duration": 278,
    "start_time": "2025-06-26T13:44:24.847Z"
   },
   {
    "duration": 299,
    "start_time": "2025-06-26T13:44:25.129Z"
   },
   {
    "duration": 398,
    "start_time": "2025-06-26T13:44:25.430Z"
   },
   {
    "duration": 302,
    "start_time": "2025-06-26T13:44:25.830Z"
   },
   {
    "duration": 277,
    "start_time": "2025-06-26T13:44:26.134Z"
   },
   {
    "duration": 259,
    "start_time": "2025-06-26T13:44:26.413Z"
   },
   {
    "duration": 322,
    "start_time": "2025-06-26T13:44:26.673Z"
   },
   {
    "duration": 290,
    "start_time": "2025-06-26T13:44:27.004Z"
   },
   {
    "duration": 298,
    "start_time": "2025-06-26T13:44:27.296Z"
   },
   {
    "duration": 311,
    "start_time": "2025-06-26T13:44:27.596Z"
   },
   {
    "duration": 234,
    "start_time": "2025-06-26T13:44:27.909Z"
   },
   {
    "duration": 263,
    "start_time": "2025-06-26T13:44:28.144Z"
   },
   {
    "duration": 268,
    "start_time": "2025-06-26T13:44:28.409Z"
   },
   {
    "duration": 387,
    "start_time": "2025-06-26T13:44:28.679Z"
   },
   {
    "duration": 262,
    "start_time": "2025-06-26T13:44:29.068Z"
   },
   {
    "duration": 254,
    "start_time": "2025-06-26T13:44:29.332Z"
   },
   {
    "duration": 282,
    "start_time": "2025-06-26T13:44:29.587Z"
   },
   {
    "duration": 10,
    "start_time": "2025-06-26T13:44:29.870Z"
   },
   {
    "duration": 164,
    "start_time": "2025-06-26T13:44:29.881Z"
   },
   {
    "duration": 0,
    "start_time": "2025-06-26T13:44:30.047Z"
   },
   {
    "duration": 0,
    "start_time": "2025-06-26T13:44:30.048Z"
   },
   {
    "duration": 0,
    "start_time": "2025-06-26T13:44:30.050Z"
   },
   {
    "duration": 0,
    "start_time": "2025-06-26T13:44:30.051Z"
   },
   {
    "duration": 0,
    "start_time": "2025-06-26T13:44:30.052Z"
   },
   {
    "duration": 0,
    "start_time": "2025-06-26T13:44:30.053Z"
   },
   {
    "duration": 0,
    "start_time": "2025-06-26T13:44:30.054Z"
   },
   {
    "duration": 0,
    "start_time": "2025-06-26T13:44:30.055Z"
   },
   {
    "duration": 0,
    "start_time": "2025-06-26T13:44:30.057Z"
   },
   {
    "duration": 0,
    "start_time": "2025-06-26T13:44:30.058Z"
   },
   {
    "duration": 0,
    "start_time": "2025-06-26T13:44:30.059Z"
   },
   {
    "duration": 0,
    "start_time": "2025-06-26T13:44:30.060Z"
   },
   {
    "duration": 0,
    "start_time": "2025-06-26T13:44:30.061Z"
   },
   {
    "duration": 0,
    "start_time": "2025-06-26T13:44:30.062Z"
   },
   {
    "duration": 11,
    "start_time": "2025-06-26T13:45:15.793Z"
   },
   {
    "duration": 9,
    "start_time": "2025-06-26T13:45:33.239Z"
   },
   {
    "duration": 5,
    "start_time": "2025-06-26T13:45:37.372Z"
   },
   {
    "duration": 12,
    "start_time": "2025-06-26T13:47:59.795Z"
   },
   {
    "duration": 32,
    "start_time": "2025-06-26T13:48:05.127Z"
   },
   {
    "duration": 1679,
    "start_time": "2025-06-26T13:48:08.695Z"
   },
   {
    "duration": 15,
    "start_time": "2025-06-26T13:48:43.348Z"
   },
   {
    "duration": 3387,
    "start_time": "2025-06-26T13:48:47.900Z"
   },
   {
    "duration": 30,
    "start_time": "2025-06-26T13:53:04.202Z"
   },
   {
    "duration": 29,
    "start_time": "2025-06-26T13:53:37.138Z"
   },
   {
    "duration": 20,
    "start_time": "2025-06-26T13:54:05.041Z"
   },
   {
    "duration": 117,
    "start_time": "2025-06-26T13:55:38.626Z"
   },
   {
    "duration": 4,
    "start_time": "2025-06-26T13:55:54.996Z"
   },
   {
    "duration": 17,
    "start_time": "2025-06-26T13:55:56.142Z"
   },
   {
    "duration": 16,
    "start_time": "2025-06-26T13:56:05.142Z"
   },
   {
    "duration": 33858,
    "start_time": "2025-06-26T13:56:14.456Z"
   },
   {
    "duration": 1015,
    "start_time": "2025-06-26T13:56:51.060Z"
   },
   {
    "duration": 22,
    "start_time": "2025-06-26T13:58:22.958Z"
   },
   {
    "duration": 42,
    "start_time": "2025-06-26T13:58:26.792Z"
   },
   {
    "duration": 11,
    "start_time": "2025-06-26T13:58:58.204Z"
   },
   {
    "duration": 755,
    "start_time": "2025-06-26T13:59:00.681Z"
   },
   {
    "duration": 658,
    "start_time": "2025-06-26T13:59:21.900Z"
   },
   {
    "duration": 616,
    "start_time": "2025-06-26T13:59:27.983Z"
   },
   {
    "duration": 51,
    "start_time": "2025-06-27T09:18:25.521Z"
   },
   {
    "duration": 3606,
    "start_time": "2025-06-27T09:18:38.384Z"
   },
   {
    "duration": 4059,
    "start_time": "2025-06-27T09:18:41.992Z"
   },
   {
    "duration": 7067,
    "start_time": "2025-06-27T09:18:46.053Z"
   },
   {
    "duration": 9472,
    "start_time": "2025-06-27T09:18:53.122Z"
   },
   {
    "duration": 2442,
    "start_time": "2025-06-27T09:19:02.596Z"
   },
   {
    "duration": 3,
    "start_time": "2025-06-27T09:19:05.040Z"
   },
   {
    "duration": 153,
    "start_time": "2025-06-27T09:19:05.044Z"
   },
   {
    "duration": 16,
    "start_time": "2025-06-27T09:19:05.199Z"
   },
   {
    "duration": 8,
    "start_time": "2025-06-27T09:19:05.216Z"
   },
   {
    "duration": 18,
    "start_time": "2025-06-27T09:19:05.227Z"
   },
   {
    "duration": 8,
    "start_time": "2025-06-27T09:19:05.247Z"
   },
   {
    "duration": 21,
    "start_time": "2025-06-27T09:19:05.256Z"
   },
   {
    "duration": 24,
    "start_time": "2025-06-27T09:19:05.279Z"
   },
   {
    "duration": 22,
    "start_time": "2025-06-27T09:19:05.304Z"
   },
   {
    "duration": 38,
    "start_time": "2025-06-27T09:19:05.328Z"
   },
   {
    "duration": 28,
    "start_time": "2025-06-27T09:19:05.367Z"
   },
   {
    "duration": 12,
    "start_time": "2025-06-27T09:19:05.396Z"
   },
   {
    "duration": 28,
    "start_time": "2025-06-27T09:19:05.409Z"
   },
   {
    "duration": 11,
    "start_time": "2025-06-27T09:19:05.439Z"
   },
   {
    "duration": 11,
    "start_time": "2025-06-27T09:19:05.460Z"
   },
   {
    "duration": 12,
    "start_time": "2025-06-27T09:19:05.472Z"
   },
   {
    "duration": 53,
    "start_time": "2025-06-27T09:19:05.485Z"
   },
   {
    "duration": 23,
    "start_time": "2025-06-27T09:19:05.540Z"
   },
   {
    "duration": 14,
    "start_time": "2025-06-27T09:19:05.565Z"
   },
   {
    "duration": 298,
    "start_time": "2025-06-27T09:19:05.581Z"
   },
   {
    "duration": 212,
    "start_time": "2025-06-27T09:19:05.882Z"
   },
   {
    "duration": 207,
    "start_time": "2025-06-27T09:19:06.096Z"
   },
   {
    "duration": 353,
    "start_time": "2025-06-27T09:19:06.307Z"
   },
   {
    "duration": 438,
    "start_time": "2025-06-27T09:19:06.662Z"
   },
   {
    "duration": 297,
    "start_time": "2025-06-27T09:19:07.102Z"
   },
   {
    "duration": 296,
    "start_time": "2025-06-27T09:19:07.401Z"
   },
   {
    "duration": 245,
    "start_time": "2025-06-27T09:19:07.698Z"
   },
   {
    "duration": 319,
    "start_time": "2025-06-27T09:19:07.945Z"
   },
   {
    "duration": 303,
    "start_time": "2025-06-27T09:19:08.266Z"
   },
   {
    "duration": 282,
    "start_time": "2025-06-27T09:19:08.571Z"
   },
   {
    "duration": 320,
    "start_time": "2025-06-27T09:19:08.855Z"
   },
   {
    "duration": 234,
    "start_time": "2025-06-27T09:19:09.176Z"
   },
   {
    "duration": 299,
    "start_time": "2025-06-27T09:19:09.412Z"
   },
   {
    "duration": 16,
    "start_time": "2025-06-27T09:19:09.713Z"
   },
   {
    "duration": 303,
    "start_time": "2025-06-27T09:19:09.730Z"
   },
   {
    "duration": 410,
    "start_time": "2025-06-27T09:19:10.035Z"
   },
   {
    "duration": 246,
    "start_time": "2025-06-27T09:19:10.447Z"
   },
   {
    "duration": 249,
    "start_time": "2025-06-27T09:19:10.695Z"
   },
   {
    "duration": 285,
    "start_time": "2025-06-27T09:19:10.946Z"
   },
   {
    "duration": 10,
    "start_time": "2025-06-27T09:19:11.233Z"
   },
   {
    "duration": 16,
    "start_time": "2025-06-27T09:19:11.245Z"
   },
   {
    "duration": 35,
    "start_time": "2025-06-27T09:19:11.263Z"
   },
   {
    "duration": 1721,
    "start_time": "2025-06-27T09:19:11.300Z"
   },
   {
    "duration": 15,
    "start_time": "2025-06-27T09:19:13.023Z"
   },
   {
    "duration": 3720,
    "start_time": "2025-06-27T09:19:13.040Z"
   },
   {
    "duration": 28,
    "start_time": "2025-06-27T09:19:16.762Z"
   },
   {
    "duration": 5,
    "start_time": "2025-06-27T09:19:16.793Z"
   },
   {
    "duration": 97,
    "start_time": "2025-06-27T09:19:16.799Z"
   },
   {
    "duration": 34166,
    "start_time": "2025-06-27T09:19:16.898Z"
   },
   {
    "duration": 1033,
    "start_time": "2025-06-27T09:19:51.066Z"
   },
   {
    "duration": 25,
    "start_time": "2025-06-27T09:19:52.101Z"
   },
   {
    "duration": 198,
    "start_time": "2025-06-27T09:19:52.128Z"
   },
   {
    "duration": 10,
    "start_time": "2025-06-27T09:19:52.328Z"
   },
   {
    "duration": 634,
    "start_time": "2025-06-27T09:19:52.339Z"
   },
   {
    "duration": 595,
    "start_time": "2025-06-27T09:19:52.975Z"
   },
   {
    "duration": 592,
    "start_time": "2025-06-27T09:19:53.572Z"
   },
   {
    "duration": 270,
    "start_time": "2025-06-27T09:20:37.793Z"
   },
   {
    "duration": 151,
    "start_time": "2025-06-27T09:24:23.732Z"
   },
   {
    "duration": 15,
    "start_time": "2025-06-27T09:24:28.515Z"
   },
   {
    "duration": 18,
    "start_time": "2025-06-27T09:27:00.698Z"
   },
   {
    "duration": 4,
    "start_time": "2025-06-27T09:27:18.729Z"
   },
   {
    "duration": 247,
    "start_time": "2025-06-27T09:27:30.374Z"
   },
   {
    "duration": 6,
    "start_time": "2025-06-27T09:27:36.753Z"
   },
   {
    "duration": 30,
    "start_time": "2025-06-27T09:31:38.583Z"
   },
   {
    "duration": 21,
    "start_time": "2025-06-27T09:32:08.813Z"
   },
   {
    "duration": 40,
    "start_time": "2025-06-27T09:32:59.026Z"
   },
   {
    "duration": 45,
    "start_time": "2025-06-28T09:55:45.204Z"
   },
   {
    "duration": 3195,
    "start_time": "2025-06-28T09:55:52.205Z"
   },
   {
    "duration": 3863,
    "start_time": "2025-06-28T09:55:55.403Z"
   },
   {
    "duration": 6680,
    "start_time": "2025-06-28T09:55:59.268Z"
   },
   {
    "duration": 7541,
    "start_time": "2025-06-28T09:56:05.950Z"
   },
   {
    "duration": 2132,
    "start_time": "2025-06-28T09:56:13.493Z"
   },
   {
    "duration": 3,
    "start_time": "2025-06-28T09:56:15.626Z"
   },
   {
    "duration": 237,
    "start_time": "2025-06-28T09:56:15.630Z"
   },
   {
    "duration": 16,
    "start_time": "2025-06-28T09:56:15.868Z"
   },
   {
    "duration": 7,
    "start_time": "2025-06-28T09:56:15.885Z"
   },
   {
    "duration": 7,
    "start_time": "2025-06-28T09:56:15.894Z"
   },
   {
    "duration": 11,
    "start_time": "2025-06-28T09:56:15.903Z"
   },
   {
    "duration": 21,
    "start_time": "2025-06-28T09:56:15.915Z"
   },
   {
    "duration": 23,
    "start_time": "2025-06-28T09:56:15.938Z"
   },
   {
    "duration": 23,
    "start_time": "2025-06-28T09:56:15.964Z"
   },
   {
    "duration": 44,
    "start_time": "2025-06-28T09:56:15.989Z"
   },
   {
    "duration": 24,
    "start_time": "2025-06-28T09:56:16.035Z"
   },
   {
    "duration": 10,
    "start_time": "2025-06-28T09:56:16.061Z"
   },
   {
    "duration": 5,
    "start_time": "2025-06-28T09:56:16.073Z"
   },
   {
    "duration": 12,
    "start_time": "2025-06-28T09:56:16.079Z"
   },
   {
    "duration": 32,
    "start_time": "2025-06-28T09:56:16.092Z"
   },
   {
    "duration": 17,
    "start_time": "2025-06-28T09:56:16.126Z"
   },
   {
    "duration": 32,
    "start_time": "2025-06-28T09:56:16.144Z"
   },
   {
    "duration": 12,
    "start_time": "2025-06-28T09:56:16.178Z"
   },
   {
    "duration": 22,
    "start_time": "2025-06-28T09:56:16.191Z"
   },
   {
    "duration": 302,
    "start_time": "2025-06-28T09:56:16.215Z"
   },
   {
    "duration": 219,
    "start_time": "2025-06-28T09:56:16.519Z"
   },
   {
    "duration": 209,
    "start_time": "2025-06-28T09:56:16.740Z"
   },
   {
    "duration": 273,
    "start_time": "2025-06-28T09:56:16.951Z"
   },
   {
    "duration": 390,
    "start_time": "2025-06-28T09:56:17.225Z"
   },
   {
    "duration": 290,
    "start_time": "2025-06-28T09:56:17.617Z"
   },
   {
    "duration": 294,
    "start_time": "2025-06-28T09:56:17.909Z"
   },
   {
    "duration": 268,
    "start_time": "2025-06-28T09:56:18.204Z"
   },
   {
    "duration": 256,
    "start_time": "2025-06-28T09:56:18.474Z"
   },
   {
    "duration": 282,
    "start_time": "2025-06-28T09:56:18.736Z"
   },
   {
    "duration": 282,
    "start_time": "2025-06-28T09:56:19.020Z"
   },
   {
    "duration": 300,
    "start_time": "2025-06-28T09:56:19.304Z"
   },
   {
    "duration": 259,
    "start_time": "2025-06-28T09:56:19.605Z"
   },
   {
    "duration": 224,
    "start_time": "2025-06-28T09:56:19.865Z"
   },
   {
    "duration": 13,
    "start_time": "2025-06-28T09:56:20.091Z"
   },
   {
    "duration": 24,
    "start_time": "2025-06-28T09:56:20.105Z"
   },
   {
    "duration": 255,
    "start_time": "2025-06-28T09:56:20.132Z"
   },
   {
    "duration": 382,
    "start_time": "2025-06-28T09:56:20.389Z"
   },
   {
    "duration": 195,
    "start_time": "2025-06-28T09:56:20.773Z"
   },
   {
    "duration": 230,
    "start_time": "2025-06-28T09:56:20.970Z"
   },
   {
    "duration": 270,
    "start_time": "2025-06-28T09:56:21.202Z"
   },
   {
    "duration": 9,
    "start_time": "2025-06-28T09:56:21.474Z"
   },
   {
    "duration": 81,
    "start_time": "2025-06-28T09:56:21.484Z"
   },
   {
    "duration": 105,
    "start_time": "2025-06-28T09:56:21.567Z"
   },
   {
    "duration": 1419,
    "start_time": "2025-06-28T09:56:21.674Z"
   },
   {
    "duration": 13,
    "start_time": "2025-06-28T09:56:23.094Z"
   },
   {
    "duration": 2983,
    "start_time": "2025-06-28T09:56:23.108Z"
   },
   {
    "duration": 26,
    "start_time": "2025-06-28T09:56:26.093Z"
   },
   {
    "duration": 17,
    "start_time": "2025-06-28T09:56:26.120Z"
   },
   {
    "duration": 31,
    "start_time": "2025-06-28T09:56:26.138Z"
   },
   {
    "duration": 30666,
    "start_time": "2025-06-28T09:56:26.170Z"
   },
   {
    "duration": 884,
    "start_time": "2025-06-28T09:56:56.839Z"
   },
   {
    "duration": 27,
    "start_time": "2025-06-28T09:56:57.725Z"
   },
   {
    "duration": 167,
    "start_time": "2025-06-28T09:56:57.754Z"
   },
   {
    "duration": 17,
    "start_time": "2025-06-28T09:56:57.922Z"
   },
   {
    "duration": 565,
    "start_time": "2025-06-28T09:56:57.940Z"
   },
   {
    "duration": 608,
    "start_time": "2025-06-28T09:56:58.507Z"
   },
   {
    "duration": 583,
    "start_time": "2025-06-28T09:56:59.117Z"
   },
   {
    "duration": 10,
    "start_time": "2025-06-28T09:57:14.723Z"
   },
   {
    "duration": 5,
    "start_time": "2025-06-28T09:57:22.982Z"
   },
   {
    "duration": 5,
    "start_time": "2025-06-28T09:57:35.181Z"
   },
   {
    "duration": 199,
    "start_time": "2025-06-28T09:58:22.283Z"
   },
   {
    "duration": 2372,
    "start_time": "2025-06-28T10:01:14.472Z"
   },
   {
    "duration": 2316,
    "start_time": "2025-06-28T10:01:16.846Z"
   },
   {
    "duration": 2923,
    "start_time": "2025-06-28T10:01:19.164Z"
   },
   {
    "duration": 2253,
    "start_time": "2025-06-28T10:01:22.089Z"
   },
   {
    "duration": 1940,
    "start_time": "2025-06-28T10:01:24.344Z"
   },
   {
    "duration": 3,
    "start_time": "2025-06-28T10:01:26.285Z"
   },
   {
    "duration": 97,
    "start_time": "2025-06-28T10:01:26.289Z"
   },
   {
    "duration": 14,
    "start_time": "2025-06-28T10:01:26.387Z"
   },
   {
    "duration": 18,
    "start_time": "2025-06-28T10:01:26.403Z"
   },
   {
    "duration": 13,
    "start_time": "2025-06-28T10:01:26.423Z"
   },
   {
    "duration": 20,
    "start_time": "2025-06-28T10:01:26.437Z"
   },
   {
    "duration": 18,
    "start_time": "2025-06-28T10:01:26.458Z"
   },
   {
    "duration": 64,
    "start_time": "2025-06-28T10:01:26.478Z"
   },
   {
    "duration": 85,
    "start_time": "2025-06-28T10:01:26.545Z"
   },
   {
    "duration": 6,
    "start_time": "2025-06-28T10:01:26.632Z"
   },
   {
    "duration": 21,
    "start_time": "2025-06-28T10:01:26.640Z"
   },
   {
    "duration": 11,
    "start_time": "2025-06-28T10:01:26.663Z"
   },
   {
    "duration": 5,
    "start_time": "2025-06-28T10:01:26.675Z"
   },
   {
    "duration": 8,
    "start_time": "2025-06-28T10:01:26.681Z"
   },
   {
    "duration": 50,
    "start_time": "2025-06-28T10:01:26.690Z"
   },
   {
    "duration": 9,
    "start_time": "2025-06-28T10:01:26.741Z"
   },
   {
    "duration": 39,
    "start_time": "2025-06-28T10:01:26.751Z"
   },
   {
    "duration": 13,
    "start_time": "2025-06-28T10:01:26.791Z"
   },
   {
    "duration": 32,
    "start_time": "2025-06-28T10:01:26.806Z"
   },
   {
    "duration": 234,
    "start_time": "2025-06-28T10:01:26.840Z"
   },
   {
    "duration": 200,
    "start_time": "2025-06-28T10:01:27.076Z"
   },
   {
    "duration": 186,
    "start_time": "2025-06-28T10:01:27.278Z"
   },
   {
    "duration": 265,
    "start_time": "2025-06-28T10:01:27.465Z"
   },
   {
    "duration": 383,
    "start_time": "2025-06-28T10:01:27.736Z"
   },
   {
    "duration": 287,
    "start_time": "2025-06-28T10:01:28.120Z"
   },
   {
    "duration": 294,
    "start_time": "2025-06-28T10:01:28.408Z"
   },
   {
    "duration": 273,
    "start_time": "2025-06-28T10:01:28.703Z"
   },
   {
    "duration": 280,
    "start_time": "2025-06-28T10:01:28.978Z"
   },
   {
    "duration": 249,
    "start_time": "2025-06-28T10:01:29.260Z"
   },
   {
    "duration": 277,
    "start_time": "2025-06-28T10:01:29.511Z"
   },
   {
    "duration": 309,
    "start_time": "2025-06-28T10:01:29.790Z"
   },
   {
    "duration": 177,
    "start_time": "2025-06-28T10:01:30.101Z"
   },
   {
    "duration": 298,
    "start_time": "2025-06-28T10:01:30.280Z"
   },
   {
    "duration": 15,
    "start_time": "2025-06-28T10:01:30.580Z"
   },
   {
    "duration": 35,
    "start_time": "2025-06-28T10:01:30.597Z"
   },
   {
    "duration": 260,
    "start_time": "2025-06-28T10:01:30.638Z"
   },
   {
    "duration": 390,
    "start_time": "2025-06-28T10:01:30.900Z"
   },
   {
    "duration": 272,
    "start_time": "2025-06-28T10:01:31.292Z"
   },
   {
    "duration": 207,
    "start_time": "2025-06-28T10:01:31.566Z"
   },
   {
    "duration": 230,
    "start_time": "2025-06-28T10:01:31.775Z"
   },
   {
    "duration": 271,
    "start_time": "2025-06-28T10:01:32.007Z"
   },
   {
    "duration": 8,
    "start_time": "2025-06-28T10:01:32.280Z"
   },
   {
    "duration": 35,
    "start_time": "2025-06-28T10:01:32.290Z"
   },
   {
    "duration": 27,
    "start_time": "2025-06-28T10:01:32.327Z"
   },
   {
    "duration": 1437,
    "start_time": "2025-06-28T10:01:32.356Z"
   },
   {
    "duration": 12,
    "start_time": "2025-06-28T10:01:33.795Z"
   },
   {
    "duration": 3008,
    "start_time": "2025-06-28T10:01:33.808Z"
   },
   {
    "duration": 40,
    "start_time": "2025-06-28T10:01:36.817Z"
   },
   {
    "duration": 3,
    "start_time": "2025-06-28T10:01:36.859Z"
   },
   {
    "duration": 53,
    "start_time": "2025-06-28T10:01:36.864Z"
   },
   {
    "duration": 33927,
    "start_time": "2025-06-28T10:01:36.919Z"
   },
   {
    "duration": 864,
    "start_time": "2025-06-28T10:02:10.937Z"
   },
   {
    "duration": 19,
    "start_time": "2025-06-28T10:02:11.803Z"
   },
   {
    "duration": 168,
    "start_time": "2025-06-28T10:02:11.824Z"
   },
   {
    "duration": 8,
    "start_time": "2025-06-28T10:02:11.994Z"
   },
   {
    "duration": 632,
    "start_time": "2025-06-28T10:02:12.004Z"
   },
   {
    "duration": 565,
    "start_time": "2025-06-28T10:02:12.638Z"
   },
   {
    "duration": 592,
    "start_time": "2025-06-28T10:02:13.205Z"
   }
  ],
  "colab": {
   "provenance": []
  },
  "kernelspec": {
   "display_name": "Python 3 (ipykernel)",
   "language": "python",
   "name": "python3"
  },
  "language_info": {
   "codemirror_mode": {
    "name": "ipython",
    "version": 3
   },
   "file_extension": ".py",
   "mimetype": "text/x-python",
   "name": "python",
   "nbconvert_exporter": "python",
   "pygments_lexer": "ipython3",
   "version": "3.9.5"
  },
  "toc": {
   "base_numbering": 1,
   "nav_menu": {
    "height": "214px",
    "width": "182px"
   },
   "number_sections": true,
   "sideBar": true,
   "skip_h1_title": true,
   "title_cell": "1",
   "title_sidebar": "Contents",
   "toc_cell": false,
   "toc_position": {
    "height": "calc(100% - 180px)",
    "left": "10px",
    "top": "150px",
    "width": "165px"
   },
   "toc_section_display": true,
   "toc_window_display": true
  }
 },
 "nbformat": 4,
 "nbformat_minor": 1
}
